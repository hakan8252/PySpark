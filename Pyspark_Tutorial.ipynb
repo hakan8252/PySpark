{
  "nbformat": 4,
  "nbformat_minor": 0,
  "metadata": {
    "colab": {
      "provenance": []
    },
    "kernelspec": {
      "name": "python3",
      "display_name": "Python 3"
    },
    "language_info": {
      "name": "python"
    }
  },
  "cells": [
    {
      "cell_type": "code",
      "execution_count": 1,
      "metadata": {
        "colab": {
          "base_uri": "https://localhost:8080/"
        },
        "id": "pKOzhzjeXzmV",
        "outputId": "479348ad-9c9b-4046-901e-ca31b72bd28f"
      },
      "outputs": [
        {
          "output_type": "stream",
          "name": "stdout",
          "text": [
            "Looking in indexes: https://pypi.org/simple, https://us-python.pkg.dev/colab-wheels/public/simple/\n",
            "Collecting pyspark\n",
            "  Downloading pyspark-3.3.2.tar.gz (281.4 MB)\n",
            "\u001b[2K     \u001b[90m━━━━━━━━━━━━━━━━━━━━━━━━━━━━━━━━━━━━━━━\u001b[0m \u001b[32m281.4/281.4 MB\u001b[0m \u001b[31m5.1 MB/s\u001b[0m eta \u001b[36m0:00:00\u001b[0m\n",
            "\u001b[?25h  Preparing metadata (setup.py) ... \u001b[?25l\u001b[?25hdone\n",
            "Collecting py4j==0.10.9.5\n",
            "  Downloading py4j-0.10.9.5-py2.py3-none-any.whl (199 kB)\n",
            "\u001b[2K     \u001b[90m━━━━━━━━━━━━━━━━━━━━━━━━━━━━━━━━━━━━━━\u001b[0m \u001b[32m199.7/199.7 KB\u001b[0m \u001b[31m18.2 MB/s\u001b[0m eta \u001b[36m0:00:00\u001b[0m\n",
            "\u001b[?25hBuilding wheels for collected packages: pyspark\n",
            "  Building wheel for pyspark (setup.py) ... \u001b[?25l\u001b[?25hdone\n",
            "  Created wheel for pyspark: filename=pyspark-3.3.2-py2.py3-none-any.whl size=281824028 sha256=021096392db74f07c205d76d1db76bb31d752ebb0624613fa20643a5130127dd\n",
            "  Stored in directory: /root/.cache/pip/wheels/6c/e3/9b/0525ce8a69478916513509d43693511463c6468db0de237c86\n",
            "Successfully built pyspark\n",
            "Installing collected packages: py4j, pyspark\n",
            "  Attempting uninstall: py4j\n",
            "    Found existing installation: py4j 0.10.9.7\n",
            "    Uninstalling py4j-0.10.9.7:\n",
            "      Successfully uninstalled py4j-0.10.9.7\n",
            "Successfully installed py4j-0.10.9.5 pyspark-3.3.2\n"
          ]
        }
      ],
      "source": [
        "!pip install pyspark"
      ]
    },
    {
      "cell_type": "code",
      "source": [
        "import numpy as np"
      ],
      "metadata": {
        "id": "NFl6QJaQsdk_"
      },
      "execution_count": 36,
      "outputs": []
    },
    {
      "cell_type": "code",
      "source": [
        "from pyspark.sql import SparkSession\n",
        "\n",
        "spark = SparkSession.builder\\\n",
        "        .appName(\"Colab\")\\\n",
        "        .getOrCreate()\n",
        "\n",
        "spark"
      ],
      "metadata": {
        "colab": {
          "base_uri": "https://localhost:8080/",
          "height": 219
        },
        "id": "Ql1uPyjeX6OM",
        "outputId": "ce0e3414-f553-45da-8d6d-45e8ebe4b3f2"
      },
      "execution_count": 2,
      "outputs": [
        {
          "output_type": "execute_result",
          "data": {
            "text/plain": [
              "<pyspark.sql.session.SparkSession at 0x7f2c6837dd90>"
            ],
            "text/html": [
              "\n",
              "            <div>\n",
              "                <p><b>SparkSession - in-memory</b></p>\n",
              "                \n",
              "        <div>\n",
              "            <p><b>SparkContext</b></p>\n",
              "\n",
              "            <p><a href=\"http://30a43f694da3:4040\">Spark UI</a></p>\n",
              "\n",
              "            <dl>\n",
              "              <dt>Version</dt>\n",
              "                <dd><code>v3.3.2</code></dd>\n",
              "              <dt>Master</dt>\n",
              "                <dd><code>local[*]</code></dd>\n",
              "              <dt>AppName</dt>\n",
              "                <dd><code>Colab</code></dd>\n",
              "            </dl>\n",
              "        </div>\n",
              "        \n",
              "            </div>\n",
              "        "
            ]
          },
          "metadata": {},
          "execution_count": 2
        }
      ]
    },
    {
      "cell_type": "code",
      "source": [
        "def grab_col_names(dataframe, cat_th=10, car_th=20):\n",
        "    # cat_cols, cat_but_car\n",
        "    cat_cols = [col for col in dataframe.columns if dataframe.select(col).dtypes[0][1] == \"string\"]\n",
        "    num_but_cat = [col for col in dataframe.columns if len(dataframe.select(col).distinct().collect()) < cat_th and\n",
        "                   dataframe.select(col).dtypes[0][1] != \"string\"]\n",
        "    cat_but_car = [col for col in dataframe.columns if len(dataframe.select(col).distinct().collect()) > car_th and\n",
        "                   dataframe.select(col).dtypes[0][1] == \"string\"]\n",
        "    cat_cols = cat_cols + num_but_cat\n",
        "    cat_cols = [col for col in cat_cols if col not in cat_but_car]\n",
        "\n",
        "    # num_cols\n",
        "    num_cols = [col for col in dataframe.columns if dataframe.select(col).dtypes[0][1] != \"string\"]\n",
        "    num_cols = [col for col in num_cols if col not in num_but_cat]\n",
        "\n",
        "    print(f\"Observations: {dataframe.count()}\")\n",
        "    print(f\"Variables: { len(dataframe.columns)}\")\n",
        "    print(f'cat_cols: {len(cat_cols)}')\n",
        "    print(f'num_cols: {len(num_cols)}')\n",
        "    print(f'cat_but_car: {len(cat_but_car)}')\n",
        "    print(f'num_but_cat: {len(num_but_cat)}')\n",
        "    return cat_cols, num_cols, cat_but_car"
      ],
      "metadata": {
        "id": "KvYs-TvibTsn"
      },
      "execution_count": 8,
      "outputs": []
    },
    {
      "cell_type": "code",
      "source": [
        "spark.conf.set('spark.sql.repl.eagerEval.enabled', True)\n",
        "\n",
        "df_pyspark = spark.read.csv(\"/content/train.csv\", header = True, inferSchema = True) # second way to read\n",
        "df_pyspark"
      ],
      "metadata": {
        "colab": {
          "base_uri": "https://localhost:8080/",
          "height": 549
        },
        "id": "qMHo9R9tX88l",
        "outputId": "4d31ab77-1886-477b-a688-72177ef4af2b"
      },
      "execution_count": 6,
      "outputs": [
        {
          "output_type": "execute_result",
          "data": {
            "text/plain": [
              "+---+----------+--------+-----------+-------+------+-----+--------+-----------+---------+---------+---------+------------+----------+----------+--------+----------+-----------+-----------+---------+------------+---------+--------+-----------+-----------+----------+----------+---------+---------+----------+--------+--------+------------+------------+----------+------------+----------+---------+-----------+-------+---------+----------+----------+--------+--------+------------+---------+------------+------------+--------+--------+------------+------------+-----------+------------+----------+----------+-----------+----------+-----------+------------+----------+----------+----------+----------+----------+----------+-----------+-------------+---------+-----------+--------+------+-----+-----------+-------+------+------+--------+-------------+---------+\n",
              "| Id|MSSubClass|MSZoning|LotFrontage|LotArea|Street|Alley|LotShape|LandContour|Utilities|LotConfig|LandSlope|Neighborhood|Condition1|Condition2|BldgType|HouseStyle|OverallQual|OverallCond|YearBuilt|YearRemodAdd|RoofStyle|RoofMatl|Exterior1st|Exterior2nd|MasVnrType|MasVnrArea|ExterQual|ExterCond|Foundation|BsmtQual|BsmtCond|BsmtExposure|BsmtFinType1|BsmtFinSF1|BsmtFinType2|BsmtFinSF2|BsmtUnfSF|TotalBsmtSF|Heating|HeatingQC|CentralAir|Electrical|1stFlrSF|2ndFlrSF|LowQualFinSF|GrLivArea|BsmtFullBath|BsmtHalfBath|FullBath|HalfBath|BedroomAbvGr|KitchenAbvGr|KitchenQual|TotRmsAbvGrd|Functional|Fireplaces|FireplaceQu|GarageType|GarageYrBlt|GarageFinish|GarageCars|GarageArea|GarageQual|GarageCond|PavedDrive|WoodDeckSF|OpenPorchSF|EnclosedPorch|3SsnPorch|ScreenPorch|PoolArea|PoolQC|Fence|MiscFeature|MiscVal|MoSold|YrSold|SaleType|SaleCondition|SalePrice|\n",
              "+---+----------+--------+-----------+-------+------+-----+--------+-----------+---------+---------+---------+------------+----------+----------+--------+----------+-----------+-----------+---------+------------+---------+--------+-----------+-----------+----------+----------+---------+---------+----------+--------+--------+------------+------------+----------+------------+----------+---------+-----------+-------+---------+----------+----------+--------+--------+------------+---------+------------+------------+--------+--------+------------+------------+-----------+------------+----------+----------+-----------+----------+-----------+------------+----------+----------+----------+----------+----------+----------+-----------+-------------+---------+-----------+--------+------+-----+-----------+-------+------+------+--------+-------------+---------+\n",
              "|  1|        60|      RL|         65|   8450|  Pave|   NA|     Reg|        Lvl|   AllPub|   Inside|      Gtl|     CollgCr|      Norm|      Norm|    1Fam|    2Story|          7|          5|     2003|        2003|    Gable| CompShg|    VinylSd|    VinylSd|   BrkFace|       196|       Gd|       TA|     PConc|      Gd|      TA|          No|         GLQ|       706|         Unf|         0|      150|        856|   GasA|       Ex|         Y|     SBrkr|     856|     854|           0|     1710|           1|           0|       2|       1|           3|           1|         Gd|           8|       Typ|         0|         NA|    Attchd|       2003|         RFn|         2|       548|        TA|        TA|         Y|         0|         61|            0|        0|          0|       0|    NA|   NA|         NA|      0|     2|  2008|      WD|       Normal|   208500|\n",
              "|  2|        20|      RL|         80|   9600|  Pave|   NA|     Reg|        Lvl|   AllPub|      FR2|      Gtl|     Veenker|     Feedr|      Norm|    1Fam|    1Story|          6|          8|     1976|        1976|    Gable| CompShg|    MetalSd|    MetalSd|      None|         0|       TA|       TA|    CBlock|      Gd|      TA|          Gd|         ALQ|       978|         Unf|         0|      284|       1262|   GasA|       Ex|         Y|     SBrkr|    1262|       0|           0|     1262|           0|           1|       2|       0|           3|           1|         TA|           6|       Typ|         1|         TA|    Attchd|       1976|         RFn|         2|       460|        TA|        TA|         Y|       298|          0|            0|        0|          0|       0|    NA|   NA|         NA|      0|     5|  2007|      WD|       Normal|   181500|\n",
              "|  3|        60|      RL|         68|  11250|  Pave|   NA|     IR1|        Lvl|   AllPub|   Inside|      Gtl|     CollgCr|      Norm|      Norm|    1Fam|    2Story|          7|          5|     2001|        2002|    Gable| CompShg|    VinylSd|    VinylSd|   BrkFace|       162|       Gd|       TA|     PConc|      Gd|      TA|          Mn|         GLQ|       486|         Unf|         0|      434|        920|   GasA|       Ex|         Y|     SBrkr|     920|     866|           0|     1786|           1|           0|       2|       1|           3|           1|         Gd|           6|       Typ|         1|         TA|    Attchd|       2001|         RFn|         2|       608|        TA|        TA|         Y|         0|         42|            0|        0|          0|       0|    NA|   NA|         NA|      0|     9|  2008|      WD|       Normal|   223500|\n",
              "|  4|        70|      RL|         60|   9550|  Pave|   NA|     IR1|        Lvl|   AllPub|   Corner|      Gtl|     Crawfor|      Norm|      Norm|    1Fam|    2Story|          7|          5|     1915|        1970|    Gable| CompShg|    Wd Sdng|    Wd Shng|      None|         0|       TA|       TA|    BrkTil|      TA|      Gd|          No|         ALQ|       216|         Unf|         0|      540|        756|   GasA|       Gd|         Y|     SBrkr|     961|     756|           0|     1717|           1|           0|       1|       0|           3|           1|         Gd|           7|       Typ|         1|         Gd|    Detchd|       1998|         Unf|         3|       642|        TA|        TA|         Y|         0|         35|          272|        0|          0|       0|    NA|   NA|         NA|      0|     2|  2006|      WD|      Abnorml|   140000|\n",
              "|  5|        60|      RL|         84|  14260|  Pave|   NA|     IR1|        Lvl|   AllPub|      FR2|      Gtl|     NoRidge|      Norm|      Norm|    1Fam|    2Story|          8|          5|     2000|        2000|    Gable| CompShg|    VinylSd|    VinylSd|   BrkFace|       350|       Gd|       TA|     PConc|      Gd|      TA|          Av|         GLQ|       655|         Unf|         0|      490|       1145|   GasA|       Ex|         Y|     SBrkr|    1145|    1053|           0|     2198|           1|           0|       2|       1|           4|           1|         Gd|           9|       Typ|         1|         TA|    Attchd|       2000|         RFn|         3|       836|        TA|        TA|         Y|       192|         84|            0|        0|          0|       0|    NA|   NA|         NA|      0|    12|  2008|      WD|       Normal|   250000|\n",
              "|  6|        50|      RL|         85|  14115|  Pave|   NA|     IR1|        Lvl|   AllPub|   Inside|      Gtl|     Mitchel|      Norm|      Norm|    1Fam|    1.5Fin|          5|          5|     1993|        1995|    Gable| CompShg|    VinylSd|    VinylSd|      None|         0|       TA|       TA|      Wood|      Gd|      TA|          No|         GLQ|       732|         Unf|         0|       64|        796|   GasA|       Ex|         Y|     SBrkr|     796|     566|           0|     1362|           1|           0|       1|       1|           1|           1|         TA|           5|       Typ|         0|         NA|    Attchd|       1993|         Unf|         2|       480|        TA|        TA|         Y|        40|         30|            0|      320|          0|       0|    NA|MnPrv|       Shed|    700|    10|  2009|      WD|       Normal|   143000|\n",
              "|  7|        20|      RL|         75|  10084|  Pave|   NA|     Reg|        Lvl|   AllPub|   Inside|      Gtl|     Somerst|      Norm|      Norm|    1Fam|    1Story|          8|          5|     2004|        2005|    Gable| CompShg|    VinylSd|    VinylSd|     Stone|       186|       Gd|       TA|     PConc|      Ex|      TA|          Av|         GLQ|      1369|         Unf|         0|      317|       1686|   GasA|       Ex|         Y|     SBrkr|    1694|       0|           0|     1694|           1|           0|       2|       0|           3|           1|         Gd|           7|       Typ|         1|         Gd|    Attchd|       2004|         RFn|         2|       636|        TA|        TA|         Y|       255|         57|            0|        0|          0|       0|    NA|   NA|         NA|      0|     8|  2007|      WD|       Normal|   307000|\n",
              "|  8|        60|      RL|         NA|  10382|  Pave|   NA|     IR1|        Lvl|   AllPub|   Corner|      Gtl|      NWAmes|      PosN|      Norm|    1Fam|    2Story|          7|          6|     1973|        1973|    Gable| CompShg|    HdBoard|    HdBoard|     Stone|       240|       TA|       TA|    CBlock|      Gd|      TA|          Mn|         ALQ|       859|         BLQ|        32|      216|       1107|   GasA|       Ex|         Y|     SBrkr|    1107|     983|           0|     2090|           1|           0|       2|       1|           3|           1|         TA|           7|       Typ|         2|         TA|    Attchd|       1973|         RFn|         2|       484|        TA|        TA|         Y|       235|        204|          228|        0|          0|       0|    NA|   NA|       Shed|    350|    11|  2009|      WD|       Normal|   200000|\n",
              "|  9|        50|      RM|         51|   6120|  Pave|   NA|     Reg|        Lvl|   AllPub|   Inside|      Gtl|     OldTown|    Artery|      Norm|    1Fam|    1.5Fin|          7|          5|     1931|        1950|    Gable| CompShg|    BrkFace|    Wd Shng|      None|         0|       TA|       TA|    BrkTil|      TA|      TA|          No|         Unf|         0|         Unf|         0|      952|        952|   GasA|       Gd|         Y|     FuseF|    1022|     752|           0|     1774|           0|           0|       2|       0|           2|           2|         TA|           8|      Min1|         2|         TA|    Detchd|       1931|         Unf|         2|       468|        Fa|        TA|         Y|        90|          0|          205|        0|          0|       0|    NA|   NA|         NA|      0|     4|  2008|      WD|      Abnorml|   129900|\n",
              "| 10|       190|      RL|         50|   7420|  Pave|   NA|     Reg|        Lvl|   AllPub|   Corner|      Gtl|     BrkSide|    Artery|    Artery|  2fmCon|    1.5Unf|          5|          6|     1939|        1950|    Gable| CompShg|    MetalSd|    MetalSd|      None|         0|       TA|       TA|    BrkTil|      TA|      TA|          No|         GLQ|       851|         Unf|         0|      140|        991|   GasA|       Ex|         Y|     SBrkr|    1077|       0|           0|     1077|           1|           0|       1|       0|           2|           2|         TA|           5|       Typ|         2|         TA|    Attchd|       1939|         RFn|         1|       205|        Gd|        TA|         Y|         0|          4|            0|        0|          0|       0|    NA|   NA|         NA|      0|     1|  2008|      WD|       Normal|   118000|\n",
              "| 11|        20|      RL|         70|  11200|  Pave|   NA|     Reg|        Lvl|   AllPub|   Inside|      Gtl|      Sawyer|      Norm|      Norm|    1Fam|    1Story|          5|          5|     1965|        1965|      Hip| CompShg|    HdBoard|    HdBoard|      None|         0|       TA|       TA|    CBlock|      TA|      TA|          No|         Rec|       906|         Unf|         0|      134|       1040|   GasA|       Ex|         Y|     SBrkr|    1040|       0|           0|     1040|           1|           0|       1|       0|           3|           1|         TA|           5|       Typ|         0|         NA|    Detchd|       1965|         Unf|         1|       384|        TA|        TA|         Y|         0|          0|            0|        0|          0|       0|    NA|   NA|         NA|      0|     2|  2008|      WD|       Normal|   129500|\n",
              "| 12|        60|      RL|         85|  11924|  Pave|   NA|     IR1|        Lvl|   AllPub|   Inside|      Gtl|     NridgHt|      Norm|      Norm|    1Fam|    2Story|          9|          5|     2005|        2006|      Hip| CompShg|    WdShing|    Wd Shng|     Stone|       286|       Ex|       TA|     PConc|      Ex|      TA|          No|         GLQ|       998|         Unf|         0|      177|       1175|   GasA|       Ex|         Y|     SBrkr|    1182|    1142|           0|     2324|           1|           0|       3|       0|           4|           1|         Ex|          11|       Typ|         2|         Gd|   BuiltIn|       2005|         Fin|         3|       736|        TA|        TA|         Y|       147|         21|            0|        0|          0|       0|    NA|   NA|         NA|      0|     7|  2006|     New|      Partial|   345000|\n",
              "| 13|        20|      RL|         NA|  12968|  Pave|   NA|     IR2|        Lvl|   AllPub|   Inside|      Gtl|      Sawyer|      Norm|      Norm|    1Fam|    1Story|          5|          6|     1962|        1962|      Hip| CompShg|    HdBoard|    Plywood|      None|         0|       TA|       TA|    CBlock|      TA|      TA|          No|         ALQ|       737|         Unf|         0|      175|        912|   GasA|       TA|         Y|     SBrkr|     912|       0|           0|      912|           1|           0|       1|       0|           2|           1|         TA|           4|       Typ|         0|         NA|    Detchd|       1962|         Unf|         1|       352|        TA|        TA|         Y|       140|          0|            0|        0|        176|       0|    NA|   NA|         NA|      0|     9|  2008|      WD|       Normal|   144000|\n",
              "| 14|        20|      RL|         91|  10652|  Pave|   NA|     IR1|        Lvl|   AllPub|   Inside|      Gtl|     CollgCr|      Norm|      Norm|    1Fam|    1Story|          7|          5|     2006|        2007|    Gable| CompShg|    VinylSd|    VinylSd|     Stone|       306|       Gd|       TA|     PConc|      Gd|      TA|          Av|         Unf|         0|         Unf|         0|     1494|       1494|   GasA|       Ex|         Y|     SBrkr|    1494|       0|           0|     1494|           0|           0|       2|       0|           3|           1|         Gd|           7|       Typ|         1|         Gd|    Attchd|       2006|         RFn|         3|       840|        TA|        TA|         Y|       160|         33|            0|        0|          0|       0|    NA|   NA|         NA|      0|     8|  2007|     New|      Partial|   279500|\n",
              "| 15|        20|      RL|         NA|  10920|  Pave|   NA|     IR1|        Lvl|   AllPub|   Corner|      Gtl|       NAmes|      Norm|      Norm|    1Fam|    1Story|          6|          5|     1960|        1960|      Hip| CompShg|    MetalSd|    MetalSd|   BrkFace|       212|       TA|       TA|    CBlock|      TA|      TA|          No|         BLQ|       733|         Unf|         0|      520|       1253|   GasA|       TA|         Y|     SBrkr|    1253|       0|           0|     1253|           1|           0|       1|       1|           2|           1|         TA|           5|       Typ|         1|         Fa|    Attchd|       1960|         RFn|         1|       352|        TA|        TA|         Y|         0|        213|          176|        0|          0|       0|    NA| GdWo|         NA|      0|     5|  2008|      WD|       Normal|   157000|\n",
              "| 16|        45|      RM|         51|   6120|  Pave|   NA|     Reg|        Lvl|   AllPub|   Corner|      Gtl|     BrkSide|      Norm|      Norm|    1Fam|    1.5Unf|          7|          8|     1929|        2001|    Gable| CompShg|    Wd Sdng|    Wd Sdng|      None|         0|       TA|       TA|    BrkTil|      TA|      TA|          No|         Unf|         0|         Unf|         0|      832|        832|   GasA|       Ex|         Y|     FuseA|     854|       0|           0|      854|           0|           0|       1|       0|           2|           1|         TA|           5|       Typ|         0|         NA|    Detchd|       1991|         Unf|         2|       576|        TA|        TA|         Y|        48|        112|            0|        0|          0|       0|    NA|GdPrv|         NA|      0|     7|  2007|      WD|       Normal|   132000|\n",
              "| 17|        20|      RL|         NA|  11241|  Pave|   NA|     IR1|        Lvl|   AllPub|  CulDSac|      Gtl|       NAmes|      Norm|      Norm|    1Fam|    1Story|          6|          7|     1970|        1970|    Gable| CompShg|    Wd Sdng|    Wd Sdng|   BrkFace|       180|       TA|       TA|    CBlock|      TA|      TA|          No|         ALQ|       578|         Unf|         0|      426|       1004|   GasA|       Ex|         Y|     SBrkr|    1004|       0|           0|     1004|           1|           0|       1|       0|           2|           1|         TA|           5|       Typ|         1|         TA|    Attchd|       1970|         Fin|         2|       480|        TA|        TA|         Y|         0|          0|            0|        0|          0|       0|    NA|   NA|       Shed|    700|     3|  2010|      WD|       Normal|   149000|\n",
              "| 18|        90|      RL|         72|  10791|  Pave|   NA|     Reg|        Lvl|   AllPub|   Inside|      Gtl|      Sawyer|      Norm|      Norm|  Duplex|    1Story|          4|          5|     1967|        1967|    Gable| CompShg|    MetalSd|    MetalSd|      None|         0|       TA|       TA|      Slab|      NA|      NA|          NA|          NA|         0|          NA|         0|        0|          0|   GasA|       TA|         Y|     SBrkr|    1296|       0|           0|     1296|           0|           0|       2|       0|           2|           2|         TA|           6|       Typ|         0|         NA|   CarPort|       1967|         Unf|         2|       516|        TA|        TA|         Y|         0|          0|            0|        0|          0|       0|    NA|   NA|       Shed|    500|    10|  2006|      WD|       Normal|    90000|\n",
              "| 19|        20|      RL|         66|  13695|  Pave|   NA|     Reg|        Lvl|   AllPub|   Inside|      Gtl|     SawyerW|      RRAe|      Norm|    1Fam|    1Story|          5|          5|     2004|        2004|    Gable| CompShg|    VinylSd|    VinylSd|      None|         0|       TA|       TA|     PConc|      TA|      TA|          No|         GLQ|       646|         Unf|         0|      468|       1114|   GasA|       Ex|         Y|     SBrkr|    1114|       0|           0|     1114|           1|           0|       1|       1|           3|           1|         Gd|           6|       Typ|         0|         NA|    Detchd|       2004|         Unf|         2|       576|        TA|        TA|         Y|         0|        102|            0|        0|          0|       0|    NA|   NA|         NA|      0|     6|  2008|      WD|       Normal|   159000|\n",
              "| 20|        20|      RL|         70|   7560|  Pave|   NA|     Reg|        Lvl|   AllPub|   Inside|      Gtl|       NAmes|      Norm|      Norm|    1Fam|    1Story|          5|          6|     1958|        1965|      Hip| CompShg|    BrkFace|    Plywood|      None|         0|       TA|       TA|    CBlock|      TA|      TA|          No|         LwQ|       504|         Unf|         0|      525|       1029|   GasA|       TA|         Y|     SBrkr|    1339|       0|           0|     1339|           0|           0|       1|       0|           3|           1|         TA|           6|      Min1|         0|         NA|    Attchd|       1958|         Unf|         1|       294|        TA|        TA|         Y|         0|          0|            0|        0|          0|       0|    NA|MnPrv|         NA|      0|     5|  2009|     COD|      Abnorml|   139000|\n",
              "+---+----------+--------+-----------+-------+------+-----+--------+-----------+---------+---------+---------+------------+----------+----------+--------+----------+-----------+-----------+---------+------------+---------+--------+-----------+-----------+----------+----------+---------+---------+----------+--------+--------+------------+------------+----------+------------+----------+---------+-----------+-------+---------+----------+----------+--------+--------+------------+---------+------------+------------+--------+--------+------------+------------+-----------+------------+----------+----------+-----------+----------+-----------+------------+----------+----------+----------+----------+----------+----------+-----------+-------------+---------+-----------+--------+------+-----+-----------+-------+------+------+--------+-------------+---------+\n",
              "only showing top 20 rows"
            ],
            "text/html": [
              "<table border='1'>\n",
              "<tr><th>Id</th><th>MSSubClass</th><th>MSZoning</th><th>LotFrontage</th><th>LotArea</th><th>Street</th><th>Alley</th><th>LotShape</th><th>LandContour</th><th>Utilities</th><th>LotConfig</th><th>LandSlope</th><th>Neighborhood</th><th>Condition1</th><th>Condition2</th><th>BldgType</th><th>HouseStyle</th><th>OverallQual</th><th>OverallCond</th><th>YearBuilt</th><th>YearRemodAdd</th><th>RoofStyle</th><th>RoofMatl</th><th>Exterior1st</th><th>Exterior2nd</th><th>MasVnrType</th><th>MasVnrArea</th><th>ExterQual</th><th>ExterCond</th><th>Foundation</th><th>BsmtQual</th><th>BsmtCond</th><th>BsmtExposure</th><th>BsmtFinType1</th><th>BsmtFinSF1</th><th>BsmtFinType2</th><th>BsmtFinSF2</th><th>BsmtUnfSF</th><th>TotalBsmtSF</th><th>Heating</th><th>HeatingQC</th><th>CentralAir</th><th>Electrical</th><th>1stFlrSF</th><th>2ndFlrSF</th><th>LowQualFinSF</th><th>GrLivArea</th><th>BsmtFullBath</th><th>BsmtHalfBath</th><th>FullBath</th><th>HalfBath</th><th>BedroomAbvGr</th><th>KitchenAbvGr</th><th>KitchenQual</th><th>TotRmsAbvGrd</th><th>Functional</th><th>Fireplaces</th><th>FireplaceQu</th><th>GarageType</th><th>GarageYrBlt</th><th>GarageFinish</th><th>GarageCars</th><th>GarageArea</th><th>GarageQual</th><th>GarageCond</th><th>PavedDrive</th><th>WoodDeckSF</th><th>OpenPorchSF</th><th>EnclosedPorch</th><th>3SsnPorch</th><th>ScreenPorch</th><th>PoolArea</th><th>PoolQC</th><th>Fence</th><th>MiscFeature</th><th>MiscVal</th><th>MoSold</th><th>YrSold</th><th>SaleType</th><th>SaleCondition</th><th>SalePrice</th></tr>\n",
              "<tr><td>1</td><td>60</td><td>RL</td><td>65</td><td>8450</td><td>Pave</td><td>NA</td><td>Reg</td><td>Lvl</td><td>AllPub</td><td>Inside</td><td>Gtl</td><td>CollgCr</td><td>Norm</td><td>Norm</td><td>1Fam</td><td>2Story</td><td>7</td><td>5</td><td>2003</td><td>2003</td><td>Gable</td><td>CompShg</td><td>VinylSd</td><td>VinylSd</td><td>BrkFace</td><td>196</td><td>Gd</td><td>TA</td><td>PConc</td><td>Gd</td><td>TA</td><td>No</td><td>GLQ</td><td>706</td><td>Unf</td><td>0</td><td>150</td><td>856</td><td>GasA</td><td>Ex</td><td>Y</td><td>SBrkr</td><td>856</td><td>854</td><td>0</td><td>1710</td><td>1</td><td>0</td><td>2</td><td>1</td><td>3</td><td>1</td><td>Gd</td><td>8</td><td>Typ</td><td>0</td><td>NA</td><td>Attchd</td><td>2003</td><td>RFn</td><td>2</td><td>548</td><td>TA</td><td>TA</td><td>Y</td><td>0</td><td>61</td><td>0</td><td>0</td><td>0</td><td>0</td><td>NA</td><td>NA</td><td>NA</td><td>0</td><td>2</td><td>2008</td><td>WD</td><td>Normal</td><td>208500</td></tr>\n",
              "<tr><td>2</td><td>20</td><td>RL</td><td>80</td><td>9600</td><td>Pave</td><td>NA</td><td>Reg</td><td>Lvl</td><td>AllPub</td><td>FR2</td><td>Gtl</td><td>Veenker</td><td>Feedr</td><td>Norm</td><td>1Fam</td><td>1Story</td><td>6</td><td>8</td><td>1976</td><td>1976</td><td>Gable</td><td>CompShg</td><td>MetalSd</td><td>MetalSd</td><td>None</td><td>0</td><td>TA</td><td>TA</td><td>CBlock</td><td>Gd</td><td>TA</td><td>Gd</td><td>ALQ</td><td>978</td><td>Unf</td><td>0</td><td>284</td><td>1262</td><td>GasA</td><td>Ex</td><td>Y</td><td>SBrkr</td><td>1262</td><td>0</td><td>0</td><td>1262</td><td>0</td><td>1</td><td>2</td><td>0</td><td>3</td><td>1</td><td>TA</td><td>6</td><td>Typ</td><td>1</td><td>TA</td><td>Attchd</td><td>1976</td><td>RFn</td><td>2</td><td>460</td><td>TA</td><td>TA</td><td>Y</td><td>298</td><td>0</td><td>0</td><td>0</td><td>0</td><td>0</td><td>NA</td><td>NA</td><td>NA</td><td>0</td><td>5</td><td>2007</td><td>WD</td><td>Normal</td><td>181500</td></tr>\n",
              "<tr><td>3</td><td>60</td><td>RL</td><td>68</td><td>11250</td><td>Pave</td><td>NA</td><td>IR1</td><td>Lvl</td><td>AllPub</td><td>Inside</td><td>Gtl</td><td>CollgCr</td><td>Norm</td><td>Norm</td><td>1Fam</td><td>2Story</td><td>7</td><td>5</td><td>2001</td><td>2002</td><td>Gable</td><td>CompShg</td><td>VinylSd</td><td>VinylSd</td><td>BrkFace</td><td>162</td><td>Gd</td><td>TA</td><td>PConc</td><td>Gd</td><td>TA</td><td>Mn</td><td>GLQ</td><td>486</td><td>Unf</td><td>0</td><td>434</td><td>920</td><td>GasA</td><td>Ex</td><td>Y</td><td>SBrkr</td><td>920</td><td>866</td><td>0</td><td>1786</td><td>1</td><td>0</td><td>2</td><td>1</td><td>3</td><td>1</td><td>Gd</td><td>6</td><td>Typ</td><td>1</td><td>TA</td><td>Attchd</td><td>2001</td><td>RFn</td><td>2</td><td>608</td><td>TA</td><td>TA</td><td>Y</td><td>0</td><td>42</td><td>0</td><td>0</td><td>0</td><td>0</td><td>NA</td><td>NA</td><td>NA</td><td>0</td><td>9</td><td>2008</td><td>WD</td><td>Normal</td><td>223500</td></tr>\n",
              "<tr><td>4</td><td>70</td><td>RL</td><td>60</td><td>9550</td><td>Pave</td><td>NA</td><td>IR1</td><td>Lvl</td><td>AllPub</td><td>Corner</td><td>Gtl</td><td>Crawfor</td><td>Norm</td><td>Norm</td><td>1Fam</td><td>2Story</td><td>7</td><td>5</td><td>1915</td><td>1970</td><td>Gable</td><td>CompShg</td><td>Wd Sdng</td><td>Wd Shng</td><td>None</td><td>0</td><td>TA</td><td>TA</td><td>BrkTil</td><td>TA</td><td>Gd</td><td>No</td><td>ALQ</td><td>216</td><td>Unf</td><td>0</td><td>540</td><td>756</td><td>GasA</td><td>Gd</td><td>Y</td><td>SBrkr</td><td>961</td><td>756</td><td>0</td><td>1717</td><td>1</td><td>0</td><td>1</td><td>0</td><td>3</td><td>1</td><td>Gd</td><td>7</td><td>Typ</td><td>1</td><td>Gd</td><td>Detchd</td><td>1998</td><td>Unf</td><td>3</td><td>642</td><td>TA</td><td>TA</td><td>Y</td><td>0</td><td>35</td><td>272</td><td>0</td><td>0</td><td>0</td><td>NA</td><td>NA</td><td>NA</td><td>0</td><td>2</td><td>2006</td><td>WD</td><td>Abnorml</td><td>140000</td></tr>\n",
              "<tr><td>5</td><td>60</td><td>RL</td><td>84</td><td>14260</td><td>Pave</td><td>NA</td><td>IR1</td><td>Lvl</td><td>AllPub</td><td>FR2</td><td>Gtl</td><td>NoRidge</td><td>Norm</td><td>Norm</td><td>1Fam</td><td>2Story</td><td>8</td><td>5</td><td>2000</td><td>2000</td><td>Gable</td><td>CompShg</td><td>VinylSd</td><td>VinylSd</td><td>BrkFace</td><td>350</td><td>Gd</td><td>TA</td><td>PConc</td><td>Gd</td><td>TA</td><td>Av</td><td>GLQ</td><td>655</td><td>Unf</td><td>0</td><td>490</td><td>1145</td><td>GasA</td><td>Ex</td><td>Y</td><td>SBrkr</td><td>1145</td><td>1053</td><td>0</td><td>2198</td><td>1</td><td>0</td><td>2</td><td>1</td><td>4</td><td>1</td><td>Gd</td><td>9</td><td>Typ</td><td>1</td><td>TA</td><td>Attchd</td><td>2000</td><td>RFn</td><td>3</td><td>836</td><td>TA</td><td>TA</td><td>Y</td><td>192</td><td>84</td><td>0</td><td>0</td><td>0</td><td>0</td><td>NA</td><td>NA</td><td>NA</td><td>0</td><td>12</td><td>2008</td><td>WD</td><td>Normal</td><td>250000</td></tr>\n",
              "<tr><td>6</td><td>50</td><td>RL</td><td>85</td><td>14115</td><td>Pave</td><td>NA</td><td>IR1</td><td>Lvl</td><td>AllPub</td><td>Inside</td><td>Gtl</td><td>Mitchel</td><td>Norm</td><td>Norm</td><td>1Fam</td><td>1.5Fin</td><td>5</td><td>5</td><td>1993</td><td>1995</td><td>Gable</td><td>CompShg</td><td>VinylSd</td><td>VinylSd</td><td>None</td><td>0</td><td>TA</td><td>TA</td><td>Wood</td><td>Gd</td><td>TA</td><td>No</td><td>GLQ</td><td>732</td><td>Unf</td><td>0</td><td>64</td><td>796</td><td>GasA</td><td>Ex</td><td>Y</td><td>SBrkr</td><td>796</td><td>566</td><td>0</td><td>1362</td><td>1</td><td>0</td><td>1</td><td>1</td><td>1</td><td>1</td><td>TA</td><td>5</td><td>Typ</td><td>0</td><td>NA</td><td>Attchd</td><td>1993</td><td>Unf</td><td>2</td><td>480</td><td>TA</td><td>TA</td><td>Y</td><td>40</td><td>30</td><td>0</td><td>320</td><td>0</td><td>0</td><td>NA</td><td>MnPrv</td><td>Shed</td><td>700</td><td>10</td><td>2009</td><td>WD</td><td>Normal</td><td>143000</td></tr>\n",
              "<tr><td>7</td><td>20</td><td>RL</td><td>75</td><td>10084</td><td>Pave</td><td>NA</td><td>Reg</td><td>Lvl</td><td>AllPub</td><td>Inside</td><td>Gtl</td><td>Somerst</td><td>Norm</td><td>Norm</td><td>1Fam</td><td>1Story</td><td>8</td><td>5</td><td>2004</td><td>2005</td><td>Gable</td><td>CompShg</td><td>VinylSd</td><td>VinylSd</td><td>Stone</td><td>186</td><td>Gd</td><td>TA</td><td>PConc</td><td>Ex</td><td>TA</td><td>Av</td><td>GLQ</td><td>1369</td><td>Unf</td><td>0</td><td>317</td><td>1686</td><td>GasA</td><td>Ex</td><td>Y</td><td>SBrkr</td><td>1694</td><td>0</td><td>0</td><td>1694</td><td>1</td><td>0</td><td>2</td><td>0</td><td>3</td><td>1</td><td>Gd</td><td>7</td><td>Typ</td><td>1</td><td>Gd</td><td>Attchd</td><td>2004</td><td>RFn</td><td>2</td><td>636</td><td>TA</td><td>TA</td><td>Y</td><td>255</td><td>57</td><td>0</td><td>0</td><td>0</td><td>0</td><td>NA</td><td>NA</td><td>NA</td><td>0</td><td>8</td><td>2007</td><td>WD</td><td>Normal</td><td>307000</td></tr>\n",
              "<tr><td>8</td><td>60</td><td>RL</td><td>NA</td><td>10382</td><td>Pave</td><td>NA</td><td>IR1</td><td>Lvl</td><td>AllPub</td><td>Corner</td><td>Gtl</td><td>NWAmes</td><td>PosN</td><td>Norm</td><td>1Fam</td><td>2Story</td><td>7</td><td>6</td><td>1973</td><td>1973</td><td>Gable</td><td>CompShg</td><td>HdBoard</td><td>HdBoard</td><td>Stone</td><td>240</td><td>TA</td><td>TA</td><td>CBlock</td><td>Gd</td><td>TA</td><td>Mn</td><td>ALQ</td><td>859</td><td>BLQ</td><td>32</td><td>216</td><td>1107</td><td>GasA</td><td>Ex</td><td>Y</td><td>SBrkr</td><td>1107</td><td>983</td><td>0</td><td>2090</td><td>1</td><td>0</td><td>2</td><td>1</td><td>3</td><td>1</td><td>TA</td><td>7</td><td>Typ</td><td>2</td><td>TA</td><td>Attchd</td><td>1973</td><td>RFn</td><td>2</td><td>484</td><td>TA</td><td>TA</td><td>Y</td><td>235</td><td>204</td><td>228</td><td>0</td><td>0</td><td>0</td><td>NA</td><td>NA</td><td>Shed</td><td>350</td><td>11</td><td>2009</td><td>WD</td><td>Normal</td><td>200000</td></tr>\n",
              "<tr><td>9</td><td>50</td><td>RM</td><td>51</td><td>6120</td><td>Pave</td><td>NA</td><td>Reg</td><td>Lvl</td><td>AllPub</td><td>Inside</td><td>Gtl</td><td>OldTown</td><td>Artery</td><td>Norm</td><td>1Fam</td><td>1.5Fin</td><td>7</td><td>5</td><td>1931</td><td>1950</td><td>Gable</td><td>CompShg</td><td>BrkFace</td><td>Wd Shng</td><td>None</td><td>0</td><td>TA</td><td>TA</td><td>BrkTil</td><td>TA</td><td>TA</td><td>No</td><td>Unf</td><td>0</td><td>Unf</td><td>0</td><td>952</td><td>952</td><td>GasA</td><td>Gd</td><td>Y</td><td>FuseF</td><td>1022</td><td>752</td><td>0</td><td>1774</td><td>0</td><td>0</td><td>2</td><td>0</td><td>2</td><td>2</td><td>TA</td><td>8</td><td>Min1</td><td>2</td><td>TA</td><td>Detchd</td><td>1931</td><td>Unf</td><td>2</td><td>468</td><td>Fa</td><td>TA</td><td>Y</td><td>90</td><td>0</td><td>205</td><td>0</td><td>0</td><td>0</td><td>NA</td><td>NA</td><td>NA</td><td>0</td><td>4</td><td>2008</td><td>WD</td><td>Abnorml</td><td>129900</td></tr>\n",
              "<tr><td>10</td><td>190</td><td>RL</td><td>50</td><td>7420</td><td>Pave</td><td>NA</td><td>Reg</td><td>Lvl</td><td>AllPub</td><td>Corner</td><td>Gtl</td><td>BrkSide</td><td>Artery</td><td>Artery</td><td>2fmCon</td><td>1.5Unf</td><td>5</td><td>6</td><td>1939</td><td>1950</td><td>Gable</td><td>CompShg</td><td>MetalSd</td><td>MetalSd</td><td>None</td><td>0</td><td>TA</td><td>TA</td><td>BrkTil</td><td>TA</td><td>TA</td><td>No</td><td>GLQ</td><td>851</td><td>Unf</td><td>0</td><td>140</td><td>991</td><td>GasA</td><td>Ex</td><td>Y</td><td>SBrkr</td><td>1077</td><td>0</td><td>0</td><td>1077</td><td>1</td><td>0</td><td>1</td><td>0</td><td>2</td><td>2</td><td>TA</td><td>5</td><td>Typ</td><td>2</td><td>TA</td><td>Attchd</td><td>1939</td><td>RFn</td><td>1</td><td>205</td><td>Gd</td><td>TA</td><td>Y</td><td>0</td><td>4</td><td>0</td><td>0</td><td>0</td><td>0</td><td>NA</td><td>NA</td><td>NA</td><td>0</td><td>1</td><td>2008</td><td>WD</td><td>Normal</td><td>118000</td></tr>\n",
              "<tr><td>11</td><td>20</td><td>RL</td><td>70</td><td>11200</td><td>Pave</td><td>NA</td><td>Reg</td><td>Lvl</td><td>AllPub</td><td>Inside</td><td>Gtl</td><td>Sawyer</td><td>Norm</td><td>Norm</td><td>1Fam</td><td>1Story</td><td>5</td><td>5</td><td>1965</td><td>1965</td><td>Hip</td><td>CompShg</td><td>HdBoard</td><td>HdBoard</td><td>None</td><td>0</td><td>TA</td><td>TA</td><td>CBlock</td><td>TA</td><td>TA</td><td>No</td><td>Rec</td><td>906</td><td>Unf</td><td>0</td><td>134</td><td>1040</td><td>GasA</td><td>Ex</td><td>Y</td><td>SBrkr</td><td>1040</td><td>0</td><td>0</td><td>1040</td><td>1</td><td>0</td><td>1</td><td>0</td><td>3</td><td>1</td><td>TA</td><td>5</td><td>Typ</td><td>0</td><td>NA</td><td>Detchd</td><td>1965</td><td>Unf</td><td>1</td><td>384</td><td>TA</td><td>TA</td><td>Y</td><td>0</td><td>0</td><td>0</td><td>0</td><td>0</td><td>0</td><td>NA</td><td>NA</td><td>NA</td><td>0</td><td>2</td><td>2008</td><td>WD</td><td>Normal</td><td>129500</td></tr>\n",
              "<tr><td>12</td><td>60</td><td>RL</td><td>85</td><td>11924</td><td>Pave</td><td>NA</td><td>IR1</td><td>Lvl</td><td>AllPub</td><td>Inside</td><td>Gtl</td><td>NridgHt</td><td>Norm</td><td>Norm</td><td>1Fam</td><td>2Story</td><td>9</td><td>5</td><td>2005</td><td>2006</td><td>Hip</td><td>CompShg</td><td>WdShing</td><td>Wd Shng</td><td>Stone</td><td>286</td><td>Ex</td><td>TA</td><td>PConc</td><td>Ex</td><td>TA</td><td>No</td><td>GLQ</td><td>998</td><td>Unf</td><td>0</td><td>177</td><td>1175</td><td>GasA</td><td>Ex</td><td>Y</td><td>SBrkr</td><td>1182</td><td>1142</td><td>0</td><td>2324</td><td>1</td><td>0</td><td>3</td><td>0</td><td>4</td><td>1</td><td>Ex</td><td>11</td><td>Typ</td><td>2</td><td>Gd</td><td>BuiltIn</td><td>2005</td><td>Fin</td><td>3</td><td>736</td><td>TA</td><td>TA</td><td>Y</td><td>147</td><td>21</td><td>0</td><td>0</td><td>0</td><td>0</td><td>NA</td><td>NA</td><td>NA</td><td>0</td><td>7</td><td>2006</td><td>New</td><td>Partial</td><td>345000</td></tr>\n",
              "<tr><td>13</td><td>20</td><td>RL</td><td>NA</td><td>12968</td><td>Pave</td><td>NA</td><td>IR2</td><td>Lvl</td><td>AllPub</td><td>Inside</td><td>Gtl</td><td>Sawyer</td><td>Norm</td><td>Norm</td><td>1Fam</td><td>1Story</td><td>5</td><td>6</td><td>1962</td><td>1962</td><td>Hip</td><td>CompShg</td><td>HdBoard</td><td>Plywood</td><td>None</td><td>0</td><td>TA</td><td>TA</td><td>CBlock</td><td>TA</td><td>TA</td><td>No</td><td>ALQ</td><td>737</td><td>Unf</td><td>0</td><td>175</td><td>912</td><td>GasA</td><td>TA</td><td>Y</td><td>SBrkr</td><td>912</td><td>0</td><td>0</td><td>912</td><td>1</td><td>0</td><td>1</td><td>0</td><td>2</td><td>1</td><td>TA</td><td>4</td><td>Typ</td><td>0</td><td>NA</td><td>Detchd</td><td>1962</td><td>Unf</td><td>1</td><td>352</td><td>TA</td><td>TA</td><td>Y</td><td>140</td><td>0</td><td>0</td><td>0</td><td>176</td><td>0</td><td>NA</td><td>NA</td><td>NA</td><td>0</td><td>9</td><td>2008</td><td>WD</td><td>Normal</td><td>144000</td></tr>\n",
              "<tr><td>14</td><td>20</td><td>RL</td><td>91</td><td>10652</td><td>Pave</td><td>NA</td><td>IR1</td><td>Lvl</td><td>AllPub</td><td>Inside</td><td>Gtl</td><td>CollgCr</td><td>Norm</td><td>Norm</td><td>1Fam</td><td>1Story</td><td>7</td><td>5</td><td>2006</td><td>2007</td><td>Gable</td><td>CompShg</td><td>VinylSd</td><td>VinylSd</td><td>Stone</td><td>306</td><td>Gd</td><td>TA</td><td>PConc</td><td>Gd</td><td>TA</td><td>Av</td><td>Unf</td><td>0</td><td>Unf</td><td>0</td><td>1494</td><td>1494</td><td>GasA</td><td>Ex</td><td>Y</td><td>SBrkr</td><td>1494</td><td>0</td><td>0</td><td>1494</td><td>0</td><td>0</td><td>2</td><td>0</td><td>3</td><td>1</td><td>Gd</td><td>7</td><td>Typ</td><td>1</td><td>Gd</td><td>Attchd</td><td>2006</td><td>RFn</td><td>3</td><td>840</td><td>TA</td><td>TA</td><td>Y</td><td>160</td><td>33</td><td>0</td><td>0</td><td>0</td><td>0</td><td>NA</td><td>NA</td><td>NA</td><td>0</td><td>8</td><td>2007</td><td>New</td><td>Partial</td><td>279500</td></tr>\n",
              "<tr><td>15</td><td>20</td><td>RL</td><td>NA</td><td>10920</td><td>Pave</td><td>NA</td><td>IR1</td><td>Lvl</td><td>AllPub</td><td>Corner</td><td>Gtl</td><td>NAmes</td><td>Norm</td><td>Norm</td><td>1Fam</td><td>1Story</td><td>6</td><td>5</td><td>1960</td><td>1960</td><td>Hip</td><td>CompShg</td><td>MetalSd</td><td>MetalSd</td><td>BrkFace</td><td>212</td><td>TA</td><td>TA</td><td>CBlock</td><td>TA</td><td>TA</td><td>No</td><td>BLQ</td><td>733</td><td>Unf</td><td>0</td><td>520</td><td>1253</td><td>GasA</td><td>TA</td><td>Y</td><td>SBrkr</td><td>1253</td><td>0</td><td>0</td><td>1253</td><td>1</td><td>0</td><td>1</td><td>1</td><td>2</td><td>1</td><td>TA</td><td>5</td><td>Typ</td><td>1</td><td>Fa</td><td>Attchd</td><td>1960</td><td>RFn</td><td>1</td><td>352</td><td>TA</td><td>TA</td><td>Y</td><td>0</td><td>213</td><td>176</td><td>0</td><td>0</td><td>0</td><td>NA</td><td>GdWo</td><td>NA</td><td>0</td><td>5</td><td>2008</td><td>WD</td><td>Normal</td><td>157000</td></tr>\n",
              "<tr><td>16</td><td>45</td><td>RM</td><td>51</td><td>6120</td><td>Pave</td><td>NA</td><td>Reg</td><td>Lvl</td><td>AllPub</td><td>Corner</td><td>Gtl</td><td>BrkSide</td><td>Norm</td><td>Norm</td><td>1Fam</td><td>1.5Unf</td><td>7</td><td>8</td><td>1929</td><td>2001</td><td>Gable</td><td>CompShg</td><td>Wd Sdng</td><td>Wd Sdng</td><td>None</td><td>0</td><td>TA</td><td>TA</td><td>BrkTil</td><td>TA</td><td>TA</td><td>No</td><td>Unf</td><td>0</td><td>Unf</td><td>0</td><td>832</td><td>832</td><td>GasA</td><td>Ex</td><td>Y</td><td>FuseA</td><td>854</td><td>0</td><td>0</td><td>854</td><td>0</td><td>0</td><td>1</td><td>0</td><td>2</td><td>1</td><td>TA</td><td>5</td><td>Typ</td><td>0</td><td>NA</td><td>Detchd</td><td>1991</td><td>Unf</td><td>2</td><td>576</td><td>TA</td><td>TA</td><td>Y</td><td>48</td><td>112</td><td>0</td><td>0</td><td>0</td><td>0</td><td>NA</td><td>GdPrv</td><td>NA</td><td>0</td><td>7</td><td>2007</td><td>WD</td><td>Normal</td><td>132000</td></tr>\n",
              "<tr><td>17</td><td>20</td><td>RL</td><td>NA</td><td>11241</td><td>Pave</td><td>NA</td><td>IR1</td><td>Lvl</td><td>AllPub</td><td>CulDSac</td><td>Gtl</td><td>NAmes</td><td>Norm</td><td>Norm</td><td>1Fam</td><td>1Story</td><td>6</td><td>7</td><td>1970</td><td>1970</td><td>Gable</td><td>CompShg</td><td>Wd Sdng</td><td>Wd Sdng</td><td>BrkFace</td><td>180</td><td>TA</td><td>TA</td><td>CBlock</td><td>TA</td><td>TA</td><td>No</td><td>ALQ</td><td>578</td><td>Unf</td><td>0</td><td>426</td><td>1004</td><td>GasA</td><td>Ex</td><td>Y</td><td>SBrkr</td><td>1004</td><td>0</td><td>0</td><td>1004</td><td>1</td><td>0</td><td>1</td><td>0</td><td>2</td><td>1</td><td>TA</td><td>5</td><td>Typ</td><td>1</td><td>TA</td><td>Attchd</td><td>1970</td><td>Fin</td><td>2</td><td>480</td><td>TA</td><td>TA</td><td>Y</td><td>0</td><td>0</td><td>0</td><td>0</td><td>0</td><td>0</td><td>NA</td><td>NA</td><td>Shed</td><td>700</td><td>3</td><td>2010</td><td>WD</td><td>Normal</td><td>149000</td></tr>\n",
              "<tr><td>18</td><td>90</td><td>RL</td><td>72</td><td>10791</td><td>Pave</td><td>NA</td><td>Reg</td><td>Lvl</td><td>AllPub</td><td>Inside</td><td>Gtl</td><td>Sawyer</td><td>Norm</td><td>Norm</td><td>Duplex</td><td>1Story</td><td>4</td><td>5</td><td>1967</td><td>1967</td><td>Gable</td><td>CompShg</td><td>MetalSd</td><td>MetalSd</td><td>None</td><td>0</td><td>TA</td><td>TA</td><td>Slab</td><td>NA</td><td>NA</td><td>NA</td><td>NA</td><td>0</td><td>NA</td><td>0</td><td>0</td><td>0</td><td>GasA</td><td>TA</td><td>Y</td><td>SBrkr</td><td>1296</td><td>0</td><td>0</td><td>1296</td><td>0</td><td>0</td><td>2</td><td>0</td><td>2</td><td>2</td><td>TA</td><td>6</td><td>Typ</td><td>0</td><td>NA</td><td>CarPort</td><td>1967</td><td>Unf</td><td>2</td><td>516</td><td>TA</td><td>TA</td><td>Y</td><td>0</td><td>0</td><td>0</td><td>0</td><td>0</td><td>0</td><td>NA</td><td>NA</td><td>Shed</td><td>500</td><td>10</td><td>2006</td><td>WD</td><td>Normal</td><td>90000</td></tr>\n",
              "<tr><td>19</td><td>20</td><td>RL</td><td>66</td><td>13695</td><td>Pave</td><td>NA</td><td>Reg</td><td>Lvl</td><td>AllPub</td><td>Inside</td><td>Gtl</td><td>SawyerW</td><td>RRAe</td><td>Norm</td><td>1Fam</td><td>1Story</td><td>5</td><td>5</td><td>2004</td><td>2004</td><td>Gable</td><td>CompShg</td><td>VinylSd</td><td>VinylSd</td><td>None</td><td>0</td><td>TA</td><td>TA</td><td>PConc</td><td>TA</td><td>TA</td><td>No</td><td>GLQ</td><td>646</td><td>Unf</td><td>0</td><td>468</td><td>1114</td><td>GasA</td><td>Ex</td><td>Y</td><td>SBrkr</td><td>1114</td><td>0</td><td>0</td><td>1114</td><td>1</td><td>0</td><td>1</td><td>1</td><td>3</td><td>1</td><td>Gd</td><td>6</td><td>Typ</td><td>0</td><td>NA</td><td>Detchd</td><td>2004</td><td>Unf</td><td>2</td><td>576</td><td>TA</td><td>TA</td><td>Y</td><td>0</td><td>102</td><td>0</td><td>0</td><td>0</td><td>0</td><td>NA</td><td>NA</td><td>NA</td><td>0</td><td>6</td><td>2008</td><td>WD</td><td>Normal</td><td>159000</td></tr>\n",
              "<tr><td>20</td><td>20</td><td>RL</td><td>70</td><td>7560</td><td>Pave</td><td>NA</td><td>Reg</td><td>Lvl</td><td>AllPub</td><td>Inside</td><td>Gtl</td><td>NAmes</td><td>Norm</td><td>Norm</td><td>1Fam</td><td>1Story</td><td>5</td><td>6</td><td>1958</td><td>1965</td><td>Hip</td><td>CompShg</td><td>BrkFace</td><td>Plywood</td><td>None</td><td>0</td><td>TA</td><td>TA</td><td>CBlock</td><td>TA</td><td>TA</td><td>No</td><td>LwQ</td><td>504</td><td>Unf</td><td>0</td><td>525</td><td>1029</td><td>GasA</td><td>TA</td><td>Y</td><td>SBrkr</td><td>1339</td><td>0</td><td>0</td><td>1339</td><td>0</td><td>0</td><td>1</td><td>0</td><td>3</td><td>1</td><td>TA</td><td>6</td><td>Min1</td><td>0</td><td>NA</td><td>Attchd</td><td>1958</td><td>Unf</td><td>1</td><td>294</td><td>TA</td><td>TA</td><td>Y</td><td>0</td><td>0</td><td>0</td><td>0</td><td>0</td><td>0</td><td>NA</td><td>MnPrv</td><td>NA</td><td>0</td><td>5</td><td>2009</td><td>COD</td><td>Abnorml</td><td>139000</td></tr>\n",
              "</table>\n",
              "only showing top 20 rows\n"
            ]
          },
          "metadata": {},
          "execution_count": 6
        }
      ]
    },
    {
      "cell_type": "code",
      "source": [
        "cat_cols, num_cols, cat_but_car = grab_col_names(df_pyspark)"
      ],
      "metadata": {
        "id": "jBV6xsmIbV0c",
        "colab": {
          "base_uri": "https://localhost:8080/"
        },
        "outputId": "e80c92be-9687-4f91-c059-ec87ef4788f1"
      },
      "execution_count": 9,
      "outputs": [
        {
          "output_type": "stream",
          "name": "stdout",
          "text": [
            "Observations: 1460\n",
            "Variables: 81\n",
            "cat_cols: 53\n",
            "num_cols: 24\n",
            "cat_but_car: 4\n",
            "num_but_cat: 11\n"
          ]
        }
      ]
    },
    {
      "cell_type": "code",
      "source": [
        "# specify the strings to remove\n",
        "strings_to_remove = ['GarageYrBlt', 'YrSold']\n",
        "\n",
        "cat_cols = [x for x in cat_cols if x not in strings_to_remove]"
      ],
      "metadata": {
        "id": "5WWkwHImsX4j"
      },
      "execution_count": 40,
      "outputs": []
    },
    {
      "cell_type": "code",
      "source": [
        "df_pyspark.select([\"MSZoning\", \"BsmtCond\", \"OverallQual\"]).show()"
      ],
      "metadata": {
        "colab": {
          "base_uri": "https://localhost:8080/"
        },
        "id": "LLK6HM5xZuzy",
        "outputId": "7e323a86-0255-49c9-acae-6fc505a0eae9"
      },
      "execution_count": null,
      "outputs": [
        {
          "output_type": "stream",
          "name": "stdout",
          "text": [
            "+--------+--------+-----------+\n",
            "|MSZoning|BsmtCond|OverallQual|\n",
            "+--------+--------+-----------+\n",
            "|      RL|      TA|          7|\n",
            "|      RL|      TA|          6|\n",
            "|      RL|      TA|          7|\n",
            "|      RL|      Gd|          7|\n",
            "|      RL|      TA|          8|\n",
            "|      RL|      TA|          5|\n",
            "|      RL|      TA|          8|\n",
            "|      RL|      TA|          7|\n",
            "|      RM|      TA|          7|\n",
            "|      RL|      TA|          5|\n",
            "|      RL|      TA|          5|\n",
            "|      RL|      TA|          9|\n",
            "|      RL|      TA|          5|\n",
            "|      RL|      TA|          7|\n",
            "|      RL|      TA|          6|\n",
            "|      RM|      TA|          7|\n",
            "|      RL|      TA|          6|\n",
            "|      RL|      NA|          4|\n",
            "|      RL|      TA|          5|\n",
            "|      RL|      TA|          5|\n",
            "+--------+--------+-----------+\n",
            "only showing top 20 rows\n",
            "\n"
          ]
        }
      ]
    },
    {
      "cell_type": "code",
      "source": [
        "df_pyspark.select(\"LotArea\").agg({\"LotArea\": \"avg\"})"
      ],
      "metadata": {
        "colab": {
          "base_uri": "https://localhost:8080/",
          "height": 68
        },
        "id": "cX_2DoPRZxr7",
        "outputId": "52a9513a-0196-4f61-99ab-ee504d57dfd9"
      },
      "execution_count": null,
      "outputs": [
        {
          "output_type": "execute_result",
          "data": {
            "text/plain": [
              "+------------------+\n",
              "|      avg(LotArea)|\n",
              "+------------------+\n",
              "|10516.828082191782|\n",
              "+------------------+"
            ],
            "text/html": [
              "<table border='1'>\n",
              "<tr><th>avg(LotArea)</th></tr>\n",
              "<tr><td>10516.828082191782</td></tr>\n",
              "</table>\n"
            ]
          },
          "metadata": {},
          "execution_count": 5
        }
      ]
    },
    {
      "cell_type": "code",
      "source": [
        "from pyspark.sql.functions import mean\n",
        "\n",
        "df_pyspark.select(*[mean(c).alias(f\"mean_of_{c}\") for c in df_pyspark.columns])"
      ],
      "metadata": {
        "colab": {
          "base_uri": "https://localhost:8080/",
          "height": 88
        },
        "id": "KLL6XQ9fZ0Bo",
        "outputId": "a6759341-02b6-4a19-bad0-324a0323b5b0"
      },
      "execution_count": null,
      "outputs": [
        {
          "output_type": "execute_result",
          "data": {
            "text/plain": [
              "+----------+------------------+----------------+-------------------+------------------+--------------+-------------+----------------+-------------------+-----------------+-----------------+-----------------+--------------------+------------------+------------------+----------------+------------------+-------------------+-------------------+-----------------+--------------------+-----------------+----------------+-------------------+-------------------+------------------+------------------+-----------------+-----------------+------------------+----------------+----------------+--------------------+--------------------+------------------+--------------------+------------------+-----------------+-------------------+---------------+-----------------+------------------+------------------+-----------------+------------------+--------------------+-----------------+--------------------+--------------------+------------------+-------------------+--------------------+--------------------+-------------------+--------------------+------------------+------------------+-------------------+------------------+-------------------+--------------------+------------------+------------------+------------------+------------------+------------------+------------------+-------------------+---------------------+------------------+-------------------+-----------------+--------------+-------------+-------------------+------------------+-----------------+------------------+----------------+---------------------+------------------+\n",
              "|mean_of_Id|mean_of_MSSubClass|mean_of_MSZoning|mean_of_LotFrontage|   mean_of_LotArea|mean_of_Street|mean_of_Alley|mean_of_LotShape|mean_of_LandContour|mean_of_Utilities|mean_of_LotConfig|mean_of_LandSlope|mean_of_Neighborhood|mean_of_Condition1|mean_of_Condition2|mean_of_BldgType|mean_of_HouseStyle|mean_of_OverallQual|mean_of_OverallCond|mean_of_YearBuilt|mean_of_YearRemodAdd|mean_of_RoofStyle|mean_of_RoofMatl|mean_of_Exterior1st|mean_of_Exterior2nd|mean_of_MasVnrType|mean_of_MasVnrArea|mean_of_ExterQual|mean_of_ExterCond|mean_of_Foundation|mean_of_BsmtQual|mean_of_BsmtCond|mean_of_BsmtExposure|mean_of_BsmtFinType1|mean_of_BsmtFinSF1|mean_of_BsmtFinType2|mean_of_BsmtFinSF2|mean_of_BsmtUnfSF|mean_of_TotalBsmtSF|mean_of_Heating|mean_of_HeatingQC|mean_of_CentralAir|mean_of_Electrical| mean_of_1stFlrSF|  mean_of_2ndFlrSF|mean_of_LowQualFinSF|mean_of_GrLivArea|mean_of_BsmtFullBath|mean_of_BsmtHalfBath|  mean_of_FullBath|   mean_of_HalfBath|mean_of_BedroomAbvGr|mean_of_KitchenAbvGr|mean_of_KitchenQual|mean_of_TotRmsAbvGrd|mean_of_Functional|mean_of_Fireplaces|mean_of_FireplaceQu|mean_of_GarageType|mean_of_GarageYrBlt|mean_of_GarageFinish|mean_of_GarageCars|mean_of_GarageArea|mean_of_GarageQual|mean_of_GarageCond|mean_of_PavedDrive|mean_of_WoodDeckSF|mean_of_OpenPorchSF|mean_of_EnclosedPorch| mean_of_3SsnPorch|mean_of_ScreenPorch| mean_of_PoolArea|mean_of_PoolQC|mean_of_Fence|mean_of_MiscFeature|   mean_of_MiscVal|   mean_of_MoSold|    mean_of_YrSold|mean_of_SaleType|mean_of_SaleCondition| mean_of_SalePrice|\n",
              "+----------+------------------+----------------+-------------------+------------------+--------------+-------------+----------------+-------------------+-----------------+-----------------+-----------------+--------------------+------------------+------------------+----------------+------------------+-------------------+-------------------+-----------------+--------------------+-----------------+----------------+-------------------+-------------------+------------------+------------------+-----------------+-----------------+------------------+----------------+----------------+--------------------+--------------------+------------------+--------------------+------------------+-----------------+-------------------+---------------+-----------------+------------------+------------------+-----------------+------------------+--------------------+-----------------+--------------------+--------------------+------------------+-------------------+--------------------+--------------------+-------------------+--------------------+------------------+------------------+-------------------+------------------+-------------------+--------------------+------------------+------------------+------------------+------------------+------------------+------------------+-------------------+---------------------+------------------+-------------------+-----------------+--------------+-------------+-------------------+------------------+-----------------+------------------+----------------+---------------------+------------------+\n",
              "|     730.5|56.897260273972606|            null|  70.04995836802665|10516.828082191782|          null|         null|            null|               null|             null|             null|             null|                null|              null|              null|            null|              null| 6.0993150684931505|  5.575342465753424|1971.267808219178|  1984.8657534246574|             null|            null|               null|               null|              null|103.68526170798899|             null|             null|              null|            null|            null|                null|                null| 443.6397260273973|                null| 46.54931506849315|567.2404109589041| 1057.4294520547944|           null|             null|              null|              null|1162.626712328767|346.99246575342465|   5.844520547945206|1515.463698630137| 0.42534246575342466|0.057534246575342465|1.5650684931506849|0.38287671232876713|  2.8664383561643834|  1.0465753424657533|               null|   6.517808219178082|              null| 0.613013698630137|               null|              null| 1978.5061638868744|                null|1.7671232876712328| 472.9801369863014|              null|              null|              null|  94.2445205479452|  46.66027397260274|   21.954109589041096|3.4095890410958902| 15.060958904109588|2.758904109589041|          null|         null|               null|43.489041095890414|6.321917808219178|2007.8157534246575|            null|                 null|180921.19589041095|\n",
              "+----------+------------------+----------------+-------------------+------------------+--------------+-------------+----------------+-------------------+-----------------+-----------------+-----------------+--------------------+------------------+------------------+----------------+------------------+-------------------+-------------------+-----------------+--------------------+-----------------+----------------+-------------------+-------------------+------------------+------------------+-----------------+-----------------+------------------+----------------+----------------+--------------------+--------------------+------------------+--------------------+------------------+-----------------+-------------------+---------------+-----------------+------------------+------------------+-----------------+------------------+--------------------+-----------------+--------------------+--------------------+------------------+-------------------+--------------------+--------------------+-------------------+--------------------+------------------+------------------+-------------------+------------------+-------------------+--------------------+------------------+------------------+------------------+------------------+------------------+------------------+-------------------+---------------------+------------------+-------------------+-----------------+--------------+-------------+-------------------+------------------+-----------------+------------------+----------------+---------------------+------------------+"
            ],
            "text/html": [
              "<table border='1'>\n",
              "<tr><th>mean_of_Id</th><th>mean_of_MSSubClass</th><th>mean_of_MSZoning</th><th>mean_of_LotFrontage</th><th>mean_of_LotArea</th><th>mean_of_Street</th><th>mean_of_Alley</th><th>mean_of_LotShape</th><th>mean_of_LandContour</th><th>mean_of_Utilities</th><th>mean_of_LotConfig</th><th>mean_of_LandSlope</th><th>mean_of_Neighborhood</th><th>mean_of_Condition1</th><th>mean_of_Condition2</th><th>mean_of_BldgType</th><th>mean_of_HouseStyle</th><th>mean_of_OverallQual</th><th>mean_of_OverallCond</th><th>mean_of_YearBuilt</th><th>mean_of_YearRemodAdd</th><th>mean_of_RoofStyle</th><th>mean_of_RoofMatl</th><th>mean_of_Exterior1st</th><th>mean_of_Exterior2nd</th><th>mean_of_MasVnrType</th><th>mean_of_MasVnrArea</th><th>mean_of_ExterQual</th><th>mean_of_ExterCond</th><th>mean_of_Foundation</th><th>mean_of_BsmtQual</th><th>mean_of_BsmtCond</th><th>mean_of_BsmtExposure</th><th>mean_of_BsmtFinType1</th><th>mean_of_BsmtFinSF1</th><th>mean_of_BsmtFinType2</th><th>mean_of_BsmtFinSF2</th><th>mean_of_BsmtUnfSF</th><th>mean_of_TotalBsmtSF</th><th>mean_of_Heating</th><th>mean_of_HeatingQC</th><th>mean_of_CentralAir</th><th>mean_of_Electrical</th><th>mean_of_1stFlrSF</th><th>mean_of_2ndFlrSF</th><th>mean_of_LowQualFinSF</th><th>mean_of_GrLivArea</th><th>mean_of_BsmtFullBath</th><th>mean_of_BsmtHalfBath</th><th>mean_of_FullBath</th><th>mean_of_HalfBath</th><th>mean_of_BedroomAbvGr</th><th>mean_of_KitchenAbvGr</th><th>mean_of_KitchenQual</th><th>mean_of_TotRmsAbvGrd</th><th>mean_of_Functional</th><th>mean_of_Fireplaces</th><th>mean_of_FireplaceQu</th><th>mean_of_GarageType</th><th>mean_of_GarageYrBlt</th><th>mean_of_GarageFinish</th><th>mean_of_GarageCars</th><th>mean_of_GarageArea</th><th>mean_of_GarageQual</th><th>mean_of_GarageCond</th><th>mean_of_PavedDrive</th><th>mean_of_WoodDeckSF</th><th>mean_of_OpenPorchSF</th><th>mean_of_EnclosedPorch</th><th>mean_of_3SsnPorch</th><th>mean_of_ScreenPorch</th><th>mean_of_PoolArea</th><th>mean_of_PoolQC</th><th>mean_of_Fence</th><th>mean_of_MiscFeature</th><th>mean_of_MiscVal</th><th>mean_of_MoSold</th><th>mean_of_YrSold</th><th>mean_of_SaleType</th><th>mean_of_SaleCondition</th><th>mean_of_SalePrice</th></tr>\n",
              "<tr><td>730.5</td><td>56.897260273972606</td><td>null</td><td>70.04995836802665</td><td>10516.828082191782</td><td>null</td><td>null</td><td>null</td><td>null</td><td>null</td><td>null</td><td>null</td><td>null</td><td>null</td><td>null</td><td>null</td><td>null</td><td>6.0993150684931505</td><td>5.575342465753424</td><td>1971.267808219178</td><td>1984.8657534246574</td><td>null</td><td>null</td><td>null</td><td>null</td><td>null</td><td>103.68526170798899</td><td>null</td><td>null</td><td>null</td><td>null</td><td>null</td><td>null</td><td>null</td><td>443.6397260273973</td><td>null</td><td>46.54931506849315</td><td>567.2404109589041</td><td>1057.4294520547944</td><td>null</td><td>null</td><td>null</td><td>null</td><td>1162.626712328767</td><td>346.99246575342465</td><td>5.844520547945206</td><td>1515.463698630137</td><td>0.42534246575342466</td><td>0.057534246575342465</td><td>1.5650684931506849</td><td>0.38287671232876713</td><td>2.8664383561643834</td><td>1.0465753424657533</td><td>null</td><td>6.517808219178082</td><td>null</td><td>0.613013698630137</td><td>null</td><td>null</td><td>1978.5061638868744</td><td>null</td><td>1.7671232876712328</td><td>472.9801369863014</td><td>null</td><td>null</td><td>null</td><td>94.2445205479452</td><td>46.66027397260274</td><td>21.954109589041096</td><td>3.4095890410958902</td><td>15.060958904109588</td><td>2.758904109589041</td><td>null</td><td>null</td><td>null</td><td>43.489041095890414</td><td>6.321917808219178</td><td>2007.8157534246575</td><td>null</td><td>null</td><td>180921.19589041095</td></tr>\n",
              "</table>\n"
            ]
          },
          "metadata": {},
          "execution_count": 6
        }
      ]
    },
    {
      "cell_type": "code",
      "source": [
        "df_pyspark.groupBy(\"LotShape\").agg({col: \"avg\" for col in [\"LotFrontage\", \"LotArea\"]})"
      ],
      "metadata": {
        "colab": {
          "base_uri": "https://localhost:8080/",
          "height": 138
        },
        "id": "1Td5Y9GEZ4S9",
        "outputId": "24b5e77d-01fd-4e98-b68e-939f3a2e822d"
      },
      "execution_count": null,
      "outputs": [
        {
          "output_type": "execute_result",
          "data": {
            "text/plain": [
              "+--------+------------------+------------------+\n",
              "|LotShape|  avg(LotFrontage)|      avg(LotArea)|\n",
              "+--------+------------------+------------------+\n",
              "|     IR1| 76.09463722397476|11894.545454545454|\n",
              "|     IR2|              76.5|23733.658536585364|\n",
              "|     Reg| 67.03877790834312| 8876.915675675677|\n",
              "|     IR3|138.42857142857142|           41338.2|\n",
              "+--------+------------------+------------------+"
            ],
            "text/html": [
              "<table border='1'>\n",
              "<tr><th>LotShape</th><th>avg(LotFrontage)</th><th>avg(LotArea)</th></tr>\n",
              "<tr><td>IR1</td><td>76.09463722397476</td><td>11894.545454545454</td></tr>\n",
              "<tr><td>IR2</td><td>76.5</td><td>23733.658536585364</td></tr>\n",
              "<tr><td>Reg</td><td>67.03877790834312</td><td>8876.915675675677</td></tr>\n",
              "<tr><td>IR3</td><td>138.42857142857142</td><td>41338.2</td></tr>\n",
              "</table>\n"
            ]
          },
          "metadata": {},
          "execution_count": 7
        }
      ]
    },
    {
      "cell_type": "code",
      "source": [
        "df_pyspark = df_pyspark.withColumn(\"LotFrontage\", df_pyspark[\"LotFrontage\"].cast(\"int\"))"
      ],
      "metadata": {
        "id": "W5gJTgRCadkR"
      },
      "execution_count": 12,
      "outputs": []
    },
    {
      "cell_type": "code",
      "source": [
        "df_pyspark = df_pyspark.na.drop()"
      ],
      "metadata": {
        "id": "4YuqzjSNaAww"
      },
      "execution_count": 13,
      "outputs": []
    },
    {
      "cell_type": "code",
      "source": [
        "from pyspark.sql.types import FloatType, IntegerType\n",
        "from pyspark.sql.functions import udf\n",
        "\n",
        "def squared(value):\n",
        "    return value * value\n",
        "\n",
        "squared_udf = udf(squared, IntegerType())\n",
        "\n",
        "df_pyspark.withColumn(\"LotFrontage_squared\", squared_udf(\"LotFrontage\"))"
      ],
      "metadata": {
        "colab": {
          "base_uri": "https://localhost:8080/",
          "height": 549
        },
        "id": "NPa3QKVlZ5yd",
        "outputId": "56e0bb8b-af0f-4f8a-f2be-ebc6fa0ef2c6"
      },
      "execution_count": 14,
      "outputs": [
        {
          "output_type": "execute_result",
          "data": {
            "text/plain": [
              "+---+----------+--------+-----------+-------+------+-----+--------+-----------+---------+---------+---------+------------+----------+----------+--------+----------+-----------+-----------+---------+------------+---------+--------+-----------+-----------+----------+----------+---------+---------+----------+--------+--------+------------+------------+----------+------------+----------+---------+-----------+-------+---------+----------+----------+--------+--------+------------+---------+------------+------------+--------+--------+------------+------------+-----------+------------+----------+----------+-----------+----------+-----------+------------+----------+----------+----------+----------+----------+----------+-----------+-------------+---------+-----------+--------+------+-----+-----------+-------+------+------+--------+-------------+---------+-------------------+\n",
              "| Id|MSSubClass|MSZoning|LotFrontage|LotArea|Street|Alley|LotShape|LandContour|Utilities|LotConfig|LandSlope|Neighborhood|Condition1|Condition2|BldgType|HouseStyle|OverallQual|OverallCond|YearBuilt|YearRemodAdd|RoofStyle|RoofMatl|Exterior1st|Exterior2nd|MasVnrType|MasVnrArea|ExterQual|ExterCond|Foundation|BsmtQual|BsmtCond|BsmtExposure|BsmtFinType1|BsmtFinSF1|BsmtFinType2|BsmtFinSF2|BsmtUnfSF|TotalBsmtSF|Heating|HeatingQC|CentralAir|Electrical|1stFlrSF|2ndFlrSF|LowQualFinSF|GrLivArea|BsmtFullBath|BsmtHalfBath|FullBath|HalfBath|BedroomAbvGr|KitchenAbvGr|KitchenQual|TotRmsAbvGrd|Functional|Fireplaces|FireplaceQu|GarageType|GarageYrBlt|GarageFinish|GarageCars|GarageArea|GarageQual|GarageCond|PavedDrive|WoodDeckSF|OpenPorchSF|EnclosedPorch|3SsnPorch|ScreenPorch|PoolArea|PoolQC|Fence|MiscFeature|MiscVal|MoSold|YrSold|SaleType|SaleCondition|SalePrice|LotFrontage_squared|\n",
              "+---+----------+--------+-----------+-------+------+-----+--------+-----------+---------+---------+---------+------------+----------+----------+--------+----------+-----------+-----------+---------+------------+---------+--------+-----------+-----------+----------+----------+---------+---------+----------+--------+--------+------------+------------+----------+------------+----------+---------+-----------+-------+---------+----------+----------+--------+--------+------------+---------+------------+------------+--------+--------+------------+------------+-----------+------------+----------+----------+-----------+----------+-----------+------------+----------+----------+----------+----------+----------+----------+-----------+-------------+---------+-----------+--------+------+-----+-----------+-------+------+------+--------+-------------+---------+-------------------+\n",
              "|  1|        60|      RL|         65|   8450|  Pave|   NA|     Reg|        Lvl|   AllPub|   Inside|      Gtl|     CollgCr|      Norm|      Norm|    1Fam|    2Story|          7|          5|     2003|        2003|    Gable| CompShg|    VinylSd|    VinylSd|   BrkFace|       196|       Gd|       TA|     PConc|      Gd|      TA|          No|         GLQ|       706|         Unf|         0|      150|        856|   GasA|       Ex|         Y|     SBrkr|     856|     854|           0|     1710|           1|           0|       2|       1|           3|           1|         Gd|           8|       Typ|         0|         NA|    Attchd|       2003|         RFn|         2|       548|        TA|        TA|         Y|         0|         61|            0|        0|          0|       0|    NA|   NA|         NA|      0|     2|  2008|      WD|       Normal|   208500|               4225|\n",
              "|  2|        20|      RL|         80|   9600|  Pave|   NA|     Reg|        Lvl|   AllPub|      FR2|      Gtl|     Veenker|     Feedr|      Norm|    1Fam|    1Story|          6|          8|     1976|        1976|    Gable| CompShg|    MetalSd|    MetalSd|      None|         0|       TA|       TA|    CBlock|      Gd|      TA|          Gd|         ALQ|       978|         Unf|         0|      284|       1262|   GasA|       Ex|         Y|     SBrkr|    1262|       0|           0|     1262|           0|           1|       2|       0|           3|           1|         TA|           6|       Typ|         1|         TA|    Attchd|       1976|         RFn|         2|       460|        TA|        TA|         Y|       298|          0|            0|        0|          0|       0|    NA|   NA|         NA|      0|     5|  2007|      WD|       Normal|   181500|               6400|\n",
              "|  3|        60|      RL|         68|  11250|  Pave|   NA|     IR1|        Lvl|   AllPub|   Inside|      Gtl|     CollgCr|      Norm|      Norm|    1Fam|    2Story|          7|          5|     2001|        2002|    Gable| CompShg|    VinylSd|    VinylSd|   BrkFace|       162|       Gd|       TA|     PConc|      Gd|      TA|          Mn|         GLQ|       486|         Unf|         0|      434|        920|   GasA|       Ex|         Y|     SBrkr|     920|     866|           0|     1786|           1|           0|       2|       1|           3|           1|         Gd|           6|       Typ|         1|         TA|    Attchd|       2001|         RFn|         2|       608|        TA|        TA|         Y|         0|         42|            0|        0|          0|       0|    NA|   NA|         NA|      0|     9|  2008|      WD|       Normal|   223500|               4624|\n",
              "|  4|        70|      RL|         60|   9550|  Pave|   NA|     IR1|        Lvl|   AllPub|   Corner|      Gtl|     Crawfor|      Norm|      Norm|    1Fam|    2Story|          7|          5|     1915|        1970|    Gable| CompShg|    Wd Sdng|    Wd Shng|      None|         0|       TA|       TA|    BrkTil|      TA|      Gd|          No|         ALQ|       216|         Unf|         0|      540|        756|   GasA|       Gd|         Y|     SBrkr|     961|     756|           0|     1717|           1|           0|       1|       0|           3|           1|         Gd|           7|       Typ|         1|         Gd|    Detchd|       1998|         Unf|         3|       642|        TA|        TA|         Y|         0|         35|          272|        0|          0|       0|    NA|   NA|         NA|      0|     2|  2006|      WD|      Abnorml|   140000|               3600|\n",
              "|  5|        60|      RL|         84|  14260|  Pave|   NA|     IR1|        Lvl|   AllPub|      FR2|      Gtl|     NoRidge|      Norm|      Norm|    1Fam|    2Story|          8|          5|     2000|        2000|    Gable| CompShg|    VinylSd|    VinylSd|   BrkFace|       350|       Gd|       TA|     PConc|      Gd|      TA|          Av|         GLQ|       655|         Unf|         0|      490|       1145|   GasA|       Ex|         Y|     SBrkr|    1145|    1053|           0|     2198|           1|           0|       2|       1|           4|           1|         Gd|           9|       Typ|         1|         TA|    Attchd|       2000|         RFn|         3|       836|        TA|        TA|         Y|       192|         84|            0|        0|          0|       0|    NA|   NA|         NA|      0|    12|  2008|      WD|       Normal|   250000|               7056|\n",
              "|  6|        50|      RL|         85|  14115|  Pave|   NA|     IR1|        Lvl|   AllPub|   Inside|      Gtl|     Mitchel|      Norm|      Norm|    1Fam|    1.5Fin|          5|          5|     1993|        1995|    Gable| CompShg|    VinylSd|    VinylSd|      None|         0|       TA|       TA|      Wood|      Gd|      TA|          No|         GLQ|       732|         Unf|         0|       64|        796|   GasA|       Ex|         Y|     SBrkr|     796|     566|           0|     1362|           1|           0|       1|       1|           1|           1|         TA|           5|       Typ|         0|         NA|    Attchd|       1993|         Unf|         2|       480|        TA|        TA|         Y|        40|         30|            0|      320|          0|       0|    NA|MnPrv|       Shed|    700|    10|  2009|      WD|       Normal|   143000|               7225|\n",
              "|  7|        20|      RL|         75|  10084|  Pave|   NA|     Reg|        Lvl|   AllPub|   Inside|      Gtl|     Somerst|      Norm|      Norm|    1Fam|    1Story|          8|          5|     2004|        2005|    Gable| CompShg|    VinylSd|    VinylSd|     Stone|       186|       Gd|       TA|     PConc|      Ex|      TA|          Av|         GLQ|      1369|         Unf|         0|      317|       1686|   GasA|       Ex|         Y|     SBrkr|    1694|       0|           0|     1694|           1|           0|       2|       0|           3|           1|         Gd|           7|       Typ|         1|         Gd|    Attchd|       2004|         RFn|         2|       636|        TA|        TA|         Y|       255|         57|            0|        0|          0|       0|    NA|   NA|         NA|      0|     8|  2007|      WD|       Normal|   307000|               5625|\n",
              "|  9|        50|      RM|         51|   6120|  Pave|   NA|     Reg|        Lvl|   AllPub|   Inside|      Gtl|     OldTown|    Artery|      Norm|    1Fam|    1.5Fin|          7|          5|     1931|        1950|    Gable| CompShg|    BrkFace|    Wd Shng|      None|         0|       TA|       TA|    BrkTil|      TA|      TA|          No|         Unf|         0|         Unf|         0|      952|        952|   GasA|       Gd|         Y|     FuseF|    1022|     752|           0|     1774|           0|           0|       2|       0|           2|           2|         TA|           8|      Min1|         2|         TA|    Detchd|       1931|         Unf|         2|       468|        Fa|        TA|         Y|        90|          0|          205|        0|          0|       0|    NA|   NA|         NA|      0|     4|  2008|      WD|      Abnorml|   129900|               2601|\n",
              "| 10|       190|      RL|         50|   7420|  Pave|   NA|     Reg|        Lvl|   AllPub|   Corner|      Gtl|     BrkSide|    Artery|    Artery|  2fmCon|    1.5Unf|          5|          6|     1939|        1950|    Gable| CompShg|    MetalSd|    MetalSd|      None|         0|       TA|       TA|    BrkTil|      TA|      TA|          No|         GLQ|       851|         Unf|         0|      140|        991|   GasA|       Ex|         Y|     SBrkr|    1077|       0|           0|     1077|           1|           0|       1|       0|           2|           2|         TA|           5|       Typ|         2|         TA|    Attchd|       1939|         RFn|         1|       205|        Gd|        TA|         Y|         0|          4|            0|        0|          0|       0|    NA|   NA|         NA|      0|     1|  2008|      WD|       Normal|   118000|               2500|\n",
              "| 11|        20|      RL|         70|  11200|  Pave|   NA|     Reg|        Lvl|   AllPub|   Inside|      Gtl|      Sawyer|      Norm|      Norm|    1Fam|    1Story|          5|          5|     1965|        1965|      Hip| CompShg|    HdBoard|    HdBoard|      None|         0|       TA|       TA|    CBlock|      TA|      TA|          No|         Rec|       906|         Unf|         0|      134|       1040|   GasA|       Ex|         Y|     SBrkr|    1040|       0|           0|     1040|           1|           0|       1|       0|           3|           1|         TA|           5|       Typ|         0|         NA|    Detchd|       1965|         Unf|         1|       384|        TA|        TA|         Y|         0|          0|            0|        0|          0|       0|    NA|   NA|         NA|      0|     2|  2008|      WD|       Normal|   129500|               4900|\n",
              "| 12|        60|      RL|         85|  11924|  Pave|   NA|     IR1|        Lvl|   AllPub|   Inside|      Gtl|     NridgHt|      Norm|      Norm|    1Fam|    2Story|          9|          5|     2005|        2006|      Hip| CompShg|    WdShing|    Wd Shng|     Stone|       286|       Ex|       TA|     PConc|      Ex|      TA|          No|         GLQ|       998|         Unf|         0|      177|       1175|   GasA|       Ex|         Y|     SBrkr|    1182|    1142|           0|     2324|           1|           0|       3|       0|           4|           1|         Ex|          11|       Typ|         2|         Gd|   BuiltIn|       2005|         Fin|         3|       736|        TA|        TA|         Y|       147|         21|            0|        0|          0|       0|    NA|   NA|         NA|      0|     7|  2006|     New|      Partial|   345000|               7225|\n",
              "| 14|        20|      RL|         91|  10652|  Pave|   NA|     IR1|        Lvl|   AllPub|   Inside|      Gtl|     CollgCr|      Norm|      Norm|    1Fam|    1Story|          7|          5|     2006|        2007|    Gable| CompShg|    VinylSd|    VinylSd|     Stone|       306|       Gd|       TA|     PConc|      Gd|      TA|          Av|         Unf|         0|         Unf|         0|     1494|       1494|   GasA|       Ex|         Y|     SBrkr|    1494|       0|           0|     1494|           0|           0|       2|       0|           3|           1|         Gd|           7|       Typ|         1|         Gd|    Attchd|       2006|         RFn|         3|       840|        TA|        TA|         Y|       160|         33|            0|        0|          0|       0|    NA|   NA|         NA|      0|     8|  2007|     New|      Partial|   279500|               8281|\n",
              "| 16|        45|      RM|         51|   6120|  Pave|   NA|     Reg|        Lvl|   AllPub|   Corner|      Gtl|     BrkSide|      Norm|      Norm|    1Fam|    1.5Unf|          7|          8|     1929|        2001|    Gable| CompShg|    Wd Sdng|    Wd Sdng|      None|         0|       TA|       TA|    BrkTil|      TA|      TA|          No|         Unf|         0|         Unf|         0|      832|        832|   GasA|       Ex|         Y|     FuseA|     854|       0|           0|      854|           0|           0|       1|       0|           2|           1|         TA|           5|       Typ|         0|         NA|    Detchd|       1991|         Unf|         2|       576|        TA|        TA|         Y|        48|        112|            0|        0|          0|       0|    NA|GdPrv|         NA|      0|     7|  2007|      WD|       Normal|   132000|               2601|\n",
              "| 18|        90|      RL|         72|  10791|  Pave|   NA|     Reg|        Lvl|   AllPub|   Inside|      Gtl|      Sawyer|      Norm|      Norm|  Duplex|    1Story|          4|          5|     1967|        1967|    Gable| CompShg|    MetalSd|    MetalSd|      None|         0|       TA|       TA|      Slab|      NA|      NA|          NA|          NA|         0|          NA|         0|        0|          0|   GasA|       TA|         Y|     SBrkr|    1296|       0|           0|     1296|           0|           0|       2|       0|           2|           2|         TA|           6|       Typ|         0|         NA|   CarPort|       1967|         Unf|         2|       516|        TA|        TA|         Y|         0|          0|            0|        0|          0|       0|    NA|   NA|       Shed|    500|    10|  2006|      WD|       Normal|    90000|               5184|\n",
              "| 19|        20|      RL|         66|  13695|  Pave|   NA|     Reg|        Lvl|   AllPub|   Inside|      Gtl|     SawyerW|      RRAe|      Norm|    1Fam|    1Story|          5|          5|     2004|        2004|    Gable| CompShg|    VinylSd|    VinylSd|      None|         0|       TA|       TA|     PConc|      TA|      TA|          No|         GLQ|       646|         Unf|         0|      468|       1114|   GasA|       Ex|         Y|     SBrkr|    1114|       0|           0|     1114|           1|           0|       1|       1|           3|           1|         Gd|           6|       Typ|         0|         NA|    Detchd|       2004|         Unf|         2|       576|        TA|        TA|         Y|         0|        102|            0|        0|          0|       0|    NA|   NA|         NA|      0|     6|  2008|      WD|       Normal|   159000|               4356|\n",
              "| 20|        20|      RL|         70|   7560|  Pave|   NA|     Reg|        Lvl|   AllPub|   Inside|      Gtl|       NAmes|      Norm|      Norm|    1Fam|    1Story|          5|          6|     1958|        1965|      Hip| CompShg|    BrkFace|    Plywood|      None|         0|       TA|       TA|    CBlock|      TA|      TA|          No|         LwQ|       504|         Unf|         0|      525|       1029|   GasA|       TA|         Y|     SBrkr|    1339|       0|           0|     1339|           0|           0|       1|       0|           3|           1|         TA|           6|      Min1|         0|         NA|    Attchd|       1958|         Unf|         1|       294|        TA|        TA|         Y|         0|          0|            0|        0|          0|       0|    NA|MnPrv|         NA|      0|     5|  2009|     COD|      Abnorml|   139000|               4900|\n",
              "| 21|        60|      RL|        101|  14215|  Pave|   NA|     IR1|        Lvl|   AllPub|   Corner|      Gtl|     NridgHt|      Norm|      Norm|    1Fam|    2Story|          8|          5|     2005|        2006|    Gable| CompShg|    VinylSd|    VinylSd|   BrkFace|       380|       Gd|       TA|     PConc|      Ex|      TA|          Av|         Unf|         0|         Unf|         0|     1158|       1158|   GasA|       Ex|         Y|     SBrkr|    1158|    1218|           0|     2376|           0|           0|       3|       1|           4|           1|         Gd|           9|       Typ|         1|         Gd|   BuiltIn|       2005|         RFn|         3|       853|        TA|        TA|         Y|       240|        154|            0|        0|          0|       0|    NA|   NA|         NA|      0|    11|  2006|     New|      Partial|   325300|              10201|\n",
              "| 22|        45|      RM|         57|   7449|  Pave| Grvl|     Reg|        Bnk|   AllPub|   Inside|      Gtl|      IDOTRR|      Norm|      Norm|    1Fam|    1.5Unf|          7|          7|     1930|        1950|    Gable| CompShg|    Wd Sdng|    Wd Sdng|      None|         0|       TA|       TA|     PConc|      TA|      TA|          No|         Unf|         0|         Unf|         0|      637|        637|   GasA|       Ex|         Y|     FuseF|    1108|       0|           0|     1108|           0|           0|       1|       0|           3|           1|         Gd|           6|       Typ|         1|         Gd|    Attchd|       1930|         Unf|         1|       280|        TA|        TA|         N|         0|          0|          205|        0|          0|       0|    NA|GdPrv|         NA|      0|     6|  2007|      WD|       Normal|   139400|               3249|\n",
              "| 23|        20|      RL|         75|   9742|  Pave|   NA|     Reg|        Lvl|   AllPub|   Inside|      Gtl|     CollgCr|      Norm|      Norm|    1Fam|    1Story|          8|          5|     2002|        2002|      Hip| CompShg|    VinylSd|    VinylSd|   BrkFace|       281|       Gd|       TA|     PConc|      Gd|      TA|          No|         Unf|         0|         Unf|         0|     1777|       1777|   GasA|       Ex|         Y|     SBrkr|    1795|       0|           0|     1795|           0|           0|       2|       0|           3|           1|         Gd|           7|       Typ|         1|         Gd|    Attchd|       2002|         RFn|         2|       534|        TA|        TA|         Y|       171|        159|            0|        0|          0|       0|    NA|   NA|         NA|      0|     9|  2008|      WD|       Normal|   230000|               5625|\n",
              "| 24|       120|      RM|         44|   4224|  Pave|   NA|     Reg|        Lvl|   AllPub|   Inside|      Gtl|     MeadowV|      Norm|      Norm|  TwnhsE|    1Story|          5|          7|     1976|        1976|    Gable| CompShg|    CemntBd|    CmentBd|      None|         0|       TA|       TA|     PConc|      Gd|      TA|          No|         GLQ|       840|         Unf|         0|      200|       1040|   GasA|       TA|         Y|     SBrkr|    1060|       0|           0|     1060|           1|           0|       1|       0|           3|           1|         TA|           6|       Typ|         1|         TA|    Attchd|       1976|         Unf|         2|       572|        TA|        TA|         Y|       100|        110|            0|        0|          0|       0|    NA|   NA|         NA|      0|     6|  2007|      WD|       Normal|   129900|               1936|\n",
              "+---+----------+--------+-----------+-------+------+-----+--------+-----------+---------+---------+---------+------------+----------+----------+--------+----------+-----------+-----------+---------+------------+---------+--------+-----------+-----------+----------+----------+---------+---------+----------+--------+--------+------------+------------+----------+------------+----------+---------+-----------+-------+---------+----------+----------+--------+--------+------------+---------+------------+------------+--------+--------+------------+------------+-----------+------------+----------+----------+-----------+----------+-----------+------------+----------+----------+----------+----------+----------+----------+-----------+-------------+---------+-----------+--------+------+-----+-----------+-------+------+------+--------+-------------+---------+-------------------+\n",
              "only showing top 20 rows"
            ],
            "text/html": [
              "<table border='1'>\n",
              "<tr><th>Id</th><th>MSSubClass</th><th>MSZoning</th><th>LotFrontage</th><th>LotArea</th><th>Street</th><th>Alley</th><th>LotShape</th><th>LandContour</th><th>Utilities</th><th>LotConfig</th><th>LandSlope</th><th>Neighborhood</th><th>Condition1</th><th>Condition2</th><th>BldgType</th><th>HouseStyle</th><th>OverallQual</th><th>OverallCond</th><th>YearBuilt</th><th>YearRemodAdd</th><th>RoofStyle</th><th>RoofMatl</th><th>Exterior1st</th><th>Exterior2nd</th><th>MasVnrType</th><th>MasVnrArea</th><th>ExterQual</th><th>ExterCond</th><th>Foundation</th><th>BsmtQual</th><th>BsmtCond</th><th>BsmtExposure</th><th>BsmtFinType1</th><th>BsmtFinSF1</th><th>BsmtFinType2</th><th>BsmtFinSF2</th><th>BsmtUnfSF</th><th>TotalBsmtSF</th><th>Heating</th><th>HeatingQC</th><th>CentralAir</th><th>Electrical</th><th>1stFlrSF</th><th>2ndFlrSF</th><th>LowQualFinSF</th><th>GrLivArea</th><th>BsmtFullBath</th><th>BsmtHalfBath</th><th>FullBath</th><th>HalfBath</th><th>BedroomAbvGr</th><th>KitchenAbvGr</th><th>KitchenQual</th><th>TotRmsAbvGrd</th><th>Functional</th><th>Fireplaces</th><th>FireplaceQu</th><th>GarageType</th><th>GarageYrBlt</th><th>GarageFinish</th><th>GarageCars</th><th>GarageArea</th><th>GarageQual</th><th>GarageCond</th><th>PavedDrive</th><th>WoodDeckSF</th><th>OpenPorchSF</th><th>EnclosedPorch</th><th>3SsnPorch</th><th>ScreenPorch</th><th>PoolArea</th><th>PoolQC</th><th>Fence</th><th>MiscFeature</th><th>MiscVal</th><th>MoSold</th><th>YrSold</th><th>SaleType</th><th>SaleCondition</th><th>SalePrice</th><th>LotFrontage_squared</th></tr>\n",
              "<tr><td>1</td><td>60</td><td>RL</td><td>65</td><td>8450</td><td>Pave</td><td>NA</td><td>Reg</td><td>Lvl</td><td>AllPub</td><td>Inside</td><td>Gtl</td><td>CollgCr</td><td>Norm</td><td>Norm</td><td>1Fam</td><td>2Story</td><td>7</td><td>5</td><td>2003</td><td>2003</td><td>Gable</td><td>CompShg</td><td>VinylSd</td><td>VinylSd</td><td>BrkFace</td><td>196</td><td>Gd</td><td>TA</td><td>PConc</td><td>Gd</td><td>TA</td><td>No</td><td>GLQ</td><td>706</td><td>Unf</td><td>0</td><td>150</td><td>856</td><td>GasA</td><td>Ex</td><td>Y</td><td>SBrkr</td><td>856</td><td>854</td><td>0</td><td>1710</td><td>1</td><td>0</td><td>2</td><td>1</td><td>3</td><td>1</td><td>Gd</td><td>8</td><td>Typ</td><td>0</td><td>NA</td><td>Attchd</td><td>2003</td><td>RFn</td><td>2</td><td>548</td><td>TA</td><td>TA</td><td>Y</td><td>0</td><td>61</td><td>0</td><td>0</td><td>0</td><td>0</td><td>NA</td><td>NA</td><td>NA</td><td>0</td><td>2</td><td>2008</td><td>WD</td><td>Normal</td><td>208500</td><td>4225</td></tr>\n",
              "<tr><td>2</td><td>20</td><td>RL</td><td>80</td><td>9600</td><td>Pave</td><td>NA</td><td>Reg</td><td>Lvl</td><td>AllPub</td><td>FR2</td><td>Gtl</td><td>Veenker</td><td>Feedr</td><td>Norm</td><td>1Fam</td><td>1Story</td><td>6</td><td>8</td><td>1976</td><td>1976</td><td>Gable</td><td>CompShg</td><td>MetalSd</td><td>MetalSd</td><td>None</td><td>0</td><td>TA</td><td>TA</td><td>CBlock</td><td>Gd</td><td>TA</td><td>Gd</td><td>ALQ</td><td>978</td><td>Unf</td><td>0</td><td>284</td><td>1262</td><td>GasA</td><td>Ex</td><td>Y</td><td>SBrkr</td><td>1262</td><td>0</td><td>0</td><td>1262</td><td>0</td><td>1</td><td>2</td><td>0</td><td>3</td><td>1</td><td>TA</td><td>6</td><td>Typ</td><td>1</td><td>TA</td><td>Attchd</td><td>1976</td><td>RFn</td><td>2</td><td>460</td><td>TA</td><td>TA</td><td>Y</td><td>298</td><td>0</td><td>0</td><td>0</td><td>0</td><td>0</td><td>NA</td><td>NA</td><td>NA</td><td>0</td><td>5</td><td>2007</td><td>WD</td><td>Normal</td><td>181500</td><td>6400</td></tr>\n",
              "<tr><td>3</td><td>60</td><td>RL</td><td>68</td><td>11250</td><td>Pave</td><td>NA</td><td>IR1</td><td>Lvl</td><td>AllPub</td><td>Inside</td><td>Gtl</td><td>CollgCr</td><td>Norm</td><td>Norm</td><td>1Fam</td><td>2Story</td><td>7</td><td>5</td><td>2001</td><td>2002</td><td>Gable</td><td>CompShg</td><td>VinylSd</td><td>VinylSd</td><td>BrkFace</td><td>162</td><td>Gd</td><td>TA</td><td>PConc</td><td>Gd</td><td>TA</td><td>Mn</td><td>GLQ</td><td>486</td><td>Unf</td><td>0</td><td>434</td><td>920</td><td>GasA</td><td>Ex</td><td>Y</td><td>SBrkr</td><td>920</td><td>866</td><td>0</td><td>1786</td><td>1</td><td>0</td><td>2</td><td>1</td><td>3</td><td>1</td><td>Gd</td><td>6</td><td>Typ</td><td>1</td><td>TA</td><td>Attchd</td><td>2001</td><td>RFn</td><td>2</td><td>608</td><td>TA</td><td>TA</td><td>Y</td><td>0</td><td>42</td><td>0</td><td>0</td><td>0</td><td>0</td><td>NA</td><td>NA</td><td>NA</td><td>0</td><td>9</td><td>2008</td><td>WD</td><td>Normal</td><td>223500</td><td>4624</td></tr>\n",
              "<tr><td>4</td><td>70</td><td>RL</td><td>60</td><td>9550</td><td>Pave</td><td>NA</td><td>IR1</td><td>Lvl</td><td>AllPub</td><td>Corner</td><td>Gtl</td><td>Crawfor</td><td>Norm</td><td>Norm</td><td>1Fam</td><td>2Story</td><td>7</td><td>5</td><td>1915</td><td>1970</td><td>Gable</td><td>CompShg</td><td>Wd Sdng</td><td>Wd Shng</td><td>None</td><td>0</td><td>TA</td><td>TA</td><td>BrkTil</td><td>TA</td><td>Gd</td><td>No</td><td>ALQ</td><td>216</td><td>Unf</td><td>0</td><td>540</td><td>756</td><td>GasA</td><td>Gd</td><td>Y</td><td>SBrkr</td><td>961</td><td>756</td><td>0</td><td>1717</td><td>1</td><td>0</td><td>1</td><td>0</td><td>3</td><td>1</td><td>Gd</td><td>7</td><td>Typ</td><td>1</td><td>Gd</td><td>Detchd</td><td>1998</td><td>Unf</td><td>3</td><td>642</td><td>TA</td><td>TA</td><td>Y</td><td>0</td><td>35</td><td>272</td><td>0</td><td>0</td><td>0</td><td>NA</td><td>NA</td><td>NA</td><td>0</td><td>2</td><td>2006</td><td>WD</td><td>Abnorml</td><td>140000</td><td>3600</td></tr>\n",
              "<tr><td>5</td><td>60</td><td>RL</td><td>84</td><td>14260</td><td>Pave</td><td>NA</td><td>IR1</td><td>Lvl</td><td>AllPub</td><td>FR2</td><td>Gtl</td><td>NoRidge</td><td>Norm</td><td>Norm</td><td>1Fam</td><td>2Story</td><td>8</td><td>5</td><td>2000</td><td>2000</td><td>Gable</td><td>CompShg</td><td>VinylSd</td><td>VinylSd</td><td>BrkFace</td><td>350</td><td>Gd</td><td>TA</td><td>PConc</td><td>Gd</td><td>TA</td><td>Av</td><td>GLQ</td><td>655</td><td>Unf</td><td>0</td><td>490</td><td>1145</td><td>GasA</td><td>Ex</td><td>Y</td><td>SBrkr</td><td>1145</td><td>1053</td><td>0</td><td>2198</td><td>1</td><td>0</td><td>2</td><td>1</td><td>4</td><td>1</td><td>Gd</td><td>9</td><td>Typ</td><td>1</td><td>TA</td><td>Attchd</td><td>2000</td><td>RFn</td><td>3</td><td>836</td><td>TA</td><td>TA</td><td>Y</td><td>192</td><td>84</td><td>0</td><td>0</td><td>0</td><td>0</td><td>NA</td><td>NA</td><td>NA</td><td>0</td><td>12</td><td>2008</td><td>WD</td><td>Normal</td><td>250000</td><td>7056</td></tr>\n",
              "<tr><td>6</td><td>50</td><td>RL</td><td>85</td><td>14115</td><td>Pave</td><td>NA</td><td>IR1</td><td>Lvl</td><td>AllPub</td><td>Inside</td><td>Gtl</td><td>Mitchel</td><td>Norm</td><td>Norm</td><td>1Fam</td><td>1.5Fin</td><td>5</td><td>5</td><td>1993</td><td>1995</td><td>Gable</td><td>CompShg</td><td>VinylSd</td><td>VinylSd</td><td>None</td><td>0</td><td>TA</td><td>TA</td><td>Wood</td><td>Gd</td><td>TA</td><td>No</td><td>GLQ</td><td>732</td><td>Unf</td><td>0</td><td>64</td><td>796</td><td>GasA</td><td>Ex</td><td>Y</td><td>SBrkr</td><td>796</td><td>566</td><td>0</td><td>1362</td><td>1</td><td>0</td><td>1</td><td>1</td><td>1</td><td>1</td><td>TA</td><td>5</td><td>Typ</td><td>0</td><td>NA</td><td>Attchd</td><td>1993</td><td>Unf</td><td>2</td><td>480</td><td>TA</td><td>TA</td><td>Y</td><td>40</td><td>30</td><td>0</td><td>320</td><td>0</td><td>0</td><td>NA</td><td>MnPrv</td><td>Shed</td><td>700</td><td>10</td><td>2009</td><td>WD</td><td>Normal</td><td>143000</td><td>7225</td></tr>\n",
              "<tr><td>7</td><td>20</td><td>RL</td><td>75</td><td>10084</td><td>Pave</td><td>NA</td><td>Reg</td><td>Lvl</td><td>AllPub</td><td>Inside</td><td>Gtl</td><td>Somerst</td><td>Norm</td><td>Norm</td><td>1Fam</td><td>1Story</td><td>8</td><td>5</td><td>2004</td><td>2005</td><td>Gable</td><td>CompShg</td><td>VinylSd</td><td>VinylSd</td><td>Stone</td><td>186</td><td>Gd</td><td>TA</td><td>PConc</td><td>Ex</td><td>TA</td><td>Av</td><td>GLQ</td><td>1369</td><td>Unf</td><td>0</td><td>317</td><td>1686</td><td>GasA</td><td>Ex</td><td>Y</td><td>SBrkr</td><td>1694</td><td>0</td><td>0</td><td>1694</td><td>1</td><td>0</td><td>2</td><td>0</td><td>3</td><td>1</td><td>Gd</td><td>7</td><td>Typ</td><td>1</td><td>Gd</td><td>Attchd</td><td>2004</td><td>RFn</td><td>2</td><td>636</td><td>TA</td><td>TA</td><td>Y</td><td>255</td><td>57</td><td>0</td><td>0</td><td>0</td><td>0</td><td>NA</td><td>NA</td><td>NA</td><td>0</td><td>8</td><td>2007</td><td>WD</td><td>Normal</td><td>307000</td><td>5625</td></tr>\n",
              "<tr><td>9</td><td>50</td><td>RM</td><td>51</td><td>6120</td><td>Pave</td><td>NA</td><td>Reg</td><td>Lvl</td><td>AllPub</td><td>Inside</td><td>Gtl</td><td>OldTown</td><td>Artery</td><td>Norm</td><td>1Fam</td><td>1.5Fin</td><td>7</td><td>5</td><td>1931</td><td>1950</td><td>Gable</td><td>CompShg</td><td>BrkFace</td><td>Wd Shng</td><td>None</td><td>0</td><td>TA</td><td>TA</td><td>BrkTil</td><td>TA</td><td>TA</td><td>No</td><td>Unf</td><td>0</td><td>Unf</td><td>0</td><td>952</td><td>952</td><td>GasA</td><td>Gd</td><td>Y</td><td>FuseF</td><td>1022</td><td>752</td><td>0</td><td>1774</td><td>0</td><td>0</td><td>2</td><td>0</td><td>2</td><td>2</td><td>TA</td><td>8</td><td>Min1</td><td>2</td><td>TA</td><td>Detchd</td><td>1931</td><td>Unf</td><td>2</td><td>468</td><td>Fa</td><td>TA</td><td>Y</td><td>90</td><td>0</td><td>205</td><td>0</td><td>0</td><td>0</td><td>NA</td><td>NA</td><td>NA</td><td>0</td><td>4</td><td>2008</td><td>WD</td><td>Abnorml</td><td>129900</td><td>2601</td></tr>\n",
              "<tr><td>10</td><td>190</td><td>RL</td><td>50</td><td>7420</td><td>Pave</td><td>NA</td><td>Reg</td><td>Lvl</td><td>AllPub</td><td>Corner</td><td>Gtl</td><td>BrkSide</td><td>Artery</td><td>Artery</td><td>2fmCon</td><td>1.5Unf</td><td>5</td><td>6</td><td>1939</td><td>1950</td><td>Gable</td><td>CompShg</td><td>MetalSd</td><td>MetalSd</td><td>None</td><td>0</td><td>TA</td><td>TA</td><td>BrkTil</td><td>TA</td><td>TA</td><td>No</td><td>GLQ</td><td>851</td><td>Unf</td><td>0</td><td>140</td><td>991</td><td>GasA</td><td>Ex</td><td>Y</td><td>SBrkr</td><td>1077</td><td>0</td><td>0</td><td>1077</td><td>1</td><td>0</td><td>1</td><td>0</td><td>2</td><td>2</td><td>TA</td><td>5</td><td>Typ</td><td>2</td><td>TA</td><td>Attchd</td><td>1939</td><td>RFn</td><td>1</td><td>205</td><td>Gd</td><td>TA</td><td>Y</td><td>0</td><td>4</td><td>0</td><td>0</td><td>0</td><td>0</td><td>NA</td><td>NA</td><td>NA</td><td>0</td><td>1</td><td>2008</td><td>WD</td><td>Normal</td><td>118000</td><td>2500</td></tr>\n",
              "<tr><td>11</td><td>20</td><td>RL</td><td>70</td><td>11200</td><td>Pave</td><td>NA</td><td>Reg</td><td>Lvl</td><td>AllPub</td><td>Inside</td><td>Gtl</td><td>Sawyer</td><td>Norm</td><td>Norm</td><td>1Fam</td><td>1Story</td><td>5</td><td>5</td><td>1965</td><td>1965</td><td>Hip</td><td>CompShg</td><td>HdBoard</td><td>HdBoard</td><td>None</td><td>0</td><td>TA</td><td>TA</td><td>CBlock</td><td>TA</td><td>TA</td><td>No</td><td>Rec</td><td>906</td><td>Unf</td><td>0</td><td>134</td><td>1040</td><td>GasA</td><td>Ex</td><td>Y</td><td>SBrkr</td><td>1040</td><td>0</td><td>0</td><td>1040</td><td>1</td><td>0</td><td>1</td><td>0</td><td>3</td><td>1</td><td>TA</td><td>5</td><td>Typ</td><td>0</td><td>NA</td><td>Detchd</td><td>1965</td><td>Unf</td><td>1</td><td>384</td><td>TA</td><td>TA</td><td>Y</td><td>0</td><td>0</td><td>0</td><td>0</td><td>0</td><td>0</td><td>NA</td><td>NA</td><td>NA</td><td>0</td><td>2</td><td>2008</td><td>WD</td><td>Normal</td><td>129500</td><td>4900</td></tr>\n",
              "<tr><td>12</td><td>60</td><td>RL</td><td>85</td><td>11924</td><td>Pave</td><td>NA</td><td>IR1</td><td>Lvl</td><td>AllPub</td><td>Inside</td><td>Gtl</td><td>NridgHt</td><td>Norm</td><td>Norm</td><td>1Fam</td><td>2Story</td><td>9</td><td>5</td><td>2005</td><td>2006</td><td>Hip</td><td>CompShg</td><td>WdShing</td><td>Wd Shng</td><td>Stone</td><td>286</td><td>Ex</td><td>TA</td><td>PConc</td><td>Ex</td><td>TA</td><td>No</td><td>GLQ</td><td>998</td><td>Unf</td><td>0</td><td>177</td><td>1175</td><td>GasA</td><td>Ex</td><td>Y</td><td>SBrkr</td><td>1182</td><td>1142</td><td>0</td><td>2324</td><td>1</td><td>0</td><td>3</td><td>0</td><td>4</td><td>1</td><td>Ex</td><td>11</td><td>Typ</td><td>2</td><td>Gd</td><td>BuiltIn</td><td>2005</td><td>Fin</td><td>3</td><td>736</td><td>TA</td><td>TA</td><td>Y</td><td>147</td><td>21</td><td>0</td><td>0</td><td>0</td><td>0</td><td>NA</td><td>NA</td><td>NA</td><td>0</td><td>7</td><td>2006</td><td>New</td><td>Partial</td><td>345000</td><td>7225</td></tr>\n",
              "<tr><td>14</td><td>20</td><td>RL</td><td>91</td><td>10652</td><td>Pave</td><td>NA</td><td>IR1</td><td>Lvl</td><td>AllPub</td><td>Inside</td><td>Gtl</td><td>CollgCr</td><td>Norm</td><td>Norm</td><td>1Fam</td><td>1Story</td><td>7</td><td>5</td><td>2006</td><td>2007</td><td>Gable</td><td>CompShg</td><td>VinylSd</td><td>VinylSd</td><td>Stone</td><td>306</td><td>Gd</td><td>TA</td><td>PConc</td><td>Gd</td><td>TA</td><td>Av</td><td>Unf</td><td>0</td><td>Unf</td><td>0</td><td>1494</td><td>1494</td><td>GasA</td><td>Ex</td><td>Y</td><td>SBrkr</td><td>1494</td><td>0</td><td>0</td><td>1494</td><td>0</td><td>0</td><td>2</td><td>0</td><td>3</td><td>1</td><td>Gd</td><td>7</td><td>Typ</td><td>1</td><td>Gd</td><td>Attchd</td><td>2006</td><td>RFn</td><td>3</td><td>840</td><td>TA</td><td>TA</td><td>Y</td><td>160</td><td>33</td><td>0</td><td>0</td><td>0</td><td>0</td><td>NA</td><td>NA</td><td>NA</td><td>0</td><td>8</td><td>2007</td><td>New</td><td>Partial</td><td>279500</td><td>8281</td></tr>\n",
              "<tr><td>16</td><td>45</td><td>RM</td><td>51</td><td>6120</td><td>Pave</td><td>NA</td><td>Reg</td><td>Lvl</td><td>AllPub</td><td>Corner</td><td>Gtl</td><td>BrkSide</td><td>Norm</td><td>Norm</td><td>1Fam</td><td>1.5Unf</td><td>7</td><td>8</td><td>1929</td><td>2001</td><td>Gable</td><td>CompShg</td><td>Wd Sdng</td><td>Wd Sdng</td><td>None</td><td>0</td><td>TA</td><td>TA</td><td>BrkTil</td><td>TA</td><td>TA</td><td>No</td><td>Unf</td><td>0</td><td>Unf</td><td>0</td><td>832</td><td>832</td><td>GasA</td><td>Ex</td><td>Y</td><td>FuseA</td><td>854</td><td>0</td><td>0</td><td>854</td><td>0</td><td>0</td><td>1</td><td>0</td><td>2</td><td>1</td><td>TA</td><td>5</td><td>Typ</td><td>0</td><td>NA</td><td>Detchd</td><td>1991</td><td>Unf</td><td>2</td><td>576</td><td>TA</td><td>TA</td><td>Y</td><td>48</td><td>112</td><td>0</td><td>0</td><td>0</td><td>0</td><td>NA</td><td>GdPrv</td><td>NA</td><td>0</td><td>7</td><td>2007</td><td>WD</td><td>Normal</td><td>132000</td><td>2601</td></tr>\n",
              "<tr><td>18</td><td>90</td><td>RL</td><td>72</td><td>10791</td><td>Pave</td><td>NA</td><td>Reg</td><td>Lvl</td><td>AllPub</td><td>Inside</td><td>Gtl</td><td>Sawyer</td><td>Norm</td><td>Norm</td><td>Duplex</td><td>1Story</td><td>4</td><td>5</td><td>1967</td><td>1967</td><td>Gable</td><td>CompShg</td><td>MetalSd</td><td>MetalSd</td><td>None</td><td>0</td><td>TA</td><td>TA</td><td>Slab</td><td>NA</td><td>NA</td><td>NA</td><td>NA</td><td>0</td><td>NA</td><td>0</td><td>0</td><td>0</td><td>GasA</td><td>TA</td><td>Y</td><td>SBrkr</td><td>1296</td><td>0</td><td>0</td><td>1296</td><td>0</td><td>0</td><td>2</td><td>0</td><td>2</td><td>2</td><td>TA</td><td>6</td><td>Typ</td><td>0</td><td>NA</td><td>CarPort</td><td>1967</td><td>Unf</td><td>2</td><td>516</td><td>TA</td><td>TA</td><td>Y</td><td>0</td><td>0</td><td>0</td><td>0</td><td>0</td><td>0</td><td>NA</td><td>NA</td><td>Shed</td><td>500</td><td>10</td><td>2006</td><td>WD</td><td>Normal</td><td>90000</td><td>5184</td></tr>\n",
              "<tr><td>19</td><td>20</td><td>RL</td><td>66</td><td>13695</td><td>Pave</td><td>NA</td><td>Reg</td><td>Lvl</td><td>AllPub</td><td>Inside</td><td>Gtl</td><td>SawyerW</td><td>RRAe</td><td>Norm</td><td>1Fam</td><td>1Story</td><td>5</td><td>5</td><td>2004</td><td>2004</td><td>Gable</td><td>CompShg</td><td>VinylSd</td><td>VinylSd</td><td>None</td><td>0</td><td>TA</td><td>TA</td><td>PConc</td><td>TA</td><td>TA</td><td>No</td><td>GLQ</td><td>646</td><td>Unf</td><td>0</td><td>468</td><td>1114</td><td>GasA</td><td>Ex</td><td>Y</td><td>SBrkr</td><td>1114</td><td>0</td><td>0</td><td>1114</td><td>1</td><td>0</td><td>1</td><td>1</td><td>3</td><td>1</td><td>Gd</td><td>6</td><td>Typ</td><td>0</td><td>NA</td><td>Detchd</td><td>2004</td><td>Unf</td><td>2</td><td>576</td><td>TA</td><td>TA</td><td>Y</td><td>0</td><td>102</td><td>0</td><td>0</td><td>0</td><td>0</td><td>NA</td><td>NA</td><td>NA</td><td>0</td><td>6</td><td>2008</td><td>WD</td><td>Normal</td><td>159000</td><td>4356</td></tr>\n",
              "<tr><td>20</td><td>20</td><td>RL</td><td>70</td><td>7560</td><td>Pave</td><td>NA</td><td>Reg</td><td>Lvl</td><td>AllPub</td><td>Inside</td><td>Gtl</td><td>NAmes</td><td>Norm</td><td>Norm</td><td>1Fam</td><td>1Story</td><td>5</td><td>6</td><td>1958</td><td>1965</td><td>Hip</td><td>CompShg</td><td>BrkFace</td><td>Plywood</td><td>None</td><td>0</td><td>TA</td><td>TA</td><td>CBlock</td><td>TA</td><td>TA</td><td>No</td><td>LwQ</td><td>504</td><td>Unf</td><td>0</td><td>525</td><td>1029</td><td>GasA</td><td>TA</td><td>Y</td><td>SBrkr</td><td>1339</td><td>0</td><td>0</td><td>1339</td><td>0</td><td>0</td><td>1</td><td>0</td><td>3</td><td>1</td><td>TA</td><td>6</td><td>Min1</td><td>0</td><td>NA</td><td>Attchd</td><td>1958</td><td>Unf</td><td>1</td><td>294</td><td>TA</td><td>TA</td><td>Y</td><td>0</td><td>0</td><td>0</td><td>0</td><td>0</td><td>0</td><td>NA</td><td>MnPrv</td><td>NA</td><td>0</td><td>5</td><td>2009</td><td>COD</td><td>Abnorml</td><td>139000</td><td>4900</td></tr>\n",
              "<tr><td>21</td><td>60</td><td>RL</td><td>101</td><td>14215</td><td>Pave</td><td>NA</td><td>IR1</td><td>Lvl</td><td>AllPub</td><td>Corner</td><td>Gtl</td><td>NridgHt</td><td>Norm</td><td>Norm</td><td>1Fam</td><td>2Story</td><td>8</td><td>5</td><td>2005</td><td>2006</td><td>Gable</td><td>CompShg</td><td>VinylSd</td><td>VinylSd</td><td>BrkFace</td><td>380</td><td>Gd</td><td>TA</td><td>PConc</td><td>Ex</td><td>TA</td><td>Av</td><td>Unf</td><td>0</td><td>Unf</td><td>0</td><td>1158</td><td>1158</td><td>GasA</td><td>Ex</td><td>Y</td><td>SBrkr</td><td>1158</td><td>1218</td><td>0</td><td>2376</td><td>0</td><td>0</td><td>3</td><td>1</td><td>4</td><td>1</td><td>Gd</td><td>9</td><td>Typ</td><td>1</td><td>Gd</td><td>BuiltIn</td><td>2005</td><td>RFn</td><td>3</td><td>853</td><td>TA</td><td>TA</td><td>Y</td><td>240</td><td>154</td><td>0</td><td>0</td><td>0</td><td>0</td><td>NA</td><td>NA</td><td>NA</td><td>0</td><td>11</td><td>2006</td><td>New</td><td>Partial</td><td>325300</td><td>10201</td></tr>\n",
              "<tr><td>22</td><td>45</td><td>RM</td><td>57</td><td>7449</td><td>Pave</td><td>Grvl</td><td>Reg</td><td>Bnk</td><td>AllPub</td><td>Inside</td><td>Gtl</td><td>IDOTRR</td><td>Norm</td><td>Norm</td><td>1Fam</td><td>1.5Unf</td><td>7</td><td>7</td><td>1930</td><td>1950</td><td>Gable</td><td>CompShg</td><td>Wd Sdng</td><td>Wd Sdng</td><td>None</td><td>0</td><td>TA</td><td>TA</td><td>PConc</td><td>TA</td><td>TA</td><td>No</td><td>Unf</td><td>0</td><td>Unf</td><td>0</td><td>637</td><td>637</td><td>GasA</td><td>Ex</td><td>Y</td><td>FuseF</td><td>1108</td><td>0</td><td>0</td><td>1108</td><td>0</td><td>0</td><td>1</td><td>0</td><td>3</td><td>1</td><td>Gd</td><td>6</td><td>Typ</td><td>1</td><td>Gd</td><td>Attchd</td><td>1930</td><td>Unf</td><td>1</td><td>280</td><td>TA</td><td>TA</td><td>N</td><td>0</td><td>0</td><td>205</td><td>0</td><td>0</td><td>0</td><td>NA</td><td>GdPrv</td><td>NA</td><td>0</td><td>6</td><td>2007</td><td>WD</td><td>Normal</td><td>139400</td><td>3249</td></tr>\n",
              "<tr><td>23</td><td>20</td><td>RL</td><td>75</td><td>9742</td><td>Pave</td><td>NA</td><td>Reg</td><td>Lvl</td><td>AllPub</td><td>Inside</td><td>Gtl</td><td>CollgCr</td><td>Norm</td><td>Norm</td><td>1Fam</td><td>1Story</td><td>8</td><td>5</td><td>2002</td><td>2002</td><td>Hip</td><td>CompShg</td><td>VinylSd</td><td>VinylSd</td><td>BrkFace</td><td>281</td><td>Gd</td><td>TA</td><td>PConc</td><td>Gd</td><td>TA</td><td>No</td><td>Unf</td><td>0</td><td>Unf</td><td>0</td><td>1777</td><td>1777</td><td>GasA</td><td>Ex</td><td>Y</td><td>SBrkr</td><td>1795</td><td>0</td><td>0</td><td>1795</td><td>0</td><td>0</td><td>2</td><td>0</td><td>3</td><td>1</td><td>Gd</td><td>7</td><td>Typ</td><td>1</td><td>Gd</td><td>Attchd</td><td>2002</td><td>RFn</td><td>2</td><td>534</td><td>TA</td><td>TA</td><td>Y</td><td>171</td><td>159</td><td>0</td><td>0</td><td>0</td><td>0</td><td>NA</td><td>NA</td><td>NA</td><td>0</td><td>9</td><td>2008</td><td>WD</td><td>Normal</td><td>230000</td><td>5625</td></tr>\n",
              "<tr><td>24</td><td>120</td><td>RM</td><td>44</td><td>4224</td><td>Pave</td><td>NA</td><td>Reg</td><td>Lvl</td><td>AllPub</td><td>Inside</td><td>Gtl</td><td>MeadowV</td><td>Norm</td><td>Norm</td><td>TwnhsE</td><td>1Story</td><td>5</td><td>7</td><td>1976</td><td>1976</td><td>Gable</td><td>CompShg</td><td>CemntBd</td><td>CmentBd</td><td>None</td><td>0</td><td>TA</td><td>TA</td><td>PConc</td><td>Gd</td><td>TA</td><td>No</td><td>GLQ</td><td>840</td><td>Unf</td><td>0</td><td>200</td><td>1040</td><td>GasA</td><td>TA</td><td>Y</td><td>SBrkr</td><td>1060</td><td>0</td><td>0</td><td>1060</td><td>1</td><td>0</td><td>1</td><td>0</td><td>3</td><td>1</td><td>TA</td><td>6</td><td>Typ</td><td>1</td><td>TA</td><td>Attchd</td><td>1976</td><td>Unf</td><td>2</td><td>572</td><td>TA</td><td>TA</td><td>Y</td><td>100</td><td>110</td><td>0</td><td>0</td><td>0</td><td>0</td><td>NA</td><td>NA</td><td>NA</td><td>0</td><td>6</td><td>2007</td><td>WD</td><td>Normal</td><td>129900</td><td>1936</td></tr>\n",
              "</table>\n",
              "only showing top 20 rows\n"
            ]
          },
          "metadata": {},
          "execution_count": 14
        }
      ]
    },
    {
      "cell_type": "code",
      "source": [
        "train, test = df_pyspark.randomSplit([0.7, 0.3])\n",
        "\n",
        "train, test"
      ],
      "metadata": {
        "id": "_8Pg_C_GdzmG"
      },
      "execution_count": null,
      "outputs": []
    },
    {
      "cell_type": "code",
      "source": [
        "numerical_features_lst = train[num_cols].columns\n",
        "numerical_features_lst.remove('Id')\n",
        "numerical_features_lst.remove('SalePrice')\n",
        "# numerical_features_lst.remove('id')\n",
        "# numerical_features_lst.remove('ocean_proximity')\n",
        "\n",
        "numerical_features_lst"
      ],
      "metadata": {
        "colab": {
          "base_uri": "https://localhost:8080/"
        },
        "id": "KGlJp_8dd1nA",
        "outputId": "032a3da2-67fb-4f10-b0ef-7774a6c6958c"
      },
      "execution_count": 59,
      "outputs": [
        {
          "output_type": "execute_result",
          "data": {
            "text/plain": [
              "['MSSubClass',\n",
              " 'LotArea',\n",
              " 'OverallQual',\n",
              " 'YearBuilt',\n",
              " 'YearRemodAdd',\n",
              " 'BsmtFinSF1',\n",
              " 'BsmtFinSF2',\n",
              " 'BsmtUnfSF',\n",
              " 'TotalBsmtSF',\n",
              " '1stFlrSF',\n",
              " '2ndFlrSF',\n",
              " 'LowQualFinSF',\n",
              " 'GrLivArea',\n",
              " 'TotRmsAbvGrd',\n",
              " 'GarageArea',\n",
              " 'WoodDeckSF',\n",
              " 'OpenPorchSF',\n",
              " 'EnclosedPorch',\n",
              " '3SsnPorch',\n",
              " 'ScreenPorch',\n",
              " 'MiscVal',\n",
              " 'MoSold']"
            ]
          },
          "metadata": {},
          "execution_count": 59
        }
      ]
    },
    {
      "cell_type": "code",
      "source": [
        "from pyspark.ml.feature import Imputer\n",
        "\n",
        "imputer = Imputer(inputCols=numerical_features_lst,\n",
        "                  outputCols=numerical_features_lst)\n",
        "\n",
        "imputer = imputer.fit(train)\n",
        "\n",
        "train = imputer.transform(train)\n",
        "test = imputer.transform(test)\n",
        "\n",
        "train"
      ],
      "metadata": {
        "colab": {
          "base_uri": "https://localhost:8080/",
          "height": 549
        },
        "id": "udDBoQeBgYSt",
        "outputId": "214969d7-c0a0-4cbd-b782-a56562722b4d"
      },
      "execution_count": 24,
      "outputs": [
        {
          "output_type": "execute_result",
          "data": {
            "text/plain": [
              "+---+----------+--------+-----------+-------+------+-----+--------+-----------+---------+---------+---------+------------+----------+----------+--------+----------+-----------+-----------+---------+------------+---------+--------+-----------+-----------+----------+----------+---------+---------+----------+--------+--------+------------+------------+----------+------------+----------+---------+-----------+-------+---------+----------+----------+--------+--------+------------+---------+------------+------------+--------+--------+------------+------------+-----------+------------+----------+----------+-----------+----------+-----------+------------+----------+----------+----------+----------+----------+----------+-----------+-------------+---------+-----------+--------+------+-----+-----------+-------+------+------+--------+-------------+---------+----------------------+\n",
              "| Id|MSSubClass|MSZoning|LotFrontage|LotArea|Street|Alley|LotShape|LandContour|Utilities|LotConfig|LandSlope|Neighborhood|Condition1|Condition2|BldgType|HouseStyle|OverallQual|OverallCond|YearBuilt|YearRemodAdd|RoofStyle|RoofMatl|Exterior1st|Exterior2nd|MasVnrType|MasVnrArea|ExterQual|ExterCond|Foundation|BsmtQual|BsmtCond|BsmtExposure|BsmtFinType1|BsmtFinSF1|BsmtFinType2|BsmtFinSF2|BsmtUnfSF|TotalBsmtSF|Heating|HeatingQC|CentralAir|Electrical|1stFlrSF|2ndFlrSF|LowQualFinSF|GrLivArea|BsmtFullBath|BsmtHalfBath|FullBath|HalfBath|BedroomAbvGr|KitchenAbvGr|KitchenQual|TotRmsAbvGrd|Functional|Fireplaces|FireplaceQu|GarageType|GarageYrBlt|GarageFinish|GarageCars|GarageArea|GarageQual|GarageCond|PavedDrive|WoodDeckSF|OpenPorchSF|EnclosedPorch|3SsnPorch|ScreenPorch|PoolArea|PoolQC|Fence|MiscFeature|MiscVal|MoSold|YrSold|SaleType|SaleCondition|SalePrice|numerical_features_lst|\n",
              "+---+----------+--------+-----------+-------+------+-----+--------+-----------+---------+---------+---------+------------+----------+----------+--------+----------+-----------+-----------+---------+------------+---------+--------+-----------+-----------+----------+----------+---------+---------+----------+--------+--------+------------+------------+----------+------------+----------+---------+-----------+-------+---------+----------+----------+--------+--------+------------+---------+------------+------------+--------+--------+------------+------------+-----------+------------+----------+----------+-----------+----------+-----------+------------+----------+----------+----------+----------+----------+----------+-----------+-------------+---------+-----------+--------+------+-----+-----------+-------+------+------+--------+-------------+---------+----------------------+\n",
              "|  5|        60|      RL|         84|  14260|  Pave|   NA|     IR1|        Lvl|   AllPub|      FR2|      Gtl|     NoRidge|      Norm|      Norm|    1Fam|    2Story|          8|          5|     2000|        2000|    Gable| CompShg|    VinylSd|    VinylSd|   BrkFace|       350|       Gd|       TA|     PConc|      Gd|      TA|          Av|         GLQ|       655|         Unf|         0|      490|       1145|   GasA|       Ex|         Y|     SBrkr|    1145|    1053|           0|     2198|           1|           0|       2|       1|           4|           1|         Gd|           9|       Typ|         1|         TA|    Attchd|       2000|         RFn|         3|       836|        TA|        TA|         Y|       192|         84|            0|        0|          0|       0|    NA|   NA|         NA|      0|    12|  2008|      WD|       Normal|   250000|  [60.0,14260.0,8.0...|\n",
              "|  7|        20|      RL|         75|  10084|  Pave|   NA|     Reg|        Lvl|   AllPub|   Inside|      Gtl|     Somerst|      Norm|      Norm|    1Fam|    1Story|          8|          5|     2004|        2005|    Gable| CompShg|    VinylSd|    VinylSd|     Stone|       186|       Gd|       TA|     PConc|      Ex|      TA|          Av|         GLQ|      1369|         Unf|         0|      317|       1686|   GasA|       Ex|         Y|     SBrkr|    1694|       0|           0|     1694|           1|           0|       2|       0|           3|           1|         Gd|           7|       Typ|         1|         Gd|    Attchd|       2004|         RFn|         2|       636|        TA|        TA|         Y|       255|         57|            0|        0|          0|       0|    NA|   NA|         NA|      0|     8|  2007|      WD|       Normal|   307000|  [20.0,10084.0,8.0...|\n",
              "| 10|       190|      RL|         50|   7420|  Pave|   NA|     Reg|        Lvl|   AllPub|   Corner|      Gtl|     BrkSide|    Artery|    Artery|  2fmCon|    1.5Unf|          5|          6|     1939|        1950|    Gable| CompShg|    MetalSd|    MetalSd|      None|         0|       TA|       TA|    BrkTil|      TA|      TA|          No|         GLQ|       851|         Unf|         0|      140|        991|   GasA|       Ex|         Y|     SBrkr|    1077|       0|           0|     1077|           1|           0|       1|       0|           2|           2|         TA|           5|       Typ|         2|         TA|    Attchd|       1939|         RFn|         1|       205|        Gd|        TA|         Y|         0|          4|            0|        0|          0|       0|    NA|   NA|         NA|      0|     1|  2008|      WD|       Normal|   118000|  [190.0,7420.0,5.0...|\n",
              "| 12|        60|      RL|         85|  11924|  Pave|   NA|     IR1|        Lvl|   AllPub|   Inside|      Gtl|     NridgHt|      Norm|      Norm|    1Fam|    2Story|          9|          5|     2005|        2006|      Hip| CompShg|    WdShing|    Wd Shng|     Stone|       286|       Ex|       TA|     PConc|      Ex|      TA|          No|         GLQ|       998|         Unf|         0|      177|       1175|   GasA|       Ex|         Y|     SBrkr|    1182|    1142|           0|     2324|           1|           0|       3|       0|           4|           1|         Ex|          11|       Typ|         2|         Gd|   BuiltIn|       2005|         Fin|         3|       736|        TA|        TA|         Y|       147|         21|            0|        0|          0|       0|    NA|   NA|         NA|      0|     7|  2006|     New|      Partial|   345000|  [60.0,11924.0,9.0...|\n",
              "| 16|        45|      RM|         51|   6120|  Pave|   NA|     Reg|        Lvl|   AllPub|   Corner|      Gtl|     BrkSide|      Norm|      Norm|    1Fam|    1.5Unf|          7|          8|     1929|        2001|    Gable| CompShg|    Wd Sdng|    Wd Sdng|      None|         0|       TA|       TA|    BrkTil|      TA|      TA|          No|         Unf|         0|         Unf|         0|      832|        832|   GasA|       Ex|         Y|     FuseA|     854|       0|           0|      854|           0|           0|       1|       0|           2|           1|         TA|           5|       Typ|         0|         NA|    Detchd|       1991|         Unf|         2|       576|        TA|        TA|         Y|        48|        112|            0|        0|          0|       0|    NA|GdPrv|         NA|      0|     7|  2007|      WD|       Normal|   132000|  [45.0,6120.0,7.0,...|\n",
              "| 18|        90|      RL|         72|  10791|  Pave|   NA|     Reg|        Lvl|   AllPub|   Inside|      Gtl|      Sawyer|      Norm|      Norm|  Duplex|    1Story|          4|          5|     1967|        1967|    Gable| CompShg|    MetalSd|    MetalSd|      None|         0|       TA|       TA|      Slab|      NA|      NA|          NA|          NA|         0|          NA|         0|        0|          0|   GasA|       TA|         Y|     SBrkr|    1296|       0|           0|     1296|           0|           0|       2|       0|           2|           2|         TA|           6|       Typ|         0|         NA|   CarPort|       1967|         Unf|         2|       516|        TA|        TA|         Y|         0|          0|            0|        0|          0|       0|    NA|   NA|       Shed|    500|    10|  2006|      WD|       Normal|    90000|  (23,[0,1,2,3,4,9,...|\n",
              "| 19|        20|      RL|         66|  13695|  Pave|   NA|     Reg|        Lvl|   AllPub|   Inside|      Gtl|     SawyerW|      RRAe|      Norm|    1Fam|    1Story|          5|          5|     2004|        2004|    Gable| CompShg|    VinylSd|    VinylSd|      None|         0|       TA|       TA|     PConc|      TA|      TA|          No|         GLQ|       646|         Unf|         0|      468|       1114|   GasA|       Ex|         Y|     SBrkr|    1114|       0|           0|     1114|           1|           0|       1|       1|           3|           1|         Gd|           6|       Typ|         0|         NA|    Detchd|       2004|         Unf|         2|       576|        TA|        TA|         Y|         0|        102|            0|        0|          0|       0|    NA|   NA|         NA|      0|     6|  2008|      WD|       Normal|   159000|  [20.0,13695.0,5.0...|\n",
              "| 21|        60|      RL|        101|  14215|  Pave|   NA|     IR1|        Lvl|   AllPub|   Corner|      Gtl|     NridgHt|      Norm|      Norm|    1Fam|    2Story|          8|          5|     2005|        2006|    Gable| CompShg|    VinylSd|    VinylSd|   BrkFace|       380|       Gd|       TA|     PConc|      Ex|      TA|          Av|         Unf|         0|         Unf|         0|     1158|       1158|   GasA|       Ex|         Y|     SBrkr|    1158|    1218|           0|     2376|           0|           0|       3|       1|           4|           1|         Gd|           9|       Typ|         1|         Gd|   BuiltIn|       2005|         RFn|         3|       853|        TA|        TA|         Y|       240|        154|            0|        0|          0|       0|    NA|   NA|         NA|      0|    11|  2006|     New|      Partial|   325300|  [60.0,14215.0,8.0...|\n",
              "| 24|       120|      RM|         44|   4224|  Pave|   NA|     Reg|        Lvl|   AllPub|   Inside|      Gtl|     MeadowV|      Norm|      Norm|  TwnhsE|    1Story|          5|          7|     1976|        1976|    Gable| CompShg|    CemntBd|    CmentBd|      None|         0|       TA|       TA|     PConc|      Gd|      TA|          No|         GLQ|       840|         Unf|         0|      200|       1040|   GasA|       TA|         Y|     SBrkr|    1060|       0|           0|     1060|           1|           0|       1|       0|           3|           1|         TA|           6|       Typ|         1|         TA|    Attchd|       1976|         Unf|         2|       572|        TA|        TA|         Y|       100|        110|            0|        0|          0|       0|    NA|   NA|         NA|      0|     6|  2007|      WD|       Normal|   129900|  [120.0,4224.0,5.0...|\n",
              "| 26|        20|      RL|        110|  14230|  Pave|   NA|     Reg|        Lvl|   AllPub|   Corner|      Gtl|     NridgHt|      Norm|      Norm|    1Fam|    1Story|          8|          5|     2007|        2007|    Gable| CompShg|    VinylSd|    VinylSd|     Stone|       640|       Gd|       TA|     PConc|      Gd|      TA|          No|         Unf|         0|         Unf|         0|     1566|       1566|   GasA|       Ex|         Y|     SBrkr|    1600|       0|           0|     1600|           0|           0|       2|       0|           3|           1|         Gd|           7|       Typ|         1|         Gd|    Attchd|       2007|         RFn|         3|       890|        TA|        TA|         Y|         0|         56|            0|        0|          0|       0|    NA|   NA|         NA|      0|     7|  2009|      WD|       Normal|   256300|  (23,[0,1,2,3,4,7,...|\n",
              "| 27|        20|      RL|         60|   7200|  Pave|   NA|     Reg|        Lvl|   AllPub|   Corner|      Gtl|       NAmes|      Norm|      Norm|    1Fam|    1Story|          5|          7|     1951|        2000|    Gable| CompShg|    Wd Sdng|    Wd Sdng|      None|         0|       TA|       TA|    CBlock|      TA|      TA|          Mn|         BLQ|       234|         Rec|       486|      180|        900|   GasA|       TA|         Y|     SBrkr|     900|       0|           0|      900|           0|           1|       1|       0|           3|           1|         Gd|           5|       Typ|         0|         NA|    Detchd|       2005|         Unf|         2|       576|        TA|        TA|         Y|       222|         32|            0|        0|          0|       0|    NA|   NA|         NA|      0|     5|  2010|      WD|       Normal|   134800|  [20.0,7200.0,5.0,...|\n",
              "| 28|        20|      RL|         98|  11478|  Pave|   NA|     Reg|        Lvl|   AllPub|   Inside|      Gtl|     NridgHt|      Norm|      Norm|    1Fam|    1Story|          8|          5|     2007|        2008|    Gable| CompShg|    VinylSd|    VinylSd|     Stone|       200|       Gd|       TA|     PConc|      Ex|      TA|          No|         GLQ|      1218|         Unf|         0|      486|       1704|   GasA|       Ex|         Y|     SBrkr|    1704|       0|           0|     1704|           1|           0|       2|       0|           3|           1|         Gd|           7|       Typ|         1|         Gd|    Attchd|       2008|         RFn|         3|       772|        TA|        TA|         Y|         0|         50|            0|        0|          0|       0|    NA|   NA|         NA|      0|     5|  2010|      WD|       Normal|   306000|  [20.0,11478.0,8.0...|\n",
              "| 29|        20|      RL|         47|  16321|  Pave|   NA|     IR1|        Lvl|   AllPub|  CulDSac|      Gtl|       NAmes|      Norm|      Norm|    1Fam|    1Story|          5|          6|     1957|        1997|    Gable| CompShg|    MetalSd|    MetalSd|      None|         0|       TA|       TA|    CBlock|      TA|      TA|          Gd|         BLQ|      1277|         Unf|         0|      207|       1484|   GasA|       TA|         Y|     SBrkr|    1600|       0|           0|     1600|           1|           0|       1|       0|           2|           1|         TA|           6|       Typ|         2|         Gd|    Attchd|       1957|         RFn|         1|       319|        TA|        TA|         Y|       288|        258|            0|        0|          0|       0|    NA|   NA|         NA|      0|    12|  2006|      WD|       Normal|   207500|  [20.0,16321.0,5.0...|\n",
              "| 30|        30|      RM|         60|   6324|  Pave|   NA|     IR1|        Lvl|   AllPub|   Inside|      Gtl|     BrkSide|     Feedr|      RRNn|    1Fam|    1Story|          4|          6|     1927|        1950|    Gable| CompShg|    MetalSd|    MetalSd|      None|         0|       TA|       TA|    BrkTil|      TA|      TA|          No|         Unf|         0|         Unf|         0|      520|        520|   GasA|       Fa|         N|     SBrkr|     520|       0|           0|      520|           0|           0|       1|       0|           1|           1|         Fa|           4|       Typ|         0|         NA|    Detchd|       1920|         Unf|         1|       240|        Fa|        TA|         Y|        49|          0|           87|        0|          0|       0|    NA|   NA|         NA|      0|     5|  2008|      WD|       Normal|    68500|  [30.0,6324.0,4.0,...|\n",
              "| 36|        60|      RL|        108|  13418|  Pave|   NA|     Reg|        Lvl|   AllPub|   Inside|      Gtl|     NridgHt|      Norm|      Norm|    1Fam|    2Story|          8|          5|     2004|        2005|    Gable| CompShg|    VinylSd|    VinylSd|     Stone|       132|       Gd|       TA|     PConc|      Ex|      TA|          Av|         Unf|         0|         Unf|         0|     1117|       1117|   GasA|       Ex|         Y|     SBrkr|    1132|    1320|           0|     2452|           0|           0|       3|       1|           4|           1|         Gd|           9|       Typ|         1|         Gd|   BuiltIn|       2004|         Fin|         3|       691|        TA|        TA|         Y|       113|         32|            0|        0|          0|       0|    NA|   NA|         NA|      0|     9|  2006|      WD|       Normal|   309000|  [60.0,13418.0,8.0...|\n",
              "| 37|        20|      RL|        112|  10859|  Pave|   NA|     Reg|        Lvl|   AllPub|   Corner|      Gtl|     CollgCr|      Norm|      Norm|    1Fam|    1Story|          5|          5|     1994|        1995|    Gable| CompShg|    VinylSd|    VinylSd|      None|         0|       TA|       TA|     PConc|      Gd|      TA|          No|         Unf|         0|         Unf|         0|     1097|       1097|   GasA|       Ex|         Y|     SBrkr|    1097|       0|           0|     1097|           0|           0|       1|       1|           3|           1|         TA|           6|       Typ|         0|         NA|    Attchd|       1995|         Unf|         2|       672|        TA|        TA|         Y|       392|         64|            0|        0|          0|       0|    NA|   NA|         NA|      0|     6|  2009|      WD|       Normal|   145000|  [20.0,10859.0,5.0...|\n",
              "| 38|        20|      RL|         74|   8532|  Pave|   NA|     Reg|        Lvl|   AllPub|   Inside|      Gtl|       NAmes|      Norm|      Norm|    1Fam|    1Story|          5|          6|     1954|        1990|      Hip| CompShg|    Wd Sdng|    Wd Sdng|   BrkFace|       650|       TA|       TA|    CBlock|      TA|      TA|          No|         Rec|      1213|         Unf|         0|       84|       1297|   GasA|       Gd|         Y|     SBrkr|    1297|       0|           0|     1297|           0|           1|       1|       0|           3|           1|         TA|           5|       Typ|         1|         TA|    Attchd|       1954|         Fin|         2|       498|        TA|        TA|         Y|         0|          0|            0|        0|          0|       0|    NA|   NA|         NA|      0|    10|  2009|      WD|       Normal|   153000|  (23,[0,1,2,3,4,5,...|\n",
              "| 39|        20|      RL|         68|   7922|  Pave|   NA|     Reg|        Lvl|   AllPub|   Inside|      Gtl|       NAmes|      Norm|      Norm|    1Fam|    1Story|          5|          7|     1953|        2007|    Gable| CompShg|    VinylSd|    VinylSd|      None|         0|       TA|       Gd|    CBlock|      TA|      TA|          No|         GLQ|       731|         Unf|         0|      326|       1057|   GasA|       TA|         Y|     SBrkr|    1057|       0|           0|     1057|           1|           0|       1|       0|           3|           1|         Gd|           5|       Typ|         0|         NA|    Detchd|       1953|         Unf|         1|       246|        TA|        TA|         Y|         0|         52|            0|        0|          0|       0|    NA|   NA|         NA|      0|     1|  2010|      WD|      Abnorml|   109000|  [20.0,7922.0,5.0,...|\n",
              "| 40|        90|      RL|         65|   6040|  Pave|   NA|     Reg|        Lvl|   AllPub|   Inside|      Gtl|     Edwards|      Norm|      Norm|  Duplex|    1Story|          4|          5|     1955|        1955|    Gable| CompShg|    AsbShng|    Plywood|      None|         0|       TA|       TA|     PConc|      NA|      NA|          NA|          NA|         0|          NA|         0|        0|          0|   GasA|       TA|         N|     FuseP|    1152|       0|           0|     1152|           0|           0|       2|       0|           2|           2|         Fa|           6|       Typ|         0|         NA|        NA|         NA|          NA|         0|         0|        NA|        NA|         N|         0|          0|            0|        0|          0|       0|    NA|   NA|         NA|      0|     6|  2008|      WD|      AdjLand|    82000|  (23,[0,1,2,3,4,9,...|\n",
              "| 42|        20|      RL|        115|  16905|  Pave|   NA|     Reg|        Lvl|   AllPub|   Inside|      Gtl|      Timber|      Norm|      Norm|    1Fam|    1Story|          5|          6|     1959|        1959|    Gable| CompShg|    VinylSd|    VinylSd|      None|         0|       TA|       Gd|    CBlock|      TA|      TA|          Gd|         BLQ|       967|         Unf|         0|      383|       1350|   GasA|       Gd|         Y|     SBrkr|    1328|       0|           0|     1328|           0|           1|       1|       1|           2|           1|         TA|           5|       Typ|         2|         Gd|    Attchd|       1959|         RFn|         1|       308|        TA|        TA|         P|         0|        104|            0|        0|          0|       0|    NA|   NA|         NA|      0|     7|  2007|      WD|       Normal|   170000|  [20.0,16905.0,5.0...|\n",
              "+---+----------+--------+-----------+-------+------+-----+--------+-----------+---------+---------+---------+------------+----------+----------+--------+----------+-----------+-----------+---------+------------+---------+--------+-----------+-----------+----------+----------+---------+---------+----------+--------+--------+------------+------------+----------+------------+----------+---------+-----------+-------+---------+----------+----------+--------+--------+------------+---------+------------+------------+--------+--------+------------+------------+-----------+------------+----------+----------+-----------+----------+-----------+------------+----------+----------+----------+----------+----------+----------+-----------+-------------+---------+-----------+--------+------+-----+-----------+-------+------+------+--------+-------------+---------+----------------------+\n",
              "only showing top 20 rows"
            ],
            "text/html": [
              "<table border='1'>\n",
              "<tr><th>Id</th><th>MSSubClass</th><th>MSZoning</th><th>LotFrontage</th><th>LotArea</th><th>Street</th><th>Alley</th><th>LotShape</th><th>LandContour</th><th>Utilities</th><th>LotConfig</th><th>LandSlope</th><th>Neighborhood</th><th>Condition1</th><th>Condition2</th><th>BldgType</th><th>HouseStyle</th><th>OverallQual</th><th>OverallCond</th><th>YearBuilt</th><th>YearRemodAdd</th><th>RoofStyle</th><th>RoofMatl</th><th>Exterior1st</th><th>Exterior2nd</th><th>MasVnrType</th><th>MasVnrArea</th><th>ExterQual</th><th>ExterCond</th><th>Foundation</th><th>BsmtQual</th><th>BsmtCond</th><th>BsmtExposure</th><th>BsmtFinType1</th><th>BsmtFinSF1</th><th>BsmtFinType2</th><th>BsmtFinSF2</th><th>BsmtUnfSF</th><th>TotalBsmtSF</th><th>Heating</th><th>HeatingQC</th><th>CentralAir</th><th>Electrical</th><th>1stFlrSF</th><th>2ndFlrSF</th><th>LowQualFinSF</th><th>GrLivArea</th><th>BsmtFullBath</th><th>BsmtHalfBath</th><th>FullBath</th><th>HalfBath</th><th>BedroomAbvGr</th><th>KitchenAbvGr</th><th>KitchenQual</th><th>TotRmsAbvGrd</th><th>Functional</th><th>Fireplaces</th><th>FireplaceQu</th><th>GarageType</th><th>GarageYrBlt</th><th>GarageFinish</th><th>GarageCars</th><th>GarageArea</th><th>GarageQual</th><th>GarageCond</th><th>PavedDrive</th><th>WoodDeckSF</th><th>OpenPorchSF</th><th>EnclosedPorch</th><th>3SsnPorch</th><th>ScreenPorch</th><th>PoolArea</th><th>PoolQC</th><th>Fence</th><th>MiscFeature</th><th>MiscVal</th><th>MoSold</th><th>YrSold</th><th>SaleType</th><th>SaleCondition</th><th>SalePrice</th><th>numerical_features_lst</th></tr>\n",
              "<tr><td>5</td><td>60</td><td>RL</td><td>84</td><td>14260</td><td>Pave</td><td>NA</td><td>IR1</td><td>Lvl</td><td>AllPub</td><td>FR2</td><td>Gtl</td><td>NoRidge</td><td>Norm</td><td>Norm</td><td>1Fam</td><td>2Story</td><td>8</td><td>5</td><td>2000</td><td>2000</td><td>Gable</td><td>CompShg</td><td>VinylSd</td><td>VinylSd</td><td>BrkFace</td><td>350</td><td>Gd</td><td>TA</td><td>PConc</td><td>Gd</td><td>TA</td><td>Av</td><td>GLQ</td><td>655</td><td>Unf</td><td>0</td><td>490</td><td>1145</td><td>GasA</td><td>Ex</td><td>Y</td><td>SBrkr</td><td>1145</td><td>1053</td><td>0</td><td>2198</td><td>1</td><td>0</td><td>2</td><td>1</td><td>4</td><td>1</td><td>Gd</td><td>9</td><td>Typ</td><td>1</td><td>TA</td><td>Attchd</td><td>2000</td><td>RFn</td><td>3</td><td>836</td><td>TA</td><td>TA</td><td>Y</td><td>192</td><td>84</td><td>0</td><td>0</td><td>0</td><td>0</td><td>NA</td><td>NA</td><td>NA</td><td>0</td><td>12</td><td>2008</td><td>WD</td><td>Normal</td><td>250000</td><td>[60.0,14260.0,8.0...</td></tr>\n",
              "<tr><td>7</td><td>20</td><td>RL</td><td>75</td><td>10084</td><td>Pave</td><td>NA</td><td>Reg</td><td>Lvl</td><td>AllPub</td><td>Inside</td><td>Gtl</td><td>Somerst</td><td>Norm</td><td>Norm</td><td>1Fam</td><td>1Story</td><td>8</td><td>5</td><td>2004</td><td>2005</td><td>Gable</td><td>CompShg</td><td>VinylSd</td><td>VinylSd</td><td>Stone</td><td>186</td><td>Gd</td><td>TA</td><td>PConc</td><td>Ex</td><td>TA</td><td>Av</td><td>GLQ</td><td>1369</td><td>Unf</td><td>0</td><td>317</td><td>1686</td><td>GasA</td><td>Ex</td><td>Y</td><td>SBrkr</td><td>1694</td><td>0</td><td>0</td><td>1694</td><td>1</td><td>0</td><td>2</td><td>0</td><td>3</td><td>1</td><td>Gd</td><td>7</td><td>Typ</td><td>1</td><td>Gd</td><td>Attchd</td><td>2004</td><td>RFn</td><td>2</td><td>636</td><td>TA</td><td>TA</td><td>Y</td><td>255</td><td>57</td><td>0</td><td>0</td><td>0</td><td>0</td><td>NA</td><td>NA</td><td>NA</td><td>0</td><td>8</td><td>2007</td><td>WD</td><td>Normal</td><td>307000</td><td>[20.0,10084.0,8.0...</td></tr>\n",
              "<tr><td>10</td><td>190</td><td>RL</td><td>50</td><td>7420</td><td>Pave</td><td>NA</td><td>Reg</td><td>Lvl</td><td>AllPub</td><td>Corner</td><td>Gtl</td><td>BrkSide</td><td>Artery</td><td>Artery</td><td>2fmCon</td><td>1.5Unf</td><td>5</td><td>6</td><td>1939</td><td>1950</td><td>Gable</td><td>CompShg</td><td>MetalSd</td><td>MetalSd</td><td>None</td><td>0</td><td>TA</td><td>TA</td><td>BrkTil</td><td>TA</td><td>TA</td><td>No</td><td>GLQ</td><td>851</td><td>Unf</td><td>0</td><td>140</td><td>991</td><td>GasA</td><td>Ex</td><td>Y</td><td>SBrkr</td><td>1077</td><td>0</td><td>0</td><td>1077</td><td>1</td><td>0</td><td>1</td><td>0</td><td>2</td><td>2</td><td>TA</td><td>5</td><td>Typ</td><td>2</td><td>TA</td><td>Attchd</td><td>1939</td><td>RFn</td><td>1</td><td>205</td><td>Gd</td><td>TA</td><td>Y</td><td>0</td><td>4</td><td>0</td><td>0</td><td>0</td><td>0</td><td>NA</td><td>NA</td><td>NA</td><td>0</td><td>1</td><td>2008</td><td>WD</td><td>Normal</td><td>118000</td><td>[190.0,7420.0,5.0...</td></tr>\n",
              "<tr><td>12</td><td>60</td><td>RL</td><td>85</td><td>11924</td><td>Pave</td><td>NA</td><td>IR1</td><td>Lvl</td><td>AllPub</td><td>Inside</td><td>Gtl</td><td>NridgHt</td><td>Norm</td><td>Norm</td><td>1Fam</td><td>2Story</td><td>9</td><td>5</td><td>2005</td><td>2006</td><td>Hip</td><td>CompShg</td><td>WdShing</td><td>Wd Shng</td><td>Stone</td><td>286</td><td>Ex</td><td>TA</td><td>PConc</td><td>Ex</td><td>TA</td><td>No</td><td>GLQ</td><td>998</td><td>Unf</td><td>0</td><td>177</td><td>1175</td><td>GasA</td><td>Ex</td><td>Y</td><td>SBrkr</td><td>1182</td><td>1142</td><td>0</td><td>2324</td><td>1</td><td>0</td><td>3</td><td>0</td><td>4</td><td>1</td><td>Ex</td><td>11</td><td>Typ</td><td>2</td><td>Gd</td><td>BuiltIn</td><td>2005</td><td>Fin</td><td>3</td><td>736</td><td>TA</td><td>TA</td><td>Y</td><td>147</td><td>21</td><td>0</td><td>0</td><td>0</td><td>0</td><td>NA</td><td>NA</td><td>NA</td><td>0</td><td>7</td><td>2006</td><td>New</td><td>Partial</td><td>345000</td><td>[60.0,11924.0,9.0...</td></tr>\n",
              "<tr><td>16</td><td>45</td><td>RM</td><td>51</td><td>6120</td><td>Pave</td><td>NA</td><td>Reg</td><td>Lvl</td><td>AllPub</td><td>Corner</td><td>Gtl</td><td>BrkSide</td><td>Norm</td><td>Norm</td><td>1Fam</td><td>1.5Unf</td><td>7</td><td>8</td><td>1929</td><td>2001</td><td>Gable</td><td>CompShg</td><td>Wd Sdng</td><td>Wd Sdng</td><td>None</td><td>0</td><td>TA</td><td>TA</td><td>BrkTil</td><td>TA</td><td>TA</td><td>No</td><td>Unf</td><td>0</td><td>Unf</td><td>0</td><td>832</td><td>832</td><td>GasA</td><td>Ex</td><td>Y</td><td>FuseA</td><td>854</td><td>0</td><td>0</td><td>854</td><td>0</td><td>0</td><td>1</td><td>0</td><td>2</td><td>1</td><td>TA</td><td>5</td><td>Typ</td><td>0</td><td>NA</td><td>Detchd</td><td>1991</td><td>Unf</td><td>2</td><td>576</td><td>TA</td><td>TA</td><td>Y</td><td>48</td><td>112</td><td>0</td><td>0</td><td>0</td><td>0</td><td>NA</td><td>GdPrv</td><td>NA</td><td>0</td><td>7</td><td>2007</td><td>WD</td><td>Normal</td><td>132000</td><td>[45.0,6120.0,7.0,...</td></tr>\n",
              "<tr><td>18</td><td>90</td><td>RL</td><td>72</td><td>10791</td><td>Pave</td><td>NA</td><td>Reg</td><td>Lvl</td><td>AllPub</td><td>Inside</td><td>Gtl</td><td>Sawyer</td><td>Norm</td><td>Norm</td><td>Duplex</td><td>1Story</td><td>4</td><td>5</td><td>1967</td><td>1967</td><td>Gable</td><td>CompShg</td><td>MetalSd</td><td>MetalSd</td><td>None</td><td>0</td><td>TA</td><td>TA</td><td>Slab</td><td>NA</td><td>NA</td><td>NA</td><td>NA</td><td>0</td><td>NA</td><td>0</td><td>0</td><td>0</td><td>GasA</td><td>TA</td><td>Y</td><td>SBrkr</td><td>1296</td><td>0</td><td>0</td><td>1296</td><td>0</td><td>0</td><td>2</td><td>0</td><td>2</td><td>2</td><td>TA</td><td>6</td><td>Typ</td><td>0</td><td>NA</td><td>CarPort</td><td>1967</td><td>Unf</td><td>2</td><td>516</td><td>TA</td><td>TA</td><td>Y</td><td>0</td><td>0</td><td>0</td><td>0</td><td>0</td><td>0</td><td>NA</td><td>NA</td><td>Shed</td><td>500</td><td>10</td><td>2006</td><td>WD</td><td>Normal</td><td>90000</td><td>(23,[0,1,2,3,4,9,...</td></tr>\n",
              "<tr><td>19</td><td>20</td><td>RL</td><td>66</td><td>13695</td><td>Pave</td><td>NA</td><td>Reg</td><td>Lvl</td><td>AllPub</td><td>Inside</td><td>Gtl</td><td>SawyerW</td><td>RRAe</td><td>Norm</td><td>1Fam</td><td>1Story</td><td>5</td><td>5</td><td>2004</td><td>2004</td><td>Gable</td><td>CompShg</td><td>VinylSd</td><td>VinylSd</td><td>None</td><td>0</td><td>TA</td><td>TA</td><td>PConc</td><td>TA</td><td>TA</td><td>No</td><td>GLQ</td><td>646</td><td>Unf</td><td>0</td><td>468</td><td>1114</td><td>GasA</td><td>Ex</td><td>Y</td><td>SBrkr</td><td>1114</td><td>0</td><td>0</td><td>1114</td><td>1</td><td>0</td><td>1</td><td>1</td><td>3</td><td>1</td><td>Gd</td><td>6</td><td>Typ</td><td>0</td><td>NA</td><td>Detchd</td><td>2004</td><td>Unf</td><td>2</td><td>576</td><td>TA</td><td>TA</td><td>Y</td><td>0</td><td>102</td><td>0</td><td>0</td><td>0</td><td>0</td><td>NA</td><td>NA</td><td>NA</td><td>0</td><td>6</td><td>2008</td><td>WD</td><td>Normal</td><td>159000</td><td>[20.0,13695.0,5.0...</td></tr>\n",
              "<tr><td>21</td><td>60</td><td>RL</td><td>101</td><td>14215</td><td>Pave</td><td>NA</td><td>IR1</td><td>Lvl</td><td>AllPub</td><td>Corner</td><td>Gtl</td><td>NridgHt</td><td>Norm</td><td>Norm</td><td>1Fam</td><td>2Story</td><td>8</td><td>5</td><td>2005</td><td>2006</td><td>Gable</td><td>CompShg</td><td>VinylSd</td><td>VinylSd</td><td>BrkFace</td><td>380</td><td>Gd</td><td>TA</td><td>PConc</td><td>Ex</td><td>TA</td><td>Av</td><td>Unf</td><td>0</td><td>Unf</td><td>0</td><td>1158</td><td>1158</td><td>GasA</td><td>Ex</td><td>Y</td><td>SBrkr</td><td>1158</td><td>1218</td><td>0</td><td>2376</td><td>0</td><td>0</td><td>3</td><td>1</td><td>4</td><td>1</td><td>Gd</td><td>9</td><td>Typ</td><td>1</td><td>Gd</td><td>BuiltIn</td><td>2005</td><td>RFn</td><td>3</td><td>853</td><td>TA</td><td>TA</td><td>Y</td><td>240</td><td>154</td><td>0</td><td>0</td><td>0</td><td>0</td><td>NA</td><td>NA</td><td>NA</td><td>0</td><td>11</td><td>2006</td><td>New</td><td>Partial</td><td>325300</td><td>[60.0,14215.0,8.0...</td></tr>\n",
              "<tr><td>24</td><td>120</td><td>RM</td><td>44</td><td>4224</td><td>Pave</td><td>NA</td><td>Reg</td><td>Lvl</td><td>AllPub</td><td>Inside</td><td>Gtl</td><td>MeadowV</td><td>Norm</td><td>Norm</td><td>TwnhsE</td><td>1Story</td><td>5</td><td>7</td><td>1976</td><td>1976</td><td>Gable</td><td>CompShg</td><td>CemntBd</td><td>CmentBd</td><td>None</td><td>0</td><td>TA</td><td>TA</td><td>PConc</td><td>Gd</td><td>TA</td><td>No</td><td>GLQ</td><td>840</td><td>Unf</td><td>0</td><td>200</td><td>1040</td><td>GasA</td><td>TA</td><td>Y</td><td>SBrkr</td><td>1060</td><td>0</td><td>0</td><td>1060</td><td>1</td><td>0</td><td>1</td><td>0</td><td>3</td><td>1</td><td>TA</td><td>6</td><td>Typ</td><td>1</td><td>TA</td><td>Attchd</td><td>1976</td><td>Unf</td><td>2</td><td>572</td><td>TA</td><td>TA</td><td>Y</td><td>100</td><td>110</td><td>0</td><td>0</td><td>0</td><td>0</td><td>NA</td><td>NA</td><td>NA</td><td>0</td><td>6</td><td>2007</td><td>WD</td><td>Normal</td><td>129900</td><td>[120.0,4224.0,5.0...</td></tr>\n",
              "<tr><td>26</td><td>20</td><td>RL</td><td>110</td><td>14230</td><td>Pave</td><td>NA</td><td>Reg</td><td>Lvl</td><td>AllPub</td><td>Corner</td><td>Gtl</td><td>NridgHt</td><td>Norm</td><td>Norm</td><td>1Fam</td><td>1Story</td><td>8</td><td>5</td><td>2007</td><td>2007</td><td>Gable</td><td>CompShg</td><td>VinylSd</td><td>VinylSd</td><td>Stone</td><td>640</td><td>Gd</td><td>TA</td><td>PConc</td><td>Gd</td><td>TA</td><td>No</td><td>Unf</td><td>0</td><td>Unf</td><td>0</td><td>1566</td><td>1566</td><td>GasA</td><td>Ex</td><td>Y</td><td>SBrkr</td><td>1600</td><td>0</td><td>0</td><td>1600</td><td>0</td><td>0</td><td>2</td><td>0</td><td>3</td><td>1</td><td>Gd</td><td>7</td><td>Typ</td><td>1</td><td>Gd</td><td>Attchd</td><td>2007</td><td>RFn</td><td>3</td><td>890</td><td>TA</td><td>TA</td><td>Y</td><td>0</td><td>56</td><td>0</td><td>0</td><td>0</td><td>0</td><td>NA</td><td>NA</td><td>NA</td><td>0</td><td>7</td><td>2009</td><td>WD</td><td>Normal</td><td>256300</td><td>(23,[0,1,2,3,4,7,...</td></tr>\n",
              "<tr><td>27</td><td>20</td><td>RL</td><td>60</td><td>7200</td><td>Pave</td><td>NA</td><td>Reg</td><td>Lvl</td><td>AllPub</td><td>Corner</td><td>Gtl</td><td>NAmes</td><td>Norm</td><td>Norm</td><td>1Fam</td><td>1Story</td><td>5</td><td>7</td><td>1951</td><td>2000</td><td>Gable</td><td>CompShg</td><td>Wd Sdng</td><td>Wd Sdng</td><td>None</td><td>0</td><td>TA</td><td>TA</td><td>CBlock</td><td>TA</td><td>TA</td><td>Mn</td><td>BLQ</td><td>234</td><td>Rec</td><td>486</td><td>180</td><td>900</td><td>GasA</td><td>TA</td><td>Y</td><td>SBrkr</td><td>900</td><td>0</td><td>0</td><td>900</td><td>0</td><td>1</td><td>1</td><td>0</td><td>3</td><td>1</td><td>Gd</td><td>5</td><td>Typ</td><td>0</td><td>NA</td><td>Detchd</td><td>2005</td><td>Unf</td><td>2</td><td>576</td><td>TA</td><td>TA</td><td>Y</td><td>222</td><td>32</td><td>0</td><td>0</td><td>0</td><td>0</td><td>NA</td><td>NA</td><td>NA</td><td>0</td><td>5</td><td>2010</td><td>WD</td><td>Normal</td><td>134800</td><td>[20.0,7200.0,5.0,...</td></tr>\n",
              "<tr><td>28</td><td>20</td><td>RL</td><td>98</td><td>11478</td><td>Pave</td><td>NA</td><td>Reg</td><td>Lvl</td><td>AllPub</td><td>Inside</td><td>Gtl</td><td>NridgHt</td><td>Norm</td><td>Norm</td><td>1Fam</td><td>1Story</td><td>8</td><td>5</td><td>2007</td><td>2008</td><td>Gable</td><td>CompShg</td><td>VinylSd</td><td>VinylSd</td><td>Stone</td><td>200</td><td>Gd</td><td>TA</td><td>PConc</td><td>Ex</td><td>TA</td><td>No</td><td>GLQ</td><td>1218</td><td>Unf</td><td>0</td><td>486</td><td>1704</td><td>GasA</td><td>Ex</td><td>Y</td><td>SBrkr</td><td>1704</td><td>0</td><td>0</td><td>1704</td><td>1</td><td>0</td><td>2</td><td>0</td><td>3</td><td>1</td><td>Gd</td><td>7</td><td>Typ</td><td>1</td><td>Gd</td><td>Attchd</td><td>2008</td><td>RFn</td><td>3</td><td>772</td><td>TA</td><td>TA</td><td>Y</td><td>0</td><td>50</td><td>0</td><td>0</td><td>0</td><td>0</td><td>NA</td><td>NA</td><td>NA</td><td>0</td><td>5</td><td>2010</td><td>WD</td><td>Normal</td><td>306000</td><td>[20.0,11478.0,8.0...</td></tr>\n",
              "<tr><td>29</td><td>20</td><td>RL</td><td>47</td><td>16321</td><td>Pave</td><td>NA</td><td>IR1</td><td>Lvl</td><td>AllPub</td><td>CulDSac</td><td>Gtl</td><td>NAmes</td><td>Norm</td><td>Norm</td><td>1Fam</td><td>1Story</td><td>5</td><td>6</td><td>1957</td><td>1997</td><td>Gable</td><td>CompShg</td><td>MetalSd</td><td>MetalSd</td><td>None</td><td>0</td><td>TA</td><td>TA</td><td>CBlock</td><td>TA</td><td>TA</td><td>Gd</td><td>BLQ</td><td>1277</td><td>Unf</td><td>0</td><td>207</td><td>1484</td><td>GasA</td><td>TA</td><td>Y</td><td>SBrkr</td><td>1600</td><td>0</td><td>0</td><td>1600</td><td>1</td><td>0</td><td>1</td><td>0</td><td>2</td><td>1</td><td>TA</td><td>6</td><td>Typ</td><td>2</td><td>Gd</td><td>Attchd</td><td>1957</td><td>RFn</td><td>1</td><td>319</td><td>TA</td><td>TA</td><td>Y</td><td>288</td><td>258</td><td>0</td><td>0</td><td>0</td><td>0</td><td>NA</td><td>NA</td><td>NA</td><td>0</td><td>12</td><td>2006</td><td>WD</td><td>Normal</td><td>207500</td><td>[20.0,16321.0,5.0...</td></tr>\n",
              "<tr><td>30</td><td>30</td><td>RM</td><td>60</td><td>6324</td><td>Pave</td><td>NA</td><td>IR1</td><td>Lvl</td><td>AllPub</td><td>Inside</td><td>Gtl</td><td>BrkSide</td><td>Feedr</td><td>RRNn</td><td>1Fam</td><td>1Story</td><td>4</td><td>6</td><td>1927</td><td>1950</td><td>Gable</td><td>CompShg</td><td>MetalSd</td><td>MetalSd</td><td>None</td><td>0</td><td>TA</td><td>TA</td><td>BrkTil</td><td>TA</td><td>TA</td><td>No</td><td>Unf</td><td>0</td><td>Unf</td><td>0</td><td>520</td><td>520</td><td>GasA</td><td>Fa</td><td>N</td><td>SBrkr</td><td>520</td><td>0</td><td>0</td><td>520</td><td>0</td><td>0</td><td>1</td><td>0</td><td>1</td><td>1</td><td>Fa</td><td>4</td><td>Typ</td><td>0</td><td>NA</td><td>Detchd</td><td>1920</td><td>Unf</td><td>1</td><td>240</td><td>Fa</td><td>TA</td><td>Y</td><td>49</td><td>0</td><td>87</td><td>0</td><td>0</td><td>0</td><td>NA</td><td>NA</td><td>NA</td><td>0</td><td>5</td><td>2008</td><td>WD</td><td>Normal</td><td>68500</td><td>[30.0,6324.0,4.0,...</td></tr>\n",
              "<tr><td>36</td><td>60</td><td>RL</td><td>108</td><td>13418</td><td>Pave</td><td>NA</td><td>Reg</td><td>Lvl</td><td>AllPub</td><td>Inside</td><td>Gtl</td><td>NridgHt</td><td>Norm</td><td>Norm</td><td>1Fam</td><td>2Story</td><td>8</td><td>5</td><td>2004</td><td>2005</td><td>Gable</td><td>CompShg</td><td>VinylSd</td><td>VinylSd</td><td>Stone</td><td>132</td><td>Gd</td><td>TA</td><td>PConc</td><td>Ex</td><td>TA</td><td>Av</td><td>Unf</td><td>0</td><td>Unf</td><td>0</td><td>1117</td><td>1117</td><td>GasA</td><td>Ex</td><td>Y</td><td>SBrkr</td><td>1132</td><td>1320</td><td>0</td><td>2452</td><td>0</td><td>0</td><td>3</td><td>1</td><td>4</td><td>1</td><td>Gd</td><td>9</td><td>Typ</td><td>1</td><td>Gd</td><td>BuiltIn</td><td>2004</td><td>Fin</td><td>3</td><td>691</td><td>TA</td><td>TA</td><td>Y</td><td>113</td><td>32</td><td>0</td><td>0</td><td>0</td><td>0</td><td>NA</td><td>NA</td><td>NA</td><td>0</td><td>9</td><td>2006</td><td>WD</td><td>Normal</td><td>309000</td><td>[60.0,13418.0,8.0...</td></tr>\n",
              "<tr><td>37</td><td>20</td><td>RL</td><td>112</td><td>10859</td><td>Pave</td><td>NA</td><td>Reg</td><td>Lvl</td><td>AllPub</td><td>Corner</td><td>Gtl</td><td>CollgCr</td><td>Norm</td><td>Norm</td><td>1Fam</td><td>1Story</td><td>5</td><td>5</td><td>1994</td><td>1995</td><td>Gable</td><td>CompShg</td><td>VinylSd</td><td>VinylSd</td><td>None</td><td>0</td><td>TA</td><td>TA</td><td>PConc</td><td>Gd</td><td>TA</td><td>No</td><td>Unf</td><td>0</td><td>Unf</td><td>0</td><td>1097</td><td>1097</td><td>GasA</td><td>Ex</td><td>Y</td><td>SBrkr</td><td>1097</td><td>0</td><td>0</td><td>1097</td><td>0</td><td>0</td><td>1</td><td>1</td><td>3</td><td>1</td><td>TA</td><td>6</td><td>Typ</td><td>0</td><td>NA</td><td>Attchd</td><td>1995</td><td>Unf</td><td>2</td><td>672</td><td>TA</td><td>TA</td><td>Y</td><td>392</td><td>64</td><td>0</td><td>0</td><td>0</td><td>0</td><td>NA</td><td>NA</td><td>NA</td><td>0</td><td>6</td><td>2009</td><td>WD</td><td>Normal</td><td>145000</td><td>[20.0,10859.0,5.0...</td></tr>\n",
              "<tr><td>38</td><td>20</td><td>RL</td><td>74</td><td>8532</td><td>Pave</td><td>NA</td><td>Reg</td><td>Lvl</td><td>AllPub</td><td>Inside</td><td>Gtl</td><td>NAmes</td><td>Norm</td><td>Norm</td><td>1Fam</td><td>1Story</td><td>5</td><td>6</td><td>1954</td><td>1990</td><td>Hip</td><td>CompShg</td><td>Wd Sdng</td><td>Wd Sdng</td><td>BrkFace</td><td>650</td><td>TA</td><td>TA</td><td>CBlock</td><td>TA</td><td>TA</td><td>No</td><td>Rec</td><td>1213</td><td>Unf</td><td>0</td><td>84</td><td>1297</td><td>GasA</td><td>Gd</td><td>Y</td><td>SBrkr</td><td>1297</td><td>0</td><td>0</td><td>1297</td><td>0</td><td>1</td><td>1</td><td>0</td><td>3</td><td>1</td><td>TA</td><td>5</td><td>Typ</td><td>1</td><td>TA</td><td>Attchd</td><td>1954</td><td>Fin</td><td>2</td><td>498</td><td>TA</td><td>TA</td><td>Y</td><td>0</td><td>0</td><td>0</td><td>0</td><td>0</td><td>0</td><td>NA</td><td>NA</td><td>NA</td><td>0</td><td>10</td><td>2009</td><td>WD</td><td>Normal</td><td>153000</td><td>(23,[0,1,2,3,4,5,...</td></tr>\n",
              "<tr><td>39</td><td>20</td><td>RL</td><td>68</td><td>7922</td><td>Pave</td><td>NA</td><td>Reg</td><td>Lvl</td><td>AllPub</td><td>Inside</td><td>Gtl</td><td>NAmes</td><td>Norm</td><td>Norm</td><td>1Fam</td><td>1Story</td><td>5</td><td>7</td><td>1953</td><td>2007</td><td>Gable</td><td>CompShg</td><td>VinylSd</td><td>VinylSd</td><td>None</td><td>0</td><td>TA</td><td>Gd</td><td>CBlock</td><td>TA</td><td>TA</td><td>No</td><td>GLQ</td><td>731</td><td>Unf</td><td>0</td><td>326</td><td>1057</td><td>GasA</td><td>TA</td><td>Y</td><td>SBrkr</td><td>1057</td><td>0</td><td>0</td><td>1057</td><td>1</td><td>0</td><td>1</td><td>0</td><td>3</td><td>1</td><td>Gd</td><td>5</td><td>Typ</td><td>0</td><td>NA</td><td>Detchd</td><td>1953</td><td>Unf</td><td>1</td><td>246</td><td>TA</td><td>TA</td><td>Y</td><td>0</td><td>52</td><td>0</td><td>0</td><td>0</td><td>0</td><td>NA</td><td>NA</td><td>NA</td><td>0</td><td>1</td><td>2010</td><td>WD</td><td>Abnorml</td><td>109000</td><td>[20.0,7922.0,5.0,...</td></tr>\n",
              "<tr><td>40</td><td>90</td><td>RL</td><td>65</td><td>6040</td><td>Pave</td><td>NA</td><td>Reg</td><td>Lvl</td><td>AllPub</td><td>Inside</td><td>Gtl</td><td>Edwards</td><td>Norm</td><td>Norm</td><td>Duplex</td><td>1Story</td><td>4</td><td>5</td><td>1955</td><td>1955</td><td>Gable</td><td>CompShg</td><td>AsbShng</td><td>Plywood</td><td>None</td><td>0</td><td>TA</td><td>TA</td><td>PConc</td><td>NA</td><td>NA</td><td>NA</td><td>NA</td><td>0</td><td>NA</td><td>0</td><td>0</td><td>0</td><td>GasA</td><td>TA</td><td>N</td><td>FuseP</td><td>1152</td><td>0</td><td>0</td><td>1152</td><td>0</td><td>0</td><td>2</td><td>0</td><td>2</td><td>2</td><td>Fa</td><td>6</td><td>Typ</td><td>0</td><td>NA</td><td>NA</td><td>NA</td><td>NA</td><td>0</td><td>0</td><td>NA</td><td>NA</td><td>N</td><td>0</td><td>0</td><td>0</td><td>0</td><td>0</td><td>0</td><td>NA</td><td>NA</td><td>NA</td><td>0</td><td>6</td><td>2008</td><td>WD</td><td>AdjLand</td><td>82000</td><td>(23,[0,1,2,3,4,9,...</td></tr>\n",
              "<tr><td>42</td><td>20</td><td>RL</td><td>115</td><td>16905</td><td>Pave</td><td>NA</td><td>Reg</td><td>Lvl</td><td>AllPub</td><td>Inside</td><td>Gtl</td><td>Timber</td><td>Norm</td><td>Norm</td><td>1Fam</td><td>1Story</td><td>5</td><td>6</td><td>1959</td><td>1959</td><td>Gable</td><td>CompShg</td><td>VinylSd</td><td>VinylSd</td><td>None</td><td>0</td><td>TA</td><td>Gd</td><td>CBlock</td><td>TA</td><td>TA</td><td>Gd</td><td>BLQ</td><td>967</td><td>Unf</td><td>0</td><td>383</td><td>1350</td><td>GasA</td><td>Gd</td><td>Y</td><td>SBrkr</td><td>1328</td><td>0</td><td>0</td><td>1328</td><td>0</td><td>1</td><td>1</td><td>1</td><td>2</td><td>1</td><td>TA</td><td>5</td><td>Typ</td><td>2</td><td>Gd</td><td>Attchd</td><td>1959</td><td>RFn</td><td>1</td><td>308</td><td>TA</td><td>TA</td><td>P</td><td>0</td><td>104</td><td>0</td><td>0</td><td>0</td><td>0</td><td>NA</td><td>NA</td><td>NA</td><td>0</td><td>7</td><td>2007</td><td>WD</td><td>Normal</td><td>170000</td><td>[20.0,16905.0,5.0...</td></tr>\n",
              "</table>\n",
              "only showing top 20 rows\n"
            ]
          },
          "metadata": {},
          "execution_count": 24
        }
      ]
    },
    {
      "cell_type": "code",
      "source": [
        "from pyspark.ml.feature import VectorAssembler\n",
        "\n",
        "numerical_vector_assembler = VectorAssembler(inputCols=numerical_features_lst,\n",
        "                                              outputCol=\"numerical_features_lst\")\n",
        "\n",
        "train = numerical_vector_assembler.transform(train)\n",
        "test = numerical_vector_assembler.transform(test)\n",
        "\n",
        "train"
      ],
      "metadata": {
        "colab": {
          "base_uri": "https://localhost:8080/",
          "height": 549
        },
        "id": "k-3QGH3Hmm7Y",
        "outputId": "c6feff2f-20a2-4ad1-a87d-2f44be8a2580"
      },
      "execution_count": 60,
      "outputs": [
        {
          "output_type": "execute_result",
          "data": {
            "text/plain": [
              "+---+----------+--------+-----------+-------+------+-----+--------+-----------+---------+---------+---------+------------+----------+----------+--------+----------+-----------+-----------+---------+------------+---------+--------+-----------+-----------+----------+----------+---------+---------+----------+--------+--------+------------+------------+----------+------------+----------+---------+-----------+-------+---------+----------+----------+--------+--------+------------+---------+------------+------------+--------+--------+------------+------------+-----------+------------+----------+----------+-----------+----------+-----------+------------+----------+----------+----------+----------+----------+----------+-----------+-------------+---------+-----------+--------+------+-----+-----------+-------+------+------+--------+-------------+---------+----------------------+\n",
              "| Id|MSSubClass|MSZoning|LotFrontage|LotArea|Street|Alley|LotShape|LandContour|Utilities|LotConfig|LandSlope|Neighborhood|Condition1|Condition2|BldgType|HouseStyle|OverallQual|OverallCond|YearBuilt|YearRemodAdd|RoofStyle|RoofMatl|Exterior1st|Exterior2nd|MasVnrType|MasVnrArea|ExterQual|ExterCond|Foundation|BsmtQual|BsmtCond|BsmtExposure|BsmtFinType1|BsmtFinSF1|BsmtFinType2|BsmtFinSF2|BsmtUnfSF|TotalBsmtSF|Heating|HeatingQC|CentralAir|Electrical|1stFlrSF|2ndFlrSF|LowQualFinSF|GrLivArea|BsmtFullBath|BsmtHalfBath|FullBath|HalfBath|BedroomAbvGr|KitchenAbvGr|KitchenQual|TotRmsAbvGrd|Functional|Fireplaces|FireplaceQu|GarageType|GarageYrBlt|GarageFinish|GarageCars|GarageArea|GarageQual|GarageCond|PavedDrive|WoodDeckSF|OpenPorchSF|EnclosedPorch|3SsnPorch|ScreenPorch|PoolArea|PoolQC|Fence|MiscFeature|MiscVal|MoSold|YrSold|SaleType|SaleCondition|SalePrice|numerical_features_lst|\n",
              "+---+----------+--------+-----------+-------+------+-----+--------+-----------+---------+---------+---------+------------+----------+----------+--------+----------+-----------+-----------+---------+------------+---------+--------+-----------+-----------+----------+----------+---------+---------+----------+--------+--------+------------+------------+----------+------------+----------+---------+-----------+-------+---------+----------+----------+--------+--------+------------+---------+------------+------------+--------+--------+------------+------------+-----------+------------+----------+----------+-----------+----------+-----------+------------+----------+----------+----------+----------+----------+----------+-----------+-------------+---------+-----------+--------+------+-----+-----------+-------+------+------+--------+-------------+---------+----------------------+\n",
              "|  1|        60|      RL|         65|   8450|  Pave|   NA|     Reg|        Lvl|   AllPub|   Inside|      Gtl|     CollgCr|      Norm|      Norm|    1Fam|    2Story|          7|          5|     2003|        2003|    Gable| CompShg|    VinylSd|    VinylSd|   BrkFace|       196|       Gd|       TA|     PConc|      Gd|      TA|          No|         GLQ|       706|         Unf|         0|      150|        856|   GasA|       Ex|         Y|     SBrkr|     856|     854|           0|     1710|           1|           0|       2|       1|           3|           1|         Gd|           8|       Typ|         0|         NA|    Attchd|       2003|         RFn|         2|       548|        TA|        TA|         Y|         0|         61|            0|        0|          0|       0|    NA|   NA|         NA|      0|     2|  2008|      WD|       Normal|   208500|  [60.0,8450.0,7.0,...|\n",
              "|  2|        20|      RL|         80|   9600|  Pave|   NA|     Reg|        Lvl|   AllPub|      FR2|      Gtl|     Veenker|     Feedr|      Norm|    1Fam|    1Story|          6|          8|     1976|        1976|    Gable| CompShg|    MetalSd|    MetalSd|      None|         0|       TA|       TA|    CBlock|      Gd|      TA|          Gd|         ALQ|       978|         Unf|         0|      284|       1262|   GasA|       Ex|         Y|     SBrkr|    1262|       0|           0|     1262|           0|           1|       2|       0|           3|           1|         TA|           6|       Typ|         1|         TA|    Attchd|       1976|         RFn|         2|       460|        TA|        TA|         Y|       298|          0|            0|        0|          0|       0|    NA|   NA|         NA|      0|     5|  2007|      WD|       Normal|   181500|  [20.0,9600.0,6.0,...|\n",
              "|  5|        60|      RL|         84|  14260|  Pave|   NA|     IR1|        Lvl|   AllPub|      FR2|      Gtl|     NoRidge|      Norm|      Norm|    1Fam|    2Story|          8|          5|     2000|        2000|    Gable| CompShg|    VinylSd|    VinylSd|   BrkFace|       350|       Gd|       TA|     PConc|      Gd|      TA|          Av|         GLQ|       655|         Unf|         0|      490|       1145|   GasA|       Ex|         Y|     SBrkr|    1145|    1053|           0|     2198|           1|           0|       2|       1|           4|           1|         Gd|           9|       Typ|         1|         TA|    Attchd|       2000|         RFn|         3|       836|        TA|        TA|         Y|       192|         84|            0|        0|          0|       0|    NA|   NA|         NA|      0|    12|  2008|      WD|       Normal|   250000|  [60.0,14260.0,8.0...|\n",
              "|  6|        50|      RL|         85|  14115|  Pave|   NA|     IR1|        Lvl|   AllPub|   Inside|      Gtl|     Mitchel|      Norm|      Norm|    1Fam|    1.5Fin|          5|          5|     1993|        1995|    Gable| CompShg|    VinylSd|    VinylSd|      None|         0|       TA|       TA|      Wood|      Gd|      TA|          No|         GLQ|       732|         Unf|         0|       64|        796|   GasA|       Ex|         Y|     SBrkr|     796|     566|           0|     1362|           1|           0|       1|       1|           1|           1|         TA|           5|       Typ|         0|         NA|    Attchd|       1993|         Unf|         2|       480|        TA|        TA|         Y|        40|         30|            0|      320|          0|       0|    NA|MnPrv|       Shed|    700|    10|  2009|      WD|       Normal|   143000|  [50.0,14115.0,5.0...|\n",
              "|  7|        20|      RL|         75|  10084|  Pave|   NA|     Reg|        Lvl|   AllPub|   Inside|      Gtl|     Somerst|      Norm|      Norm|    1Fam|    1Story|          8|          5|     2004|        2005|    Gable| CompShg|    VinylSd|    VinylSd|     Stone|       186|       Gd|       TA|     PConc|      Ex|      TA|          Av|         GLQ|      1369|         Unf|         0|      317|       1686|   GasA|       Ex|         Y|     SBrkr|    1694|       0|           0|     1694|           1|           0|       2|       0|           3|           1|         Gd|           7|       Typ|         1|         Gd|    Attchd|       2004|         RFn|         2|       636|        TA|        TA|         Y|       255|         57|            0|        0|          0|       0|    NA|   NA|         NA|      0|     8|  2007|      WD|       Normal|   307000|  [20.0,10084.0,8.0...|\n",
              "| 10|       190|      RL|         50|   7420|  Pave|   NA|     Reg|        Lvl|   AllPub|   Corner|      Gtl|     BrkSide|    Artery|    Artery|  2fmCon|    1.5Unf|          5|          6|     1939|        1950|    Gable| CompShg|    MetalSd|    MetalSd|      None|         0|       TA|       TA|    BrkTil|      TA|      TA|          No|         GLQ|       851|         Unf|         0|      140|        991|   GasA|       Ex|         Y|     SBrkr|    1077|       0|           0|     1077|           1|           0|       1|       0|           2|           2|         TA|           5|       Typ|         2|         TA|    Attchd|       1939|         RFn|         1|       205|        Gd|        TA|         Y|         0|          4|            0|        0|          0|       0|    NA|   NA|         NA|      0|     1|  2008|      WD|       Normal|   118000|  [190.0,7420.0,5.0...|\n",
              "| 11|        20|      RL|         70|  11200|  Pave|   NA|     Reg|        Lvl|   AllPub|   Inside|      Gtl|      Sawyer|      Norm|      Norm|    1Fam|    1Story|          5|          5|     1965|        1965|      Hip| CompShg|    HdBoard|    HdBoard|      None|         0|       TA|       TA|    CBlock|      TA|      TA|          No|         Rec|       906|         Unf|         0|      134|       1040|   GasA|       Ex|         Y|     SBrkr|    1040|       0|           0|     1040|           1|           0|       1|       0|           3|           1|         TA|           5|       Typ|         0|         NA|    Detchd|       1965|         Unf|         1|       384|        TA|        TA|         Y|         0|          0|            0|        0|          0|       0|    NA|   NA|         NA|      0|     2|  2008|      WD|       Normal|   129500|  (22,[0,1,2,3,4,5,...|\n",
              "| 12|        60|      RL|         85|  11924|  Pave|   NA|     IR1|        Lvl|   AllPub|   Inside|      Gtl|     NridgHt|      Norm|      Norm|    1Fam|    2Story|          9|          5|     2005|        2006|      Hip| CompShg|    WdShing|    Wd Shng|     Stone|       286|       Ex|       TA|     PConc|      Ex|      TA|          No|         GLQ|       998|         Unf|         0|      177|       1175|   GasA|       Ex|         Y|     SBrkr|    1182|    1142|           0|     2324|           1|           0|       3|       0|           4|           1|         Ex|          11|       Typ|         2|         Gd|   BuiltIn|       2005|         Fin|         3|       736|        TA|        TA|         Y|       147|         21|            0|        0|          0|       0|    NA|   NA|         NA|      0|     7|  2006|     New|      Partial|   345000|  [60.0,11924.0,9.0...|\n",
              "| 14|        20|      RL|         91|  10652|  Pave|   NA|     IR1|        Lvl|   AllPub|   Inside|      Gtl|     CollgCr|      Norm|      Norm|    1Fam|    1Story|          7|          5|     2006|        2007|    Gable| CompShg|    VinylSd|    VinylSd|     Stone|       306|       Gd|       TA|     PConc|      Gd|      TA|          Av|         Unf|         0|         Unf|         0|     1494|       1494|   GasA|       Ex|         Y|     SBrkr|    1494|       0|           0|     1494|           0|           0|       2|       0|           3|           1|         Gd|           7|       Typ|         1|         Gd|    Attchd|       2006|         RFn|         3|       840|        TA|        TA|         Y|       160|         33|            0|        0|          0|       0|    NA|   NA|         NA|      0|     8|  2007|     New|      Partial|   279500|  [20.0,10652.0,7.0...|\n",
              "| 16|        45|      RM|         51|   6120|  Pave|   NA|     Reg|        Lvl|   AllPub|   Corner|      Gtl|     BrkSide|      Norm|      Norm|    1Fam|    1.5Unf|          7|          8|     1929|        2001|    Gable| CompShg|    Wd Sdng|    Wd Sdng|      None|         0|       TA|       TA|    BrkTil|      TA|      TA|          No|         Unf|         0|         Unf|         0|      832|        832|   GasA|       Ex|         Y|     FuseA|     854|       0|           0|      854|           0|           0|       1|       0|           2|           1|         TA|           5|       Typ|         0|         NA|    Detchd|       1991|         Unf|         2|       576|        TA|        TA|         Y|        48|        112|            0|        0|          0|       0|    NA|GdPrv|         NA|      0|     7|  2007|      WD|       Normal|   132000|  [45.0,6120.0,7.0,...|\n",
              "| 19|        20|      RL|         66|  13695|  Pave|   NA|     Reg|        Lvl|   AllPub|   Inside|      Gtl|     SawyerW|      RRAe|      Norm|    1Fam|    1Story|          5|          5|     2004|        2004|    Gable| CompShg|    VinylSd|    VinylSd|      None|         0|       TA|       TA|     PConc|      TA|      TA|          No|         GLQ|       646|         Unf|         0|      468|       1114|   GasA|       Ex|         Y|     SBrkr|    1114|       0|           0|     1114|           1|           0|       1|       1|           3|           1|         Gd|           6|       Typ|         0|         NA|    Detchd|       2004|         Unf|         2|       576|        TA|        TA|         Y|         0|        102|            0|        0|          0|       0|    NA|   NA|         NA|      0|     6|  2008|      WD|       Normal|   159000|  [20.0,13695.0,5.0...|\n",
              "| 21|        60|      RL|        101|  14215|  Pave|   NA|     IR1|        Lvl|   AllPub|   Corner|      Gtl|     NridgHt|      Norm|      Norm|    1Fam|    2Story|          8|          5|     2005|        2006|    Gable| CompShg|    VinylSd|    VinylSd|   BrkFace|       380|       Gd|       TA|     PConc|      Ex|      TA|          Av|         Unf|         0|         Unf|         0|     1158|       1158|   GasA|       Ex|         Y|     SBrkr|    1158|    1218|           0|     2376|           0|           0|       3|       1|           4|           1|         Gd|           9|       Typ|         1|         Gd|   BuiltIn|       2005|         RFn|         3|       853|        TA|        TA|         Y|       240|        154|            0|        0|          0|       0|    NA|   NA|         NA|      0|    11|  2006|     New|      Partial|   325300|  [60.0,14215.0,8.0...|\n",
              "| 22|        45|      RM|         57|   7449|  Pave| Grvl|     Reg|        Bnk|   AllPub|   Inside|      Gtl|      IDOTRR|      Norm|      Norm|    1Fam|    1.5Unf|          7|          7|     1930|        1950|    Gable| CompShg|    Wd Sdng|    Wd Sdng|      None|         0|       TA|       TA|     PConc|      TA|      TA|          No|         Unf|         0|         Unf|         0|      637|        637|   GasA|       Ex|         Y|     FuseF|    1108|       0|           0|     1108|           0|           0|       1|       0|           3|           1|         Gd|           6|       Typ|         1|         Gd|    Attchd|       1930|         Unf|         1|       280|        TA|        TA|         N|         0|          0|          205|        0|          0|       0|    NA|GdPrv|         NA|      0|     6|  2007|      WD|       Normal|   139400|  (22,[0,1,2,3,4,7,...|\n",
              "| 23|        20|      RL|         75|   9742|  Pave|   NA|     Reg|        Lvl|   AllPub|   Inside|      Gtl|     CollgCr|      Norm|      Norm|    1Fam|    1Story|          8|          5|     2002|        2002|      Hip| CompShg|    VinylSd|    VinylSd|   BrkFace|       281|       Gd|       TA|     PConc|      Gd|      TA|          No|         Unf|         0|         Unf|         0|     1777|       1777|   GasA|       Ex|         Y|     SBrkr|    1795|       0|           0|     1795|           0|           0|       2|       0|           3|           1|         Gd|           7|       Typ|         1|         Gd|    Attchd|       2002|         RFn|         2|       534|        TA|        TA|         Y|       171|        159|            0|        0|          0|       0|    NA|   NA|         NA|      0|     9|  2008|      WD|       Normal|   230000|  [20.0,9742.0,8.0,...|\n",
              "| 24|       120|      RM|         44|   4224|  Pave|   NA|     Reg|        Lvl|   AllPub|   Inside|      Gtl|     MeadowV|      Norm|      Norm|  TwnhsE|    1Story|          5|          7|     1976|        1976|    Gable| CompShg|    CemntBd|    CmentBd|      None|         0|       TA|       TA|     PConc|      Gd|      TA|          No|         GLQ|       840|         Unf|         0|      200|       1040|   GasA|       TA|         Y|     SBrkr|    1060|       0|           0|     1060|           1|           0|       1|       0|           3|           1|         TA|           6|       Typ|         1|         TA|    Attchd|       1976|         Unf|         2|       572|        TA|        TA|         Y|       100|        110|            0|        0|          0|       0|    NA|   NA|         NA|      0|     6|  2007|      WD|       Normal|   129900|  [120.0,4224.0,5.0...|\n",
              "| 27|        20|      RL|         60|   7200|  Pave|   NA|     Reg|        Lvl|   AllPub|   Corner|      Gtl|       NAmes|      Norm|      Norm|    1Fam|    1Story|          5|          7|     1951|        2000|    Gable| CompShg|    Wd Sdng|    Wd Sdng|      None|         0|       TA|       TA|    CBlock|      TA|      TA|          Mn|         BLQ|       234|         Rec|       486|      180|        900|   GasA|       TA|         Y|     SBrkr|     900|       0|           0|      900|           0|           1|       1|       0|           3|           1|         Gd|           5|       Typ|         0|         NA|    Detchd|       2005|         Unf|         2|       576|        TA|        TA|         Y|       222|         32|            0|        0|          0|       0|    NA|   NA|         NA|      0|     5|  2010|      WD|       Normal|   134800|  [20.0,7200.0,5.0,...|\n",
              "| 29|        20|      RL|         47|  16321|  Pave|   NA|     IR1|        Lvl|   AllPub|  CulDSac|      Gtl|       NAmes|      Norm|      Norm|    1Fam|    1Story|          5|          6|     1957|        1997|    Gable| CompShg|    MetalSd|    MetalSd|      None|         0|       TA|       TA|    CBlock|      TA|      TA|          Gd|         BLQ|      1277|         Unf|         0|      207|       1484|   GasA|       TA|         Y|     SBrkr|    1600|       0|           0|     1600|           1|           0|       1|       0|           2|           1|         TA|           6|       Typ|         2|         Gd|    Attchd|       1957|         RFn|         1|       319|        TA|        TA|         Y|       288|        258|            0|        0|          0|       0|    NA|   NA|         NA|      0|    12|  2006|      WD|       Normal|   207500|  [20.0,16321.0,5.0...|\n",
              "| 31|        70| C (all)|         50|   8500|  Pave| Pave|     Reg|        Lvl|   AllPub|   Inside|      Gtl|      IDOTRR|     Feedr|      Norm|    1Fam|    2Story|          4|          4|     1920|        1950|  Gambrel| CompShg|    BrkFace|    BrkFace|      None|         0|       TA|       Fa|    BrkTil|      TA|      TA|          No|         Unf|         0|         Unf|         0|      649|        649|   GasA|       TA|         N|     SBrkr|     649|     668|           0|     1317|           0|           0|       1|       0|           3|           1|         TA|           6|       Typ|         0|         NA|    Detchd|       1920|         Unf|         1|       250|        TA|        Fa|         N|         0|         54|          172|        0|          0|       0|    NA|MnPrv|         NA|      0|     7|  2008|      WD|       Normal|    40000|  [70.0,8500.0,4.0,...|\n",
              "| 33|        20|      RL|         85|  11049|  Pave|   NA|     Reg|        Lvl|   AllPub|   Corner|      Gtl|     CollgCr|      Norm|      Norm|    1Fam|    1Story|          8|          5|     2007|        2007|    Gable| CompShg|    VinylSd|    VinylSd|      None|         0|       Gd|       TA|     PConc|      Ex|      TA|          Av|         Unf|         0|         Unf|         0|     1234|       1234|   GasA|       Ex|         Y|     SBrkr|    1234|       0|           0|     1234|           0|           0|       2|       0|           3|           1|         Gd|           7|       Typ|         0|         NA|    Attchd|       2007|         RFn|         2|       484|        TA|        TA|         Y|         0|         30|            0|        0|          0|       0|    NA|   NA|         NA|      0|     1|  2008|      WD|       Normal|   179900|  (22,[0,1,2,3,4,7,...|\n",
              "| 34|        20|      RL|         70|  10552|  Pave|   NA|     IR1|        Lvl|   AllPub|   Inside|      Gtl|       NAmes|      Norm|      Norm|    1Fam|    1Story|          5|          5|     1959|        1959|      Hip| CompShg|    BrkFace|    BrkFace|      None|         0|       TA|       TA|    CBlock|      TA|      TA|          No|         Rec|      1018|         Unf|         0|      380|       1398|   GasA|       Gd|         Y|     SBrkr|    1700|       0|           0|     1700|           0|           1|       1|       1|           4|           1|         Gd|           6|       Typ|         1|         Gd|    Attchd|       1959|         RFn|         2|       447|        TA|        TA|         Y|         0|         38|            0|        0|          0|       0|    NA|   NA|         NA|      0|     4|  2010|      WD|       Normal|   165500|  [20.0,10552.0,5.0...|\n",
              "+---+----------+--------+-----------+-------+------+-----+--------+-----------+---------+---------+---------+------------+----------+----------+--------+----------+-----------+-----------+---------+------------+---------+--------+-----------+-----------+----------+----------+---------+---------+----------+--------+--------+------------+------------+----------+------------+----------+---------+-----------+-------+---------+----------+----------+--------+--------+------------+---------+------------+------------+--------+--------+------------+------------+-----------+------------+----------+----------+-----------+----------+-----------+------------+----------+----------+----------+----------+----------+----------+-----------+-------------+---------+-----------+--------+------+-----+-----------+-------+------+------+--------+-------------+---------+----------------------+\n",
              "only showing top 20 rows"
            ],
            "text/html": [
              "<table border='1'>\n",
              "<tr><th>Id</th><th>MSSubClass</th><th>MSZoning</th><th>LotFrontage</th><th>LotArea</th><th>Street</th><th>Alley</th><th>LotShape</th><th>LandContour</th><th>Utilities</th><th>LotConfig</th><th>LandSlope</th><th>Neighborhood</th><th>Condition1</th><th>Condition2</th><th>BldgType</th><th>HouseStyle</th><th>OverallQual</th><th>OverallCond</th><th>YearBuilt</th><th>YearRemodAdd</th><th>RoofStyle</th><th>RoofMatl</th><th>Exterior1st</th><th>Exterior2nd</th><th>MasVnrType</th><th>MasVnrArea</th><th>ExterQual</th><th>ExterCond</th><th>Foundation</th><th>BsmtQual</th><th>BsmtCond</th><th>BsmtExposure</th><th>BsmtFinType1</th><th>BsmtFinSF1</th><th>BsmtFinType2</th><th>BsmtFinSF2</th><th>BsmtUnfSF</th><th>TotalBsmtSF</th><th>Heating</th><th>HeatingQC</th><th>CentralAir</th><th>Electrical</th><th>1stFlrSF</th><th>2ndFlrSF</th><th>LowQualFinSF</th><th>GrLivArea</th><th>BsmtFullBath</th><th>BsmtHalfBath</th><th>FullBath</th><th>HalfBath</th><th>BedroomAbvGr</th><th>KitchenAbvGr</th><th>KitchenQual</th><th>TotRmsAbvGrd</th><th>Functional</th><th>Fireplaces</th><th>FireplaceQu</th><th>GarageType</th><th>GarageYrBlt</th><th>GarageFinish</th><th>GarageCars</th><th>GarageArea</th><th>GarageQual</th><th>GarageCond</th><th>PavedDrive</th><th>WoodDeckSF</th><th>OpenPorchSF</th><th>EnclosedPorch</th><th>3SsnPorch</th><th>ScreenPorch</th><th>PoolArea</th><th>PoolQC</th><th>Fence</th><th>MiscFeature</th><th>MiscVal</th><th>MoSold</th><th>YrSold</th><th>SaleType</th><th>SaleCondition</th><th>SalePrice</th><th>numerical_features_lst</th></tr>\n",
              "<tr><td>1</td><td>60</td><td>RL</td><td>65</td><td>8450</td><td>Pave</td><td>NA</td><td>Reg</td><td>Lvl</td><td>AllPub</td><td>Inside</td><td>Gtl</td><td>CollgCr</td><td>Norm</td><td>Norm</td><td>1Fam</td><td>2Story</td><td>7</td><td>5</td><td>2003</td><td>2003</td><td>Gable</td><td>CompShg</td><td>VinylSd</td><td>VinylSd</td><td>BrkFace</td><td>196</td><td>Gd</td><td>TA</td><td>PConc</td><td>Gd</td><td>TA</td><td>No</td><td>GLQ</td><td>706</td><td>Unf</td><td>0</td><td>150</td><td>856</td><td>GasA</td><td>Ex</td><td>Y</td><td>SBrkr</td><td>856</td><td>854</td><td>0</td><td>1710</td><td>1</td><td>0</td><td>2</td><td>1</td><td>3</td><td>1</td><td>Gd</td><td>8</td><td>Typ</td><td>0</td><td>NA</td><td>Attchd</td><td>2003</td><td>RFn</td><td>2</td><td>548</td><td>TA</td><td>TA</td><td>Y</td><td>0</td><td>61</td><td>0</td><td>0</td><td>0</td><td>0</td><td>NA</td><td>NA</td><td>NA</td><td>0</td><td>2</td><td>2008</td><td>WD</td><td>Normal</td><td>208500</td><td>[60.0,8450.0,7.0,...</td></tr>\n",
              "<tr><td>2</td><td>20</td><td>RL</td><td>80</td><td>9600</td><td>Pave</td><td>NA</td><td>Reg</td><td>Lvl</td><td>AllPub</td><td>FR2</td><td>Gtl</td><td>Veenker</td><td>Feedr</td><td>Norm</td><td>1Fam</td><td>1Story</td><td>6</td><td>8</td><td>1976</td><td>1976</td><td>Gable</td><td>CompShg</td><td>MetalSd</td><td>MetalSd</td><td>None</td><td>0</td><td>TA</td><td>TA</td><td>CBlock</td><td>Gd</td><td>TA</td><td>Gd</td><td>ALQ</td><td>978</td><td>Unf</td><td>0</td><td>284</td><td>1262</td><td>GasA</td><td>Ex</td><td>Y</td><td>SBrkr</td><td>1262</td><td>0</td><td>0</td><td>1262</td><td>0</td><td>1</td><td>2</td><td>0</td><td>3</td><td>1</td><td>TA</td><td>6</td><td>Typ</td><td>1</td><td>TA</td><td>Attchd</td><td>1976</td><td>RFn</td><td>2</td><td>460</td><td>TA</td><td>TA</td><td>Y</td><td>298</td><td>0</td><td>0</td><td>0</td><td>0</td><td>0</td><td>NA</td><td>NA</td><td>NA</td><td>0</td><td>5</td><td>2007</td><td>WD</td><td>Normal</td><td>181500</td><td>[20.0,9600.0,6.0,...</td></tr>\n",
              "<tr><td>5</td><td>60</td><td>RL</td><td>84</td><td>14260</td><td>Pave</td><td>NA</td><td>IR1</td><td>Lvl</td><td>AllPub</td><td>FR2</td><td>Gtl</td><td>NoRidge</td><td>Norm</td><td>Norm</td><td>1Fam</td><td>2Story</td><td>8</td><td>5</td><td>2000</td><td>2000</td><td>Gable</td><td>CompShg</td><td>VinylSd</td><td>VinylSd</td><td>BrkFace</td><td>350</td><td>Gd</td><td>TA</td><td>PConc</td><td>Gd</td><td>TA</td><td>Av</td><td>GLQ</td><td>655</td><td>Unf</td><td>0</td><td>490</td><td>1145</td><td>GasA</td><td>Ex</td><td>Y</td><td>SBrkr</td><td>1145</td><td>1053</td><td>0</td><td>2198</td><td>1</td><td>0</td><td>2</td><td>1</td><td>4</td><td>1</td><td>Gd</td><td>9</td><td>Typ</td><td>1</td><td>TA</td><td>Attchd</td><td>2000</td><td>RFn</td><td>3</td><td>836</td><td>TA</td><td>TA</td><td>Y</td><td>192</td><td>84</td><td>0</td><td>0</td><td>0</td><td>0</td><td>NA</td><td>NA</td><td>NA</td><td>0</td><td>12</td><td>2008</td><td>WD</td><td>Normal</td><td>250000</td><td>[60.0,14260.0,8.0...</td></tr>\n",
              "<tr><td>6</td><td>50</td><td>RL</td><td>85</td><td>14115</td><td>Pave</td><td>NA</td><td>IR1</td><td>Lvl</td><td>AllPub</td><td>Inside</td><td>Gtl</td><td>Mitchel</td><td>Norm</td><td>Norm</td><td>1Fam</td><td>1.5Fin</td><td>5</td><td>5</td><td>1993</td><td>1995</td><td>Gable</td><td>CompShg</td><td>VinylSd</td><td>VinylSd</td><td>None</td><td>0</td><td>TA</td><td>TA</td><td>Wood</td><td>Gd</td><td>TA</td><td>No</td><td>GLQ</td><td>732</td><td>Unf</td><td>0</td><td>64</td><td>796</td><td>GasA</td><td>Ex</td><td>Y</td><td>SBrkr</td><td>796</td><td>566</td><td>0</td><td>1362</td><td>1</td><td>0</td><td>1</td><td>1</td><td>1</td><td>1</td><td>TA</td><td>5</td><td>Typ</td><td>0</td><td>NA</td><td>Attchd</td><td>1993</td><td>Unf</td><td>2</td><td>480</td><td>TA</td><td>TA</td><td>Y</td><td>40</td><td>30</td><td>0</td><td>320</td><td>0</td><td>0</td><td>NA</td><td>MnPrv</td><td>Shed</td><td>700</td><td>10</td><td>2009</td><td>WD</td><td>Normal</td><td>143000</td><td>[50.0,14115.0,5.0...</td></tr>\n",
              "<tr><td>7</td><td>20</td><td>RL</td><td>75</td><td>10084</td><td>Pave</td><td>NA</td><td>Reg</td><td>Lvl</td><td>AllPub</td><td>Inside</td><td>Gtl</td><td>Somerst</td><td>Norm</td><td>Norm</td><td>1Fam</td><td>1Story</td><td>8</td><td>5</td><td>2004</td><td>2005</td><td>Gable</td><td>CompShg</td><td>VinylSd</td><td>VinylSd</td><td>Stone</td><td>186</td><td>Gd</td><td>TA</td><td>PConc</td><td>Ex</td><td>TA</td><td>Av</td><td>GLQ</td><td>1369</td><td>Unf</td><td>0</td><td>317</td><td>1686</td><td>GasA</td><td>Ex</td><td>Y</td><td>SBrkr</td><td>1694</td><td>0</td><td>0</td><td>1694</td><td>1</td><td>0</td><td>2</td><td>0</td><td>3</td><td>1</td><td>Gd</td><td>7</td><td>Typ</td><td>1</td><td>Gd</td><td>Attchd</td><td>2004</td><td>RFn</td><td>2</td><td>636</td><td>TA</td><td>TA</td><td>Y</td><td>255</td><td>57</td><td>0</td><td>0</td><td>0</td><td>0</td><td>NA</td><td>NA</td><td>NA</td><td>0</td><td>8</td><td>2007</td><td>WD</td><td>Normal</td><td>307000</td><td>[20.0,10084.0,8.0...</td></tr>\n",
              "<tr><td>10</td><td>190</td><td>RL</td><td>50</td><td>7420</td><td>Pave</td><td>NA</td><td>Reg</td><td>Lvl</td><td>AllPub</td><td>Corner</td><td>Gtl</td><td>BrkSide</td><td>Artery</td><td>Artery</td><td>2fmCon</td><td>1.5Unf</td><td>5</td><td>6</td><td>1939</td><td>1950</td><td>Gable</td><td>CompShg</td><td>MetalSd</td><td>MetalSd</td><td>None</td><td>0</td><td>TA</td><td>TA</td><td>BrkTil</td><td>TA</td><td>TA</td><td>No</td><td>GLQ</td><td>851</td><td>Unf</td><td>0</td><td>140</td><td>991</td><td>GasA</td><td>Ex</td><td>Y</td><td>SBrkr</td><td>1077</td><td>0</td><td>0</td><td>1077</td><td>1</td><td>0</td><td>1</td><td>0</td><td>2</td><td>2</td><td>TA</td><td>5</td><td>Typ</td><td>2</td><td>TA</td><td>Attchd</td><td>1939</td><td>RFn</td><td>1</td><td>205</td><td>Gd</td><td>TA</td><td>Y</td><td>0</td><td>4</td><td>0</td><td>0</td><td>0</td><td>0</td><td>NA</td><td>NA</td><td>NA</td><td>0</td><td>1</td><td>2008</td><td>WD</td><td>Normal</td><td>118000</td><td>[190.0,7420.0,5.0...</td></tr>\n",
              "<tr><td>11</td><td>20</td><td>RL</td><td>70</td><td>11200</td><td>Pave</td><td>NA</td><td>Reg</td><td>Lvl</td><td>AllPub</td><td>Inside</td><td>Gtl</td><td>Sawyer</td><td>Norm</td><td>Norm</td><td>1Fam</td><td>1Story</td><td>5</td><td>5</td><td>1965</td><td>1965</td><td>Hip</td><td>CompShg</td><td>HdBoard</td><td>HdBoard</td><td>None</td><td>0</td><td>TA</td><td>TA</td><td>CBlock</td><td>TA</td><td>TA</td><td>No</td><td>Rec</td><td>906</td><td>Unf</td><td>0</td><td>134</td><td>1040</td><td>GasA</td><td>Ex</td><td>Y</td><td>SBrkr</td><td>1040</td><td>0</td><td>0</td><td>1040</td><td>1</td><td>0</td><td>1</td><td>0</td><td>3</td><td>1</td><td>TA</td><td>5</td><td>Typ</td><td>0</td><td>NA</td><td>Detchd</td><td>1965</td><td>Unf</td><td>1</td><td>384</td><td>TA</td><td>TA</td><td>Y</td><td>0</td><td>0</td><td>0</td><td>0</td><td>0</td><td>0</td><td>NA</td><td>NA</td><td>NA</td><td>0</td><td>2</td><td>2008</td><td>WD</td><td>Normal</td><td>129500</td><td>(22,[0,1,2,3,4,5,...</td></tr>\n",
              "<tr><td>12</td><td>60</td><td>RL</td><td>85</td><td>11924</td><td>Pave</td><td>NA</td><td>IR1</td><td>Lvl</td><td>AllPub</td><td>Inside</td><td>Gtl</td><td>NridgHt</td><td>Norm</td><td>Norm</td><td>1Fam</td><td>2Story</td><td>9</td><td>5</td><td>2005</td><td>2006</td><td>Hip</td><td>CompShg</td><td>WdShing</td><td>Wd Shng</td><td>Stone</td><td>286</td><td>Ex</td><td>TA</td><td>PConc</td><td>Ex</td><td>TA</td><td>No</td><td>GLQ</td><td>998</td><td>Unf</td><td>0</td><td>177</td><td>1175</td><td>GasA</td><td>Ex</td><td>Y</td><td>SBrkr</td><td>1182</td><td>1142</td><td>0</td><td>2324</td><td>1</td><td>0</td><td>3</td><td>0</td><td>4</td><td>1</td><td>Ex</td><td>11</td><td>Typ</td><td>2</td><td>Gd</td><td>BuiltIn</td><td>2005</td><td>Fin</td><td>3</td><td>736</td><td>TA</td><td>TA</td><td>Y</td><td>147</td><td>21</td><td>0</td><td>0</td><td>0</td><td>0</td><td>NA</td><td>NA</td><td>NA</td><td>0</td><td>7</td><td>2006</td><td>New</td><td>Partial</td><td>345000</td><td>[60.0,11924.0,9.0...</td></tr>\n",
              "<tr><td>14</td><td>20</td><td>RL</td><td>91</td><td>10652</td><td>Pave</td><td>NA</td><td>IR1</td><td>Lvl</td><td>AllPub</td><td>Inside</td><td>Gtl</td><td>CollgCr</td><td>Norm</td><td>Norm</td><td>1Fam</td><td>1Story</td><td>7</td><td>5</td><td>2006</td><td>2007</td><td>Gable</td><td>CompShg</td><td>VinylSd</td><td>VinylSd</td><td>Stone</td><td>306</td><td>Gd</td><td>TA</td><td>PConc</td><td>Gd</td><td>TA</td><td>Av</td><td>Unf</td><td>0</td><td>Unf</td><td>0</td><td>1494</td><td>1494</td><td>GasA</td><td>Ex</td><td>Y</td><td>SBrkr</td><td>1494</td><td>0</td><td>0</td><td>1494</td><td>0</td><td>0</td><td>2</td><td>0</td><td>3</td><td>1</td><td>Gd</td><td>7</td><td>Typ</td><td>1</td><td>Gd</td><td>Attchd</td><td>2006</td><td>RFn</td><td>3</td><td>840</td><td>TA</td><td>TA</td><td>Y</td><td>160</td><td>33</td><td>0</td><td>0</td><td>0</td><td>0</td><td>NA</td><td>NA</td><td>NA</td><td>0</td><td>8</td><td>2007</td><td>New</td><td>Partial</td><td>279500</td><td>[20.0,10652.0,7.0...</td></tr>\n",
              "<tr><td>16</td><td>45</td><td>RM</td><td>51</td><td>6120</td><td>Pave</td><td>NA</td><td>Reg</td><td>Lvl</td><td>AllPub</td><td>Corner</td><td>Gtl</td><td>BrkSide</td><td>Norm</td><td>Norm</td><td>1Fam</td><td>1.5Unf</td><td>7</td><td>8</td><td>1929</td><td>2001</td><td>Gable</td><td>CompShg</td><td>Wd Sdng</td><td>Wd Sdng</td><td>None</td><td>0</td><td>TA</td><td>TA</td><td>BrkTil</td><td>TA</td><td>TA</td><td>No</td><td>Unf</td><td>0</td><td>Unf</td><td>0</td><td>832</td><td>832</td><td>GasA</td><td>Ex</td><td>Y</td><td>FuseA</td><td>854</td><td>0</td><td>0</td><td>854</td><td>0</td><td>0</td><td>1</td><td>0</td><td>2</td><td>1</td><td>TA</td><td>5</td><td>Typ</td><td>0</td><td>NA</td><td>Detchd</td><td>1991</td><td>Unf</td><td>2</td><td>576</td><td>TA</td><td>TA</td><td>Y</td><td>48</td><td>112</td><td>0</td><td>0</td><td>0</td><td>0</td><td>NA</td><td>GdPrv</td><td>NA</td><td>0</td><td>7</td><td>2007</td><td>WD</td><td>Normal</td><td>132000</td><td>[45.0,6120.0,7.0,...</td></tr>\n",
              "<tr><td>19</td><td>20</td><td>RL</td><td>66</td><td>13695</td><td>Pave</td><td>NA</td><td>Reg</td><td>Lvl</td><td>AllPub</td><td>Inside</td><td>Gtl</td><td>SawyerW</td><td>RRAe</td><td>Norm</td><td>1Fam</td><td>1Story</td><td>5</td><td>5</td><td>2004</td><td>2004</td><td>Gable</td><td>CompShg</td><td>VinylSd</td><td>VinylSd</td><td>None</td><td>0</td><td>TA</td><td>TA</td><td>PConc</td><td>TA</td><td>TA</td><td>No</td><td>GLQ</td><td>646</td><td>Unf</td><td>0</td><td>468</td><td>1114</td><td>GasA</td><td>Ex</td><td>Y</td><td>SBrkr</td><td>1114</td><td>0</td><td>0</td><td>1114</td><td>1</td><td>0</td><td>1</td><td>1</td><td>3</td><td>1</td><td>Gd</td><td>6</td><td>Typ</td><td>0</td><td>NA</td><td>Detchd</td><td>2004</td><td>Unf</td><td>2</td><td>576</td><td>TA</td><td>TA</td><td>Y</td><td>0</td><td>102</td><td>0</td><td>0</td><td>0</td><td>0</td><td>NA</td><td>NA</td><td>NA</td><td>0</td><td>6</td><td>2008</td><td>WD</td><td>Normal</td><td>159000</td><td>[20.0,13695.0,5.0...</td></tr>\n",
              "<tr><td>21</td><td>60</td><td>RL</td><td>101</td><td>14215</td><td>Pave</td><td>NA</td><td>IR1</td><td>Lvl</td><td>AllPub</td><td>Corner</td><td>Gtl</td><td>NridgHt</td><td>Norm</td><td>Norm</td><td>1Fam</td><td>2Story</td><td>8</td><td>5</td><td>2005</td><td>2006</td><td>Gable</td><td>CompShg</td><td>VinylSd</td><td>VinylSd</td><td>BrkFace</td><td>380</td><td>Gd</td><td>TA</td><td>PConc</td><td>Ex</td><td>TA</td><td>Av</td><td>Unf</td><td>0</td><td>Unf</td><td>0</td><td>1158</td><td>1158</td><td>GasA</td><td>Ex</td><td>Y</td><td>SBrkr</td><td>1158</td><td>1218</td><td>0</td><td>2376</td><td>0</td><td>0</td><td>3</td><td>1</td><td>4</td><td>1</td><td>Gd</td><td>9</td><td>Typ</td><td>1</td><td>Gd</td><td>BuiltIn</td><td>2005</td><td>RFn</td><td>3</td><td>853</td><td>TA</td><td>TA</td><td>Y</td><td>240</td><td>154</td><td>0</td><td>0</td><td>0</td><td>0</td><td>NA</td><td>NA</td><td>NA</td><td>0</td><td>11</td><td>2006</td><td>New</td><td>Partial</td><td>325300</td><td>[60.0,14215.0,8.0...</td></tr>\n",
              "<tr><td>22</td><td>45</td><td>RM</td><td>57</td><td>7449</td><td>Pave</td><td>Grvl</td><td>Reg</td><td>Bnk</td><td>AllPub</td><td>Inside</td><td>Gtl</td><td>IDOTRR</td><td>Norm</td><td>Norm</td><td>1Fam</td><td>1.5Unf</td><td>7</td><td>7</td><td>1930</td><td>1950</td><td>Gable</td><td>CompShg</td><td>Wd Sdng</td><td>Wd Sdng</td><td>None</td><td>0</td><td>TA</td><td>TA</td><td>PConc</td><td>TA</td><td>TA</td><td>No</td><td>Unf</td><td>0</td><td>Unf</td><td>0</td><td>637</td><td>637</td><td>GasA</td><td>Ex</td><td>Y</td><td>FuseF</td><td>1108</td><td>0</td><td>0</td><td>1108</td><td>0</td><td>0</td><td>1</td><td>0</td><td>3</td><td>1</td><td>Gd</td><td>6</td><td>Typ</td><td>1</td><td>Gd</td><td>Attchd</td><td>1930</td><td>Unf</td><td>1</td><td>280</td><td>TA</td><td>TA</td><td>N</td><td>0</td><td>0</td><td>205</td><td>0</td><td>0</td><td>0</td><td>NA</td><td>GdPrv</td><td>NA</td><td>0</td><td>6</td><td>2007</td><td>WD</td><td>Normal</td><td>139400</td><td>(22,[0,1,2,3,4,7,...</td></tr>\n",
              "<tr><td>23</td><td>20</td><td>RL</td><td>75</td><td>9742</td><td>Pave</td><td>NA</td><td>Reg</td><td>Lvl</td><td>AllPub</td><td>Inside</td><td>Gtl</td><td>CollgCr</td><td>Norm</td><td>Norm</td><td>1Fam</td><td>1Story</td><td>8</td><td>5</td><td>2002</td><td>2002</td><td>Hip</td><td>CompShg</td><td>VinylSd</td><td>VinylSd</td><td>BrkFace</td><td>281</td><td>Gd</td><td>TA</td><td>PConc</td><td>Gd</td><td>TA</td><td>No</td><td>Unf</td><td>0</td><td>Unf</td><td>0</td><td>1777</td><td>1777</td><td>GasA</td><td>Ex</td><td>Y</td><td>SBrkr</td><td>1795</td><td>0</td><td>0</td><td>1795</td><td>0</td><td>0</td><td>2</td><td>0</td><td>3</td><td>1</td><td>Gd</td><td>7</td><td>Typ</td><td>1</td><td>Gd</td><td>Attchd</td><td>2002</td><td>RFn</td><td>2</td><td>534</td><td>TA</td><td>TA</td><td>Y</td><td>171</td><td>159</td><td>0</td><td>0</td><td>0</td><td>0</td><td>NA</td><td>NA</td><td>NA</td><td>0</td><td>9</td><td>2008</td><td>WD</td><td>Normal</td><td>230000</td><td>[20.0,9742.0,8.0,...</td></tr>\n",
              "<tr><td>24</td><td>120</td><td>RM</td><td>44</td><td>4224</td><td>Pave</td><td>NA</td><td>Reg</td><td>Lvl</td><td>AllPub</td><td>Inside</td><td>Gtl</td><td>MeadowV</td><td>Norm</td><td>Norm</td><td>TwnhsE</td><td>1Story</td><td>5</td><td>7</td><td>1976</td><td>1976</td><td>Gable</td><td>CompShg</td><td>CemntBd</td><td>CmentBd</td><td>None</td><td>0</td><td>TA</td><td>TA</td><td>PConc</td><td>Gd</td><td>TA</td><td>No</td><td>GLQ</td><td>840</td><td>Unf</td><td>0</td><td>200</td><td>1040</td><td>GasA</td><td>TA</td><td>Y</td><td>SBrkr</td><td>1060</td><td>0</td><td>0</td><td>1060</td><td>1</td><td>0</td><td>1</td><td>0</td><td>3</td><td>1</td><td>TA</td><td>6</td><td>Typ</td><td>1</td><td>TA</td><td>Attchd</td><td>1976</td><td>Unf</td><td>2</td><td>572</td><td>TA</td><td>TA</td><td>Y</td><td>100</td><td>110</td><td>0</td><td>0</td><td>0</td><td>0</td><td>NA</td><td>NA</td><td>NA</td><td>0</td><td>6</td><td>2007</td><td>WD</td><td>Normal</td><td>129900</td><td>[120.0,4224.0,5.0...</td></tr>\n",
              "<tr><td>27</td><td>20</td><td>RL</td><td>60</td><td>7200</td><td>Pave</td><td>NA</td><td>Reg</td><td>Lvl</td><td>AllPub</td><td>Corner</td><td>Gtl</td><td>NAmes</td><td>Norm</td><td>Norm</td><td>1Fam</td><td>1Story</td><td>5</td><td>7</td><td>1951</td><td>2000</td><td>Gable</td><td>CompShg</td><td>Wd Sdng</td><td>Wd Sdng</td><td>None</td><td>0</td><td>TA</td><td>TA</td><td>CBlock</td><td>TA</td><td>TA</td><td>Mn</td><td>BLQ</td><td>234</td><td>Rec</td><td>486</td><td>180</td><td>900</td><td>GasA</td><td>TA</td><td>Y</td><td>SBrkr</td><td>900</td><td>0</td><td>0</td><td>900</td><td>0</td><td>1</td><td>1</td><td>0</td><td>3</td><td>1</td><td>Gd</td><td>5</td><td>Typ</td><td>0</td><td>NA</td><td>Detchd</td><td>2005</td><td>Unf</td><td>2</td><td>576</td><td>TA</td><td>TA</td><td>Y</td><td>222</td><td>32</td><td>0</td><td>0</td><td>0</td><td>0</td><td>NA</td><td>NA</td><td>NA</td><td>0</td><td>5</td><td>2010</td><td>WD</td><td>Normal</td><td>134800</td><td>[20.0,7200.0,5.0,...</td></tr>\n",
              "<tr><td>29</td><td>20</td><td>RL</td><td>47</td><td>16321</td><td>Pave</td><td>NA</td><td>IR1</td><td>Lvl</td><td>AllPub</td><td>CulDSac</td><td>Gtl</td><td>NAmes</td><td>Norm</td><td>Norm</td><td>1Fam</td><td>1Story</td><td>5</td><td>6</td><td>1957</td><td>1997</td><td>Gable</td><td>CompShg</td><td>MetalSd</td><td>MetalSd</td><td>None</td><td>0</td><td>TA</td><td>TA</td><td>CBlock</td><td>TA</td><td>TA</td><td>Gd</td><td>BLQ</td><td>1277</td><td>Unf</td><td>0</td><td>207</td><td>1484</td><td>GasA</td><td>TA</td><td>Y</td><td>SBrkr</td><td>1600</td><td>0</td><td>0</td><td>1600</td><td>1</td><td>0</td><td>1</td><td>0</td><td>2</td><td>1</td><td>TA</td><td>6</td><td>Typ</td><td>2</td><td>Gd</td><td>Attchd</td><td>1957</td><td>RFn</td><td>1</td><td>319</td><td>TA</td><td>TA</td><td>Y</td><td>288</td><td>258</td><td>0</td><td>0</td><td>0</td><td>0</td><td>NA</td><td>NA</td><td>NA</td><td>0</td><td>12</td><td>2006</td><td>WD</td><td>Normal</td><td>207500</td><td>[20.0,16321.0,5.0...</td></tr>\n",
              "<tr><td>31</td><td>70</td><td>C (all)</td><td>50</td><td>8500</td><td>Pave</td><td>Pave</td><td>Reg</td><td>Lvl</td><td>AllPub</td><td>Inside</td><td>Gtl</td><td>IDOTRR</td><td>Feedr</td><td>Norm</td><td>1Fam</td><td>2Story</td><td>4</td><td>4</td><td>1920</td><td>1950</td><td>Gambrel</td><td>CompShg</td><td>BrkFace</td><td>BrkFace</td><td>None</td><td>0</td><td>TA</td><td>Fa</td><td>BrkTil</td><td>TA</td><td>TA</td><td>No</td><td>Unf</td><td>0</td><td>Unf</td><td>0</td><td>649</td><td>649</td><td>GasA</td><td>TA</td><td>N</td><td>SBrkr</td><td>649</td><td>668</td><td>0</td><td>1317</td><td>0</td><td>0</td><td>1</td><td>0</td><td>3</td><td>1</td><td>TA</td><td>6</td><td>Typ</td><td>0</td><td>NA</td><td>Detchd</td><td>1920</td><td>Unf</td><td>1</td><td>250</td><td>TA</td><td>Fa</td><td>N</td><td>0</td><td>54</td><td>172</td><td>0</td><td>0</td><td>0</td><td>NA</td><td>MnPrv</td><td>NA</td><td>0</td><td>7</td><td>2008</td><td>WD</td><td>Normal</td><td>40000</td><td>[70.0,8500.0,4.0,...</td></tr>\n",
              "<tr><td>33</td><td>20</td><td>RL</td><td>85</td><td>11049</td><td>Pave</td><td>NA</td><td>Reg</td><td>Lvl</td><td>AllPub</td><td>Corner</td><td>Gtl</td><td>CollgCr</td><td>Norm</td><td>Norm</td><td>1Fam</td><td>1Story</td><td>8</td><td>5</td><td>2007</td><td>2007</td><td>Gable</td><td>CompShg</td><td>VinylSd</td><td>VinylSd</td><td>None</td><td>0</td><td>Gd</td><td>TA</td><td>PConc</td><td>Ex</td><td>TA</td><td>Av</td><td>Unf</td><td>0</td><td>Unf</td><td>0</td><td>1234</td><td>1234</td><td>GasA</td><td>Ex</td><td>Y</td><td>SBrkr</td><td>1234</td><td>0</td><td>0</td><td>1234</td><td>0</td><td>0</td><td>2</td><td>0</td><td>3</td><td>1</td><td>Gd</td><td>7</td><td>Typ</td><td>0</td><td>NA</td><td>Attchd</td><td>2007</td><td>RFn</td><td>2</td><td>484</td><td>TA</td><td>TA</td><td>Y</td><td>0</td><td>30</td><td>0</td><td>0</td><td>0</td><td>0</td><td>NA</td><td>NA</td><td>NA</td><td>0</td><td>1</td><td>2008</td><td>WD</td><td>Normal</td><td>179900</td><td>(22,[0,1,2,3,4,7,...</td></tr>\n",
              "<tr><td>34</td><td>20</td><td>RL</td><td>70</td><td>10552</td><td>Pave</td><td>NA</td><td>IR1</td><td>Lvl</td><td>AllPub</td><td>Inside</td><td>Gtl</td><td>NAmes</td><td>Norm</td><td>Norm</td><td>1Fam</td><td>1Story</td><td>5</td><td>5</td><td>1959</td><td>1959</td><td>Hip</td><td>CompShg</td><td>BrkFace</td><td>BrkFace</td><td>None</td><td>0</td><td>TA</td><td>TA</td><td>CBlock</td><td>TA</td><td>TA</td><td>No</td><td>Rec</td><td>1018</td><td>Unf</td><td>0</td><td>380</td><td>1398</td><td>GasA</td><td>Gd</td><td>Y</td><td>SBrkr</td><td>1700</td><td>0</td><td>0</td><td>1700</td><td>0</td><td>1</td><td>1</td><td>1</td><td>4</td><td>1</td><td>Gd</td><td>6</td><td>Typ</td><td>1</td><td>Gd</td><td>Attchd</td><td>1959</td><td>RFn</td><td>2</td><td>447</td><td>TA</td><td>TA</td><td>Y</td><td>0</td><td>38</td><td>0</td><td>0</td><td>0</td><td>0</td><td>NA</td><td>NA</td><td>NA</td><td>0</td><td>4</td><td>2010</td><td>WD</td><td>Normal</td><td>165500</td><td>[20.0,10552.0,5.0...</td></tr>\n",
              "</table>\n",
              "only showing top 20 rows\n"
            ]
          },
          "metadata": {},
          "execution_count": 60
        }
      ]
    },
    {
      "cell_type": "code",
      "source": [
        "train.select(\"numerical_features_lst\").take(2)"
      ],
      "metadata": {
        "colab": {
          "base_uri": "https://localhost:8080/"
        },
        "id": "FJk7Y2kBnSjK",
        "outputId": "e5019ad7-185c-4c04-b04d-4d079dc4b993"
      },
      "execution_count": 29,
      "outputs": [
        {
          "output_type": "execute_result",
          "data": {
            "text/plain": [
              "[Row(numerical_features_lst=DenseVector([60.0, 8450.0, 7.0, 2003.0, 2003.0, 706.0, 0.0, 150.0, 856.0, 856.0, 854.0, 0.0, 1710.0, 8.0, 548.0, 0.0, 61.0, 0.0, 0.0, 0.0, 0.0, 2.0])),\n",
              " Row(numerical_features_lst=DenseVector([70.0, 9550.0, 7.0, 1915.0, 1970.0, 216.0, 0.0, 540.0, 756.0, 961.0, 756.0, 0.0, 1717.0, 7.0, 642.0, 0.0, 35.0, 272.0, 0.0, 0.0, 0.0, 2.0]))]"
            ]
          },
          "metadata": {},
          "execution_count": 29
        }
      ]
    },
    {
      "cell_type": "code",
      "source": [
        "from pyspark.ml.feature import StandardScaler\n",
        "\n",
        "scaler = StandardScaler(inputCol='numerical_features_lst',\n",
        "                        outputCol='scaled_numerical_feature_vector',\n",
        "                        withStd=True, withMean=True)\n",
        "\n",
        "scaler = scaler.fit(train)\n",
        "\n",
        "train = scaler.transform(train)\n",
        "test = scaler.transform(test)\n",
        "\n",
        "train.show(3)"
      ],
      "metadata": {
        "colab": {
          "base_uri": "https://localhost:8080/"
        },
        "id": "35gIuJJ0nwfi",
        "outputId": "ddcc2193-fe81-4710-a6ed-81cfbd62a8cb"
      },
      "execution_count": 61,
      "outputs": [
        {
          "output_type": "stream",
          "name": "stdout",
          "text": [
            "+---+----------+--------+-----------+-------+------+-----+--------+-----------+---------+---------+---------+------------+----------+----------+--------+----------+-----------+-----------+---------+------------+---------+--------+-----------+-----------+----------+----------+---------+---------+----------+--------+--------+------------+------------+----------+------------+----------+---------+-----------+-------+---------+----------+----------+--------+--------+------------+---------+------------+------------+--------+--------+------------+------------+-----------+------------+----------+----------+-----------+----------+-----------+------------+----------+----------+----------+----------+----------+----------+-----------+-------------+---------+-----------+--------+------+-----+-----------+-------+------+------+--------+-------------+---------+----------------------+-------------------------------+\n",
            "| Id|MSSubClass|MSZoning|LotFrontage|LotArea|Street|Alley|LotShape|LandContour|Utilities|LotConfig|LandSlope|Neighborhood|Condition1|Condition2|BldgType|HouseStyle|OverallQual|OverallCond|YearBuilt|YearRemodAdd|RoofStyle|RoofMatl|Exterior1st|Exterior2nd|MasVnrType|MasVnrArea|ExterQual|ExterCond|Foundation|BsmtQual|BsmtCond|BsmtExposure|BsmtFinType1|BsmtFinSF1|BsmtFinType2|BsmtFinSF2|BsmtUnfSF|TotalBsmtSF|Heating|HeatingQC|CentralAir|Electrical|1stFlrSF|2ndFlrSF|LowQualFinSF|GrLivArea|BsmtFullBath|BsmtHalfBath|FullBath|HalfBath|BedroomAbvGr|KitchenAbvGr|KitchenQual|TotRmsAbvGrd|Functional|Fireplaces|FireplaceQu|GarageType|GarageYrBlt|GarageFinish|GarageCars|GarageArea|GarageQual|GarageCond|PavedDrive|WoodDeckSF|OpenPorchSF|EnclosedPorch|3SsnPorch|ScreenPorch|PoolArea|PoolQC|Fence|MiscFeature|MiscVal|MoSold|YrSold|SaleType|SaleCondition|SalePrice|numerical_features_lst|scaled_numerical_feature_vector|\n",
            "+---+----------+--------+-----------+-------+------+-----+--------+-----------+---------+---------+---------+------------+----------+----------+--------+----------+-----------+-----------+---------+------------+---------+--------+-----------+-----------+----------+----------+---------+---------+----------+--------+--------+------------+------------+----------+------------+----------+---------+-----------+-------+---------+----------+----------+--------+--------+------------+---------+------------+------------+--------+--------+------------+------------+-----------+------------+----------+----------+-----------+----------+-----------+------------+----------+----------+----------+----------+----------+----------+-----------+-------------+---------+-----------+--------+------+-----+-----------+-------+------+------+--------+-------------+---------+----------------------+-------------------------------+\n",
            "|  1|        60|      RL|         65|   8450|  Pave|   NA|     Reg|        Lvl|   AllPub|   Inside|      Gtl|     CollgCr|      Norm|      Norm|    1Fam|    2Story|          7|          5|     2003|        2003|    Gable| CompShg|    VinylSd|    VinylSd|   BrkFace|       196|       Gd|       TA|     PConc|      Gd|      TA|          No|         GLQ|       706|         Unf|         0|      150|        856|   GasA|       Ex|         Y|     SBrkr|     856|     854|           0|     1710|           1|           0|       2|       1|           3|           1|         Gd|           8|       Typ|         0|         NA|    Attchd|       2003|         RFn|         2|       548|        TA|        TA|         Y|         0|         61|            0|        0|          0|       0|    NA|   NA|         NA|      0|     2|  2008|      WD|       Normal|   208500|  [60.0,8450.0,7.0,...|           [0.03416405104776...|\n",
            "|  2|        20|      RL|         80|   9600|  Pave|   NA|     Reg|        Lvl|   AllPub|      FR2|      Gtl|     Veenker|     Feedr|      Norm|    1Fam|    1Story|          6|          8|     1976|        1976|    Gable| CompShg|    MetalSd|    MetalSd|      None|         0|       TA|       TA|    CBlock|      Gd|      TA|          Gd|         ALQ|       978|         Unf|         0|      284|       1262|   GasA|       Ex|         Y|     SBrkr|    1262|       0|           0|     1262|           0|           1|       2|       0|           3|           1|         TA|           6|       Typ|         1|         TA|    Attchd|       1976|         RFn|         2|       460|        TA|        TA|         Y|       298|          0|            0|        0|          0|       0|    NA|   NA|         NA|      0|     5|  2007|      WD|       Normal|   181500|  [20.0,9600.0,6.0,...|           [-0.8843448623676...|\n",
            "|  5|        60|      RL|         84|  14260|  Pave|   NA|     IR1|        Lvl|   AllPub|      FR2|      Gtl|     NoRidge|      Norm|      Norm|    1Fam|    2Story|          8|          5|     2000|        2000|    Gable| CompShg|    VinylSd|    VinylSd|   BrkFace|       350|       Gd|       TA|     PConc|      Gd|      TA|          Av|         GLQ|       655|         Unf|         0|      490|       1145|   GasA|       Ex|         Y|     SBrkr|    1145|    1053|           0|     2198|           1|           0|       2|       1|           4|           1|         Gd|           9|       Typ|         1|         TA|    Attchd|       2000|         RFn|         3|       836|        TA|        TA|         Y|       192|         84|            0|        0|          0|       0|    NA|   NA|         NA|      0|    12|  2008|      WD|       Normal|   250000|  [60.0,14260.0,8.0...|           [0.03416405104776...|\n",
            "+---+----------+--------+-----------+-------+------+-----+--------+-----------+---------+---------+---------+------------+----------+----------+--------+----------+-----------+-----------+---------+------------+---------+--------+-----------+-----------+----------+----------+---------+---------+----------+--------+--------+------------+------------+----------+------------+----------+---------+-----------+-------+---------+----------+----------+--------+--------+------------+---------+------------+------------+--------+--------+------------+------------+-----------+------------+----------+----------+-----------+----------+-----------+------------+----------+----------+----------+----------+----------+----------+-----------+-------------+---------+-----------+--------+------+-----+-----------+-------+------+------+--------+-------------+---------+----------------------+-------------------------------+\n",
            "only showing top 3 rows\n",
            "\n"
          ]
        }
      ]
    },
    {
      "cell_type": "code",
      "source": [
        "train.select('scaled_numerical_feature_vector').take(3)"
      ],
      "metadata": {
        "colab": {
          "base_uri": "https://localhost:8080/"
        },
        "id": "Zu25i58somRx",
        "outputId": "4c6245d0-c4ef-4617-fa08-4590665d2dd9"
      },
      "execution_count": 31,
      "outputs": [
        {
          "output_type": "execute_result",
          "data": {
            "text/plain": [
              "[Row(scaled_numerical_feature_vector=DenseVector([0.0861, -0.1784, 0.6086, 1.001, 0.8195, 0.6612, -0.2649, -0.9715, -0.4495, -0.7965, 1.164, -0.1289, 0.3832, 0.8849, 0.3394, -0.7592, 0.1794, -0.3818, -0.0988, -0.2533, -0.1332, -1.6062])),\n",
              " Row(scaled_numerical_feature_vector=DenseVector([0.3245, -0.0519, 0.6086, -1.7325, -0.724, -0.4514, -0.2649, -0.1178, -0.6801, -0.5191, 0.9397, -0.1289, 0.3966, 0.2827, 0.7749, -0.7592, -0.1916, 4.1112, -0.0988, -0.2533, -0.1332, -1.6062])),\n",
              " Row(scaled_numerical_feature_vector=DenseVector([0.0861, 0.4897, 1.3029, 0.9079, 0.6792, 0.5454, -0.2649, -0.2272, 0.2169, -0.033, 1.6193, -0.1289, 1.3169, 1.487, 1.6738, 0.8869, 0.5076, -0.3818, -0.0988, -0.2533, -0.1332, 2.0754]))]"
            ]
          },
          "metadata": {},
          "execution_count": 31
        }
      ]
    },
    {
      "cell_type": "code",
      "source": [
        "cat_cols = [col for col in cat_cols if train.select(col).distinct().count() != 1]"
      ],
      "metadata": {
        "id": "GybPAFtf3G4f"
      },
      "execution_count": 63,
      "outputs": []
    },
    {
      "cell_type": "code",
      "source": [
        "from pyspark.ml.feature import StringIndexer\n",
        "\n",
        "output_cols = [col + '_indexed' for col in cat_cols]\n",
        "\n",
        "indexer = StringIndexer(inputCols=cat_cols,\n",
        "                        outputCols=output_cols)\n",
        "\n",
        "indexer = indexer.fit(train)\n",
        "train = indexer.transform(train)\n",
        "test = indexer.transform(test)\n",
        "\n",
        "train.show(3)"
      ],
      "metadata": {
        "colab": {
          "base_uri": "https://localhost:8080/"
        },
        "id": "mzF1eeiTorYH",
        "outputId": "e94a7243-41ae-4bee-da5e-6193d9427e80"
      },
      "execution_count": 64,
      "outputs": [
        {
          "output_type": "stream",
          "name": "stdout",
          "text": [
            "+---+----------+--------+-----------+-------+------+-----+--------+-----------+---------+---------+---------+------------+----------+----------+--------+----------+-----------+-----------+---------+------------+---------+--------+-----------+-----------+----------+----------+---------+---------+----------+--------+--------+------------+------------+----------+------------+----------+---------+-----------+-------+---------+----------+----------+--------+--------+------------+---------+------------+------------+--------+--------+------------+------------+-----------+------------+----------+----------+-----------+----------+-----------+------------+----------+----------+----------+----------+----------+----------+-----------+-------------+---------+-----------+--------+------+-----+-----------+-------+------+------+--------+-------------+---------+----------------------+-------------------------------+----------------+--------------+-------------+----------------+-------------------+-----------------+-----------------+------------------+------------------+----------------+------------------+-----------------+----------------+-------------------+-------------------+------------------+-----------------+-----------------+------------------+----------------+----------------+--------------------+--------------------+--------------------+---------------+-----------------+------------------+------------------+-------------------+------------------+-------------------+------------------+--------------------+------------------+------------------+------------------+--------------+-------------+-------------------+----------------+---------------------+-------------------+--------------------+--------------------+----------------+----------------+--------------------+--------------------+------------------+------------------+----------------+\n",
            "| Id|MSSubClass|MSZoning|LotFrontage|LotArea|Street|Alley|LotShape|LandContour|Utilities|LotConfig|LandSlope|Neighborhood|Condition1|Condition2|BldgType|HouseStyle|OverallQual|OverallCond|YearBuilt|YearRemodAdd|RoofStyle|RoofMatl|Exterior1st|Exterior2nd|MasVnrType|MasVnrArea|ExterQual|ExterCond|Foundation|BsmtQual|BsmtCond|BsmtExposure|BsmtFinType1|BsmtFinSF1|BsmtFinType2|BsmtFinSF2|BsmtUnfSF|TotalBsmtSF|Heating|HeatingQC|CentralAir|Electrical|1stFlrSF|2ndFlrSF|LowQualFinSF|GrLivArea|BsmtFullBath|BsmtHalfBath|FullBath|HalfBath|BedroomAbvGr|KitchenAbvGr|KitchenQual|TotRmsAbvGrd|Functional|Fireplaces|FireplaceQu|GarageType|GarageYrBlt|GarageFinish|GarageCars|GarageArea|GarageQual|GarageCond|PavedDrive|WoodDeckSF|OpenPorchSF|EnclosedPorch|3SsnPorch|ScreenPorch|PoolArea|PoolQC|Fence|MiscFeature|MiscVal|MoSold|YrSold|SaleType|SaleCondition|SalePrice|numerical_features_lst|scaled_numerical_feature_vector|MSZoning_indexed|Street_indexed|Alley_indexed|LotShape_indexed|LandContour_indexed|LotConfig_indexed|LandSlope_indexed|Condition1_indexed|Condition2_indexed|BldgType_indexed|HouseStyle_indexed|RoofStyle_indexed|RoofMatl_indexed|Exterior1st_indexed|Exterior2nd_indexed|MasVnrType_indexed|ExterQual_indexed|ExterCond_indexed|Foundation_indexed|BsmtQual_indexed|BsmtCond_indexed|BsmtExposure_indexed|BsmtFinType1_indexed|BsmtFinType2_indexed|Heating_indexed|HeatingQC_indexed|CentralAir_indexed|Electrical_indexed|KitchenQual_indexed|Functional_indexed|FireplaceQu_indexed|GarageType_indexed|GarageFinish_indexed|GarageQual_indexed|GarageCond_indexed|PavedDrive_indexed|PoolQC_indexed|Fence_indexed|MiscFeature_indexed|SaleType_indexed|SaleCondition_indexed|OverallCond_indexed|BsmtFullBath_indexed|BsmtHalfBath_indexed|FullBath_indexed|HalfBath_indexed|BedroomAbvGr_indexed|KitchenAbvGr_indexed|Fireplaces_indexed|GarageCars_indexed|PoolArea_indexed|\n",
            "+---+----------+--------+-----------+-------+------+-----+--------+-----------+---------+---------+---------+------------+----------+----------+--------+----------+-----------+-----------+---------+------------+---------+--------+-----------+-----------+----------+----------+---------+---------+----------+--------+--------+------------+------------+----------+------------+----------+---------+-----------+-------+---------+----------+----------+--------+--------+------------+---------+------------+------------+--------+--------+------------+------------+-----------+------------+----------+----------+-----------+----------+-----------+------------+----------+----------+----------+----------+----------+----------+-----------+-------------+---------+-----------+--------+------+-----+-----------+-------+------+------+--------+-------------+---------+----------------------+-------------------------------+----------------+--------------+-------------+----------------+-------------------+-----------------+-----------------+------------------+------------------+----------------+------------------+-----------------+----------------+-------------------+-------------------+------------------+-----------------+-----------------+------------------+----------------+----------------+--------------------+--------------------+--------------------+---------------+-----------------+------------------+------------------+-------------------+------------------+-------------------+------------------+--------------------+------------------+------------------+------------------+--------------+-------------+-------------------+----------------+---------------------+-------------------+--------------------+--------------------+----------------+----------------+--------------------+--------------------+------------------+------------------+----------------+\n",
            "|  1|        60|      RL|         65|   8450|  Pave|   NA|     Reg|        Lvl|   AllPub|   Inside|      Gtl|     CollgCr|      Norm|      Norm|    1Fam|    2Story|          7|          5|     2003|        2003|    Gable| CompShg|    VinylSd|    VinylSd|   BrkFace|       196|       Gd|       TA|     PConc|      Gd|      TA|          No|         GLQ|       706|         Unf|         0|      150|        856|   GasA|       Ex|         Y|     SBrkr|     856|     854|           0|     1710|           1|           0|       2|       1|           3|           1|         Gd|           8|       Typ|         0|         NA|    Attchd|       2003|         RFn|         2|       548|        TA|        TA|         Y|         0|         61|            0|        0|          0|       0|    NA|   NA|         NA|      0|     2|  2008|      WD|       Normal|   208500|  [60.0,8450.0,7.0,...|           [0.03416405104776...|             0.0|           0.0|          0.0|             0.0|                0.0|              0.0|              0.0|               0.0|               0.0|             0.0|               1.0|              0.0|             0.0|                0.0|                0.0|               1.0|              1.0|              0.0|               0.0|             1.0|             0.0|                 0.0|                 1.0|                 0.0|            0.0|              0.0|               0.0|               0.0|                1.0|               0.0|                0.0|               0.0|                 1.0|               0.0|               0.0|               0.0|           0.0|          0.0|                0.0|             0.0|                  0.0|                0.0|                 1.0|                 0.0|             0.0|             1.0|                 0.0|                 0.0|               0.0|               0.0|             0.0|\n",
            "|  2|        20|      RL|         80|   9600|  Pave|   NA|     Reg|        Lvl|   AllPub|      FR2|      Gtl|     Veenker|     Feedr|      Norm|    1Fam|    1Story|          6|          8|     1976|        1976|    Gable| CompShg|    MetalSd|    MetalSd|      None|         0|       TA|       TA|    CBlock|      Gd|      TA|          Gd|         ALQ|       978|         Unf|         0|      284|       1262|   GasA|       Ex|         Y|     SBrkr|    1262|       0|           0|     1262|           0|           1|       2|       0|           3|           1|         TA|           6|       Typ|         1|         TA|    Attchd|       1976|         RFn|         2|       460|        TA|        TA|         Y|       298|          0|            0|        0|          0|       0|    NA|   NA|         NA|      0|     5|  2007|      WD|       Normal|   181500|  [20.0,9600.0,6.0,...|           [-0.8843448623676...|             0.0|           0.0|          0.0|             0.0|                0.0|              3.0|              0.0|               1.0|               0.0|             0.0|               0.0|              0.0|             0.0|                1.0|                1.0|               0.0|              0.0|              0.0|               1.0|             1.0|             0.0|                 3.0|                 2.0|                 0.0|            0.0|              0.0|               0.0|               0.0|                0.0|               0.0|                2.0|               0.0|                 1.0|               0.0|               0.0|               0.0|           0.0|          0.0|                0.0|             0.0|                  0.0|                3.0|                 0.0|                 1.0|             0.0|             0.0|                 0.0|                 0.0|               1.0|               0.0|             0.0|\n",
            "|  5|        60|      RL|         84|  14260|  Pave|   NA|     IR1|        Lvl|   AllPub|      FR2|      Gtl|     NoRidge|      Norm|      Norm|    1Fam|    2Story|          8|          5|     2000|        2000|    Gable| CompShg|    VinylSd|    VinylSd|   BrkFace|       350|       Gd|       TA|     PConc|      Gd|      TA|          Av|         GLQ|       655|         Unf|         0|      490|       1145|   GasA|       Ex|         Y|     SBrkr|    1145|    1053|           0|     2198|           1|           0|       2|       1|           4|           1|         Gd|           9|       Typ|         1|         TA|    Attchd|       2000|         RFn|         3|       836|        TA|        TA|         Y|       192|         84|            0|        0|          0|       0|    NA|   NA|         NA|      0|    12|  2008|      WD|       Normal|   250000|  [60.0,14260.0,8.0...|           [0.03416405104776...|             0.0|           0.0|          0.0|             1.0|                0.0|              3.0|              0.0|               0.0|               0.0|             0.0|               1.0|              0.0|             0.0|                0.0|                0.0|               1.0|              1.0|              0.0|               0.0|             1.0|             0.0|                 1.0|                 1.0|                 0.0|            0.0|              0.0|               0.0|               0.0|                1.0|               0.0|                2.0|               0.0|                 1.0|               0.0|               0.0|               0.0|           0.0|          0.0|                0.0|             0.0|                  0.0|                0.0|                 1.0|                 0.0|             0.0|             1.0|                 2.0|                 0.0|               1.0|               2.0|             0.0|\n",
            "+---+----------+--------+-----------+-------+------+-----+--------+-----------+---------+---------+---------+------------+----------+----------+--------+----------+-----------+-----------+---------+------------+---------+--------+-----------+-----------+----------+----------+---------+---------+----------+--------+--------+------------+------------+----------+------------+----------+---------+-----------+-------+---------+----------+----------+--------+--------+------------+---------+------------+------------+--------+--------+------------+------------+-----------+------------+----------+----------+-----------+----------+-----------+------------+----------+----------+----------+----------+----------+----------+-----------+-------------+---------+-----------+--------+------+-----+-----------+-------+------+------+--------+-------------+---------+----------------------+-------------------------------+----------------+--------------+-------------+----------------+-------------------+-----------------+-----------------+------------------+------------------+----------------+------------------+-----------------+----------------+-------------------+-------------------+------------------+-----------------+-----------------+------------------+----------------+----------------+--------------------+--------------------+--------------------+---------------+-----------------+------------------+------------------+-------------------+------------------+-------------------+------------------+--------------------+------------------+------------------+------------------+--------------+-------------+-------------------+----------------+---------------------+-------------------+--------------------+--------------------+----------------+----------------+--------------------+--------------------+------------------+------------------+----------------+\n",
            "only showing top 3 rows\n",
            "\n"
          ]
        }
      ]
    },
    {
      "cell_type": "code",
      "source": [
        "set(train.select(\"SaleCondition_indexed\").collect())"
      ],
      "metadata": {
        "colab": {
          "base_uri": "https://localhost:8080/"
        },
        "id": "WP6AmonbzY4U",
        "outputId": "8657a9bf-ec18-4f09-c68c-55d3798ef081"
      },
      "execution_count": 46,
      "outputs": [
        {
          "output_type": "execute_result",
          "data": {
            "text/plain": [
              "{Row(SaleCondition_indexed=0.0),\n",
              " Row(SaleCondition_indexed=1.0),\n",
              " Row(SaleCondition_indexed=2.0),\n",
              " Row(SaleCondition_indexed=3.0),\n",
              " Row(SaleCondition_indexed=4.0),\n",
              " Row(SaleCondition_indexed=5.0)}"
            ]
          },
          "metadata": {},
          "execution_count": 46
        }
      ]
    },
    {
      "cell_type": "code",
      "source": [
        "set(train.select(\"Utilities_indexed\").collect())"
      ],
      "metadata": {
        "id": "pZ1bWZUj0xyL"
      },
      "execution_count": null,
      "outputs": []
    },
    {
      "cell_type": "code",
      "source": [
        "train.select(\"Utilities_indexed\").distinct().count() == 1"
      ],
      "metadata": {
        "colab": {
          "base_uri": "https://localhost:8080/"
        },
        "id": "SHxbAuT32KbE",
        "outputId": "67ce836c-294b-4b28-cc66-5beb30a5dd0d"
      },
      "execution_count": 56,
      "outputs": [
        {
          "output_type": "execute_result",
          "data": {
            "text/plain": [
              "True"
            ]
          },
          "metadata": {},
          "execution_count": 56
        }
      ]
    },
    {
      "cell_type": "code",
      "source": [
        "from pyspark.ml.feature import OneHotEncoder\n",
        "\n",
        "output_cols_ohe = [col + '_ohe' for col in output_cols]\n",
        "\n",
        "train = train.drop(*cat_cols)\n",
        "test = train.drop(*cat_cols)\n",
        "\n",
        "one_hot_encoder = OneHotEncoder(inputCols=output_cols,\n",
        "                                outputCols=output_cols_ohe)\n",
        "\n",
        "\n",
        "one_hot_encoder = one_hot_encoder.fit(train)\n",
        "\n",
        "train = one_hot_encoder.transform(train)\n",
        "test = one_hot_encoder.transform(test)\n",
        "\n",
        "train = train.drop(*output_cols)\n",
        "test = train.drop(*output_cols)\n",
        "\n",
        "train.show(3)"
      ],
      "metadata": {
        "colab": {
          "base_uri": "https://localhost:8080/"
        },
        "id": "BV-oGAI5zoNm",
        "outputId": "55ee7a58-665f-45ed-c7b1-6e66f1d17bf4"
      },
      "execution_count": 66,
      "outputs": [
        {
          "output_type": "stream",
          "name": "stdout",
          "text": [
            "+---+----------+-----------+-------+---------+------------+-----------+---------+------------+----------+----------+----------+---------+-----------+--------+--------+------------+---------+------------+-----------+----------+----------+-----------+-------------+---------+-----------+-------+------+------+---------+----------------------+-------------------------------+--------------------+------------------+-----------------+--------------------+-----------------------+---------------------+---------------------+----------------------+----------------------+--------------------+----------------------+---------------------+--------------------+-----------------------+-----------------------+----------------------+---------------------+---------------------+----------------------+--------------------+--------------------+------------------------+------------------------+------------------------+-------------------+---------------------+----------------------+----------------------+-----------------------+----------------------+-----------------------+----------------------+------------------------+----------------------+----------------------+----------------------+------------------+-----------------+-----------------------+--------------------+-------------------------+-----------------------+------------------------+------------------------+--------------------+--------------------+------------------------+------------------------+----------------------+----------------------+--------------------+\n",
            "| Id|MSSubClass|LotFrontage|LotArea|Utilities|Neighborhood|OverallQual|YearBuilt|YearRemodAdd|MasVnrArea|BsmtFinSF1|BsmtFinSF2|BsmtUnfSF|TotalBsmtSF|1stFlrSF|2ndFlrSF|LowQualFinSF|GrLivArea|TotRmsAbvGrd|GarageYrBlt|GarageArea|WoodDeckSF|OpenPorchSF|EnclosedPorch|3SsnPorch|ScreenPorch|MiscVal|MoSold|YrSold|SalePrice|numerical_features_lst|scaled_numerical_feature_vector|MSZoning_indexed_ohe|Street_indexed_ohe|Alley_indexed_ohe|LotShape_indexed_ohe|LandContour_indexed_ohe|LotConfig_indexed_ohe|LandSlope_indexed_ohe|Condition1_indexed_ohe|Condition2_indexed_ohe|BldgType_indexed_ohe|HouseStyle_indexed_ohe|RoofStyle_indexed_ohe|RoofMatl_indexed_ohe|Exterior1st_indexed_ohe|Exterior2nd_indexed_ohe|MasVnrType_indexed_ohe|ExterQual_indexed_ohe|ExterCond_indexed_ohe|Foundation_indexed_ohe|BsmtQual_indexed_ohe|BsmtCond_indexed_ohe|BsmtExposure_indexed_ohe|BsmtFinType1_indexed_ohe|BsmtFinType2_indexed_ohe|Heating_indexed_ohe|HeatingQC_indexed_ohe|CentralAir_indexed_ohe|Electrical_indexed_ohe|KitchenQual_indexed_ohe|Functional_indexed_ohe|FireplaceQu_indexed_ohe|GarageType_indexed_ohe|GarageFinish_indexed_ohe|GarageQual_indexed_ohe|GarageCond_indexed_ohe|PavedDrive_indexed_ohe|PoolQC_indexed_ohe|Fence_indexed_ohe|MiscFeature_indexed_ohe|SaleType_indexed_ohe|SaleCondition_indexed_ohe|OverallCond_indexed_ohe|BsmtFullBath_indexed_ohe|BsmtHalfBath_indexed_ohe|FullBath_indexed_ohe|HalfBath_indexed_ohe|BedroomAbvGr_indexed_ohe|KitchenAbvGr_indexed_ohe|Fireplaces_indexed_ohe|GarageCars_indexed_ohe|PoolArea_indexed_ohe|\n",
            "+---+----------+-----------+-------+---------+------------+-----------+---------+------------+----------+----------+----------+---------+-----------+--------+--------+------------+---------+------------+-----------+----------+----------+-----------+-------------+---------+-----------+-------+------+------+---------+----------------------+-------------------------------+--------------------+------------------+-----------------+--------------------+-----------------------+---------------------+---------------------+----------------------+----------------------+--------------------+----------------------+---------------------+--------------------+-----------------------+-----------------------+----------------------+---------------------+---------------------+----------------------+--------------------+--------------------+------------------------+------------------------+------------------------+-------------------+---------------------+----------------------+----------------------+-----------------------+----------------------+-----------------------+----------------------+------------------------+----------------------+----------------------+----------------------+------------------+-----------------+-----------------------+--------------------+-------------------------+-----------------------+------------------------+------------------------+--------------------+--------------------+------------------------+------------------------+----------------------+----------------------+--------------------+\n",
            "|  1|        60|         65|   8450|   AllPub|     CollgCr|          7|     2003|        2003|       196|       706|         0|      150|        856|     856|     854|           0|     1710|           8|       2003|       548|         0|         61|            0|        0|          0|      0|     2|  2008|   208500|  [60.0,8450.0,7.0,...|           [0.03416405104776...|       (4,[0],[1.0])|     (1,[0],[1.0])|    (2,[0],[1.0])|       (3,[0],[1.0])|          (3,[0],[1.0])|        (4,[0],[1.0])|        (2,[0],[1.0])|         (8,[0],[1.0])|         (5,[0],[1.0])|       (4,[0],[1.0])|         (7,[1],[1.0])|        (4,[0],[1.0])|       (4,[0],[1.0])|         (13,[0],[1.0])|         (14,[0],[1.0])|         (4,[1],[1.0])|        (3,[1],[1.0])|        (4,[0],[1.0])|         (5,[0],[1.0])|       (4,[1],[1.0])|       (4,[0],[1.0])|           (4,[0],[1.0])|           (6,[1],[1.0])|           (6,[0],[1.0])|      (4,[0],[1.0])|        (3,[0],[1.0])|         (1,[0],[1.0])|         (5,[0],[1.0])|          (3,[1],[1.0])|         (5,[0],[1.0])|          (5,[0],[1.0])|         (6,[0],[1.0])|           (3,[1],[1.0])|         (5,[0],[1.0])|         (5,[0],[1.0])|         (2,[0],[1.0])|     (3,[0],[1.0])|    (4,[0],[1.0])|          (3,[0],[1.0])|       (8,[0],[1.0])|            (5,[0],[1.0])|          (7,[0],[1.0])|           (2,[1],[1.0])|           (2,[0],[1.0])|       (3,[0],[1.0])|       (2,[1],[1.0])|           (7,[0],[1.0])|           (3,[0],[1.0])|         (3,[0],[1.0])|         (4,[0],[1.0])|       (4,[0],[1.0])|\n",
            "|  2|        20|         80|   9600|   AllPub|     Veenker|          6|     1976|        1976|         0|       978|         0|      284|       1262|    1262|       0|           0|     1262|           6|       1976|       460|       298|          0|            0|        0|          0|      0|     5|  2007|   181500|  [20.0,9600.0,6.0,...|           [-0.8843448623676...|       (4,[0],[1.0])|     (1,[0],[1.0])|    (2,[0],[1.0])|       (3,[0],[1.0])|          (3,[0],[1.0])|        (4,[3],[1.0])|        (2,[0],[1.0])|         (8,[1],[1.0])|         (5,[0],[1.0])|       (4,[0],[1.0])|         (7,[0],[1.0])|        (4,[0],[1.0])|       (4,[0],[1.0])|         (13,[1],[1.0])|         (14,[1],[1.0])|         (4,[0],[1.0])|        (3,[0],[1.0])|        (4,[0],[1.0])|         (5,[1],[1.0])|       (4,[1],[1.0])|       (4,[0],[1.0])|           (4,[3],[1.0])|           (6,[2],[1.0])|           (6,[0],[1.0])|      (4,[0],[1.0])|        (3,[0],[1.0])|         (1,[0],[1.0])|         (5,[0],[1.0])|          (3,[0],[1.0])|         (5,[0],[1.0])|          (5,[2],[1.0])|         (6,[0],[1.0])|           (3,[1],[1.0])|         (5,[0],[1.0])|         (5,[0],[1.0])|         (2,[0],[1.0])|     (3,[0],[1.0])|    (4,[0],[1.0])|          (3,[0],[1.0])|       (8,[0],[1.0])|            (5,[0],[1.0])|          (7,[3],[1.0])|           (2,[0],[1.0])|           (2,[1],[1.0])|       (3,[0],[1.0])|       (2,[0],[1.0])|           (7,[0],[1.0])|           (3,[0],[1.0])|         (3,[1],[1.0])|         (4,[0],[1.0])|       (4,[0],[1.0])|\n",
            "|  5|        60|         84|  14260|   AllPub|     NoRidge|          8|     2000|        2000|       350|       655|         0|      490|       1145|    1145|    1053|           0|     2198|           9|       2000|       836|       192|         84|            0|        0|          0|      0|    12|  2008|   250000|  [60.0,14260.0,8.0...|           [0.03416405104776...|       (4,[0],[1.0])|     (1,[0],[1.0])|    (2,[0],[1.0])|       (3,[1],[1.0])|          (3,[0],[1.0])|        (4,[3],[1.0])|        (2,[0],[1.0])|         (8,[0],[1.0])|         (5,[0],[1.0])|       (4,[0],[1.0])|         (7,[1],[1.0])|        (4,[0],[1.0])|       (4,[0],[1.0])|         (13,[0],[1.0])|         (14,[0],[1.0])|         (4,[1],[1.0])|        (3,[1],[1.0])|        (4,[0],[1.0])|         (5,[0],[1.0])|       (4,[1],[1.0])|       (4,[0],[1.0])|           (4,[1],[1.0])|           (6,[1],[1.0])|           (6,[0],[1.0])|      (4,[0],[1.0])|        (3,[0],[1.0])|         (1,[0],[1.0])|         (5,[0],[1.0])|          (3,[1],[1.0])|         (5,[0],[1.0])|          (5,[2],[1.0])|         (6,[0],[1.0])|           (3,[1],[1.0])|         (5,[0],[1.0])|         (5,[0],[1.0])|         (2,[0],[1.0])|     (3,[0],[1.0])|    (4,[0],[1.0])|          (3,[0],[1.0])|       (8,[0],[1.0])|            (5,[0],[1.0])|          (7,[0],[1.0])|           (2,[1],[1.0])|           (2,[0],[1.0])|       (3,[0],[1.0])|       (2,[1],[1.0])|           (7,[2],[1.0])|           (3,[0],[1.0])|         (3,[1],[1.0])|         (4,[2],[1.0])|       (4,[0],[1.0])|\n",
            "+---+----------+-----------+-------+---------+------------+-----------+---------+------------+----------+----------+----------+---------+-----------+--------+--------+------------+---------+------------+-----------+----------+----------+-----------+-------------+---------+-----------+-------+------+------+---------+----------------------+-------------------------------+--------------------+------------------+-----------------+--------------------+-----------------------+---------------------+---------------------+----------------------+----------------------+--------------------+----------------------+---------------------+--------------------+-----------------------+-----------------------+----------------------+---------------------+---------------------+----------------------+--------------------+--------------------+------------------------+------------------------+------------------------+-------------------+---------------------+----------------------+----------------------+-----------------------+----------------------+-----------------------+----------------------+------------------------+----------------------+----------------------+----------------------+------------------+-----------------+-----------------------+--------------------+-------------------------+-----------------------+------------------------+------------------------+--------------------+--------------------+------------------------+------------------------+----------------------+----------------------+--------------------+\n",
            "only showing top 3 rows\n",
            "\n"
          ]
        }
      ]
    },
    {
      "cell_type": "code",
      "source": [
        "input_cols_pp = [col for col in output_cols_ohe]\n",
        "input_cols_pp.append(\"scaled_numerical_feature_vector\")"
      ],
      "metadata": {
        "id": "5uLFHXIX4n_X"
      },
      "execution_count": 77,
      "outputs": []
    },
    {
      "cell_type": "code",
      "source": [
        "assembler = VectorAssembler(inputCols= input_cols_pp,\n",
        "                            outputCol='final_feature_vector')\n",
        "\n",
        "train = assembler.transform(train)\n",
        "test = assembler.transform(test)"
      ],
      "metadata": {
        "id": "P8jtUCpD4Ebl"
      },
      "execution_count": 81,
      "outputs": []
    },
    {
      "cell_type": "code",
      "source": [
        "train.select('final_feature_vector').take(2)"
      ],
      "metadata": {
        "colab": {
          "base_uri": "https://localhost:8080/"
        },
        "id": "-Ddg5Igp5XaI",
        "outputId": "72d8f1c0-8f47-43ae-aaa9-98ff67d0d4ce"
      },
      "execution_count": 83,
      "outputs": [
        {
          "output_type": "execute_result",
          "data": {
            "text/plain": [
              "[Row(final_feature_vector=SparseVector(247, {0: 1.0, 4: 1.0, 5: 1.0, 7: 1.0, 10: 1.0, 13: 1.0, 17: 1.0, 19: 1.0, 27: 1.0, 32: 1.0, 37: 1.0, 43: 1.0, 47: 1.0, 51: 1.0, 64: 1.0, 79: 1.0, 83: 1.0, 85: 1.0, 89: 1.0, 95: 1.0, 98: 1.0, 102: 1.0, 107: 1.0, 112: 1.0, 118: 1.0, 122: 1.0, 125: 1.0, 126: 1.0, 132: 1.0, 134: 1.0, 139: 1.0, 144: 1.0, 151: 1.0, 153: 1.0, 158: 1.0, 163: 1.0, 165: 1.0, 168: 1.0, 172: 1.0, 175: 1.0, 183: 1.0, 188: 1.0, 196: 1.0, 197: 1.0, 199: 1.0, 203: 1.0, 204: 1.0, 211: 1.0, 214: 1.0, 217: 1.0, 221: 1.0, 225: 0.0342, 226: -0.1763, 227: 0.6265, 228: 1.019, 229: 0.8585, 230: 0.6557, 231: -0.2656, 232: -0.9853, 233: -0.4707, 234: -0.7804, 235: 1.1166, 236: -0.1401, 237: 0.3652, 238: 0.9156, 239: 0.3453, 240: -0.7441, 241: 0.2192, 242: -0.3756, 243: -0.0853, 244: -0.2573, 245: -0.14, 246: -1.6174})),\n",
              " Row(final_feature_vector=SparseVector(247, {0: 1.0, 4: 1.0, 5: 1.0, 7: 1.0, 10: 1.0, 16: 1.0, 17: 1.0, 20: 1.0, 27: 1.0, 32: 1.0, 36: 1.0, 43: 1.0, 47: 1.0, 52: 1.0, 65: 1.0, 78: 1.0, 82: 1.0, 85: 1.0, 90: 1.0, 95: 1.0, 98: 1.0, 105: 1.0, 108: 1.0, 112: 1.0, 118: 1.0, 122: 1.0, 125: 1.0, 126: 1.0, 131: 1.0, 134: 1.0, 141: 1.0, 144: 1.0, 151: 1.0, 153: 1.0, 158: 1.0, 163: 1.0, 165: 1.0, 168: 1.0, 172: 1.0, 175: 1.0, 183: 1.0, 191: 1.0, 195: 1.0, 198: 1.0, 199: 1.0, 202: 1.0, 204: 1.0, 211: 1.0, 215: 1.0, 217: 1.0, 221: 1.0, 225: -0.8843, 226: -0.0464, 227: -0.091, 228: 0.1729, 229: -0.4033, 230: 1.2747, 231: -0.2656, 232: -0.6884, 233: 0.5006, 234: 0.303, 235: -0.7975, 236: -0.1401, 237: -0.4623, 238: -0.3112, 239: -0.0552, 240: 1.7466, 241: -0.6847, 242: -0.3756, 243: -0.0853, 244: -0.2573, 245: -0.14, 246: -0.5038}))]"
            ]
          },
          "metadata": {},
          "execution_count": 83
        }
      ]
    },
    {
      "cell_type": "code",
      "source": [
        "from pyspark.ml.regression import LinearRegression\n",
        "\n",
        "lr = LinearRegression(featuresCol='final_feature_vector',\n",
        "                      labelCol='SalePrice')\n",
        "\n",
        "lr"
      ],
      "metadata": {
        "colab": {
          "base_uri": "https://localhost:8080/"
        },
        "id": "R8mPPjw45ZpP",
        "outputId": "e790761b-bf6e-43ab-983b-16640caca8f1"
      },
      "execution_count": 85,
      "outputs": [
        {
          "output_type": "execute_result",
          "data": {
            "text/plain": [
              "LinearRegression_b9d3fe17b8fd"
            ]
          },
          "metadata": {},
          "execution_count": 85
        }
      ]
    },
    {
      "cell_type": "code",
      "source": [
        "lr = lr.fit(train)\n",
        "\n",
        "lr"
      ],
      "metadata": {
        "colab": {
          "base_uri": "https://localhost:8080/"
        },
        "id": "T7MEk7Hx5hIT",
        "outputId": "2e944a9e-9d70-410c-cb3c-0d0517e3537c"
      },
      "execution_count": 86,
      "outputs": [
        {
          "output_type": "execute_result",
          "data": {
            "text/plain": [
              "LinearRegressionModel: uid=LinearRegression_b9d3fe17b8fd, numFeatures=247"
            ]
          },
          "metadata": {},
          "execution_count": 86
        }
      ]
    },
    {
      "cell_type": "code",
      "source": [
        "pred_train_df = lr.transform(train).withColumnRenamed('prediction',\n",
        "                                                      'predicted_sale_price')\n",
        "\n",
        "pred_train_df.show(5)"
      ],
      "metadata": {
        "colab": {
          "base_uri": "https://localhost:8080/"
        },
        "id": "l1Q3uep65jaf",
        "outputId": "fbfc6544-3f33-4a2b-88d8-dcdaee3e397e"
      },
      "execution_count": 87,
      "outputs": [
        {
          "output_type": "stream",
          "name": "stdout",
          "text": [
            "+---+----------+-----------+-------+---------+------------+-----------+---------+------------+----------+----------+----------+---------+-----------+--------+--------+------------+---------+------------+-----------+----------+----------+-----------+-------------+---------+-----------+-------+------+------+---------+----------------------+-------------------------------+--------------------+------------------+-----------------+--------------------+-----------------------+---------------------+---------------------+----------------------+----------------------+--------------------+----------------------+---------------------+--------------------+-----------------------+-----------------------+----------------------+---------------------+---------------------+----------------------+--------------------+--------------------+------------------------+------------------------+------------------------+-------------------+---------------------+----------------------+----------------------+-----------------------+----------------------+-----------------------+----------------------+------------------------+----------------------+----------------------+----------------------+------------------+-----------------+-----------------------+--------------------+-------------------------+-----------------------+------------------------+------------------------+--------------------+--------------------+------------------------+------------------------+----------------------+----------------------+--------------------+--------------------+--------------------+\n",
            "| Id|MSSubClass|LotFrontage|LotArea|Utilities|Neighborhood|OverallQual|YearBuilt|YearRemodAdd|MasVnrArea|BsmtFinSF1|BsmtFinSF2|BsmtUnfSF|TotalBsmtSF|1stFlrSF|2ndFlrSF|LowQualFinSF|GrLivArea|TotRmsAbvGrd|GarageYrBlt|GarageArea|WoodDeckSF|OpenPorchSF|EnclosedPorch|3SsnPorch|ScreenPorch|MiscVal|MoSold|YrSold|SalePrice|numerical_features_lst|scaled_numerical_feature_vector|MSZoning_indexed_ohe|Street_indexed_ohe|Alley_indexed_ohe|LotShape_indexed_ohe|LandContour_indexed_ohe|LotConfig_indexed_ohe|LandSlope_indexed_ohe|Condition1_indexed_ohe|Condition2_indexed_ohe|BldgType_indexed_ohe|HouseStyle_indexed_ohe|RoofStyle_indexed_ohe|RoofMatl_indexed_ohe|Exterior1st_indexed_ohe|Exterior2nd_indexed_ohe|MasVnrType_indexed_ohe|ExterQual_indexed_ohe|ExterCond_indexed_ohe|Foundation_indexed_ohe|BsmtQual_indexed_ohe|BsmtCond_indexed_ohe|BsmtExposure_indexed_ohe|BsmtFinType1_indexed_ohe|BsmtFinType2_indexed_ohe|Heating_indexed_ohe|HeatingQC_indexed_ohe|CentralAir_indexed_ohe|Electrical_indexed_ohe|KitchenQual_indexed_ohe|Functional_indexed_ohe|FireplaceQu_indexed_ohe|GarageType_indexed_ohe|GarageFinish_indexed_ohe|GarageQual_indexed_ohe|GarageCond_indexed_ohe|PavedDrive_indexed_ohe|PoolQC_indexed_ohe|Fence_indexed_ohe|MiscFeature_indexed_ohe|SaleType_indexed_ohe|SaleCondition_indexed_ohe|OverallCond_indexed_ohe|BsmtFullBath_indexed_ohe|BsmtHalfBath_indexed_ohe|FullBath_indexed_ohe|HalfBath_indexed_ohe|BedroomAbvGr_indexed_ohe|KitchenAbvGr_indexed_ohe|Fireplaces_indexed_ohe|GarageCars_indexed_ohe|PoolArea_indexed_ohe|final_feature_vector|predicted_sale_price|\n",
            "+---+----------+-----------+-------+---------+------------+-----------+---------+------------+----------+----------+----------+---------+-----------+--------+--------+------------+---------+------------+-----------+----------+----------+-----------+-------------+---------+-----------+-------+------+------+---------+----------------------+-------------------------------+--------------------+------------------+-----------------+--------------------+-----------------------+---------------------+---------------------+----------------------+----------------------+--------------------+----------------------+---------------------+--------------------+-----------------------+-----------------------+----------------------+---------------------+---------------------+----------------------+--------------------+--------------------+------------------------+------------------------+------------------------+-------------------+---------------------+----------------------+----------------------+-----------------------+----------------------+-----------------------+----------------------+------------------------+----------------------+----------------------+----------------------+------------------+-----------------+-----------------------+--------------------+-------------------------+-----------------------+------------------------+------------------------+--------------------+--------------------+------------------------+------------------------+----------------------+----------------------+--------------------+--------------------+--------------------+\n",
            "|  1|        60|         65|   8450|   AllPub|     CollgCr|          7|     2003|        2003|       196|       706|         0|      150|        856|     856|     854|           0|     1710|           8|       2003|       548|         0|         61|            0|        0|          0|      0|     2|  2008|   208500|  [60.0,8450.0,7.0,...|           [0.03416405104776...|       (4,[0],[1.0])|     (1,[0],[1.0])|    (2,[0],[1.0])|       (3,[0],[1.0])|          (3,[0],[1.0])|        (4,[0],[1.0])|        (2,[0],[1.0])|         (8,[0],[1.0])|         (5,[0],[1.0])|       (4,[0],[1.0])|         (7,[1],[1.0])|        (4,[0],[1.0])|       (4,[0],[1.0])|         (13,[0],[1.0])|         (14,[0],[1.0])|         (4,[1],[1.0])|        (3,[1],[1.0])|        (4,[0],[1.0])|         (5,[0],[1.0])|       (4,[1],[1.0])|       (4,[0],[1.0])|           (4,[0],[1.0])|           (6,[1],[1.0])|           (6,[0],[1.0])|      (4,[0],[1.0])|        (3,[0],[1.0])|         (1,[0],[1.0])|         (5,[0],[1.0])|          (3,[1],[1.0])|         (5,[0],[1.0])|          (5,[0],[1.0])|         (6,[0],[1.0])|           (3,[1],[1.0])|         (5,[0],[1.0])|         (5,[0],[1.0])|         (2,[0],[1.0])|     (3,[0],[1.0])|    (4,[0],[1.0])|          (3,[0],[1.0])|       (8,[0],[1.0])|            (5,[0],[1.0])|          (7,[0],[1.0])|           (2,[1],[1.0])|           (2,[0],[1.0])|       (3,[0],[1.0])|       (2,[1],[1.0])|           (7,[0],[1.0])|           (3,[0],[1.0])|         (3,[0],[1.0])|         (4,[0],[1.0])|       (4,[0],[1.0])|(247,[0,4,5,7,10,...|  208456.98608612228|\n",
            "|  2|        20|         80|   9600|   AllPub|     Veenker|          6|     1976|        1976|         0|       978|         0|      284|       1262|    1262|       0|           0|     1262|           6|       1976|       460|       298|          0|            0|        0|          0|      0|     5|  2007|   181500|  [20.0,9600.0,6.0,...|           [-0.8843448623676...|       (4,[0],[1.0])|     (1,[0],[1.0])|    (2,[0],[1.0])|       (3,[0],[1.0])|          (3,[0],[1.0])|        (4,[3],[1.0])|        (2,[0],[1.0])|         (8,[1],[1.0])|         (5,[0],[1.0])|       (4,[0],[1.0])|         (7,[0],[1.0])|        (4,[0],[1.0])|       (4,[0],[1.0])|         (13,[1],[1.0])|         (14,[1],[1.0])|         (4,[0],[1.0])|        (3,[0],[1.0])|        (4,[0],[1.0])|         (5,[1],[1.0])|       (4,[1],[1.0])|       (4,[0],[1.0])|           (4,[3],[1.0])|           (6,[2],[1.0])|           (6,[0],[1.0])|      (4,[0],[1.0])|        (3,[0],[1.0])|         (1,[0],[1.0])|         (5,[0],[1.0])|          (3,[0],[1.0])|         (5,[0],[1.0])|          (5,[2],[1.0])|         (6,[0],[1.0])|           (3,[1],[1.0])|         (5,[0],[1.0])|         (5,[0],[1.0])|         (2,[0],[1.0])|     (3,[0],[1.0])|    (4,[0],[1.0])|          (3,[0],[1.0])|       (8,[0],[1.0])|            (5,[0],[1.0])|          (7,[3],[1.0])|           (2,[0],[1.0])|           (2,[1],[1.0])|       (3,[0],[1.0])|       (2,[0],[1.0])|           (7,[0],[1.0])|           (3,[0],[1.0])|         (3,[1],[1.0])|         (4,[0],[1.0])|       (4,[0],[1.0])|(247,[0,4,5,7,10,...|      187626.9871505|\n",
            "|  5|        60|         84|  14260|   AllPub|     NoRidge|          8|     2000|        2000|       350|       655|         0|      490|       1145|    1145|    1053|           0|     2198|           9|       2000|       836|       192|         84|            0|        0|          0|      0|    12|  2008|   250000|  [60.0,14260.0,8.0...|           [0.03416405104776...|       (4,[0],[1.0])|     (1,[0],[1.0])|    (2,[0],[1.0])|       (3,[1],[1.0])|          (3,[0],[1.0])|        (4,[3],[1.0])|        (2,[0],[1.0])|         (8,[0],[1.0])|         (5,[0],[1.0])|       (4,[0],[1.0])|         (7,[1],[1.0])|        (4,[0],[1.0])|       (4,[0],[1.0])|         (13,[0],[1.0])|         (14,[0],[1.0])|         (4,[1],[1.0])|        (3,[1],[1.0])|        (4,[0],[1.0])|         (5,[0],[1.0])|       (4,[1],[1.0])|       (4,[0],[1.0])|           (4,[1],[1.0])|           (6,[1],[1.0])|           (6,[0],[1.0])|      (4,[0],[1.0])|        (3,[0],[1.0])|         (1,[0],[1.0])|         (5,[0],[1.0])|          (3,[1],[1.0])|         (5,[0],[1.0])|          (5,[2],[1.0])|         (6,[0],[1.0])|           (3,[1],[1.0])|         (5,[0],[1.0])|         (5,[0],[1.0])|         (2,[0],[1.0])|     (3,[0],[1.0])|    (4,[0],[1.0])|          (3,[0],[1.0])|       (8,[0],[1.0])|            (5,[0],[1.0])|          (7,[0],[1.0])|           (2,[1],[1.0])|           (2,[0],[1.0])|       (3,[0],[1.0])|       (2,[1],[1.0])|           (7,[2],[1.0])|           (3,[0],[1.0])|         (3,[1],[1.0])|         (4,[2],[1.0])|       (4,[0],[1.0])|(247,[0,4,5,8,10,...|  283454.18072779145|\n",
            "|  6|        50|         85|  14115|   AllPub|     Mitchel|          5|     1993|        1995|         0|       732|         0|       64|        796|     796|     566|           0|     1362|           5|       1993|       480|        40|         30|            0|      320|          0|    700|    10|  2009|   143000|  [50.0,14115.0,5.0...|           [-0.1954631773060...|       (4,[0],[1.0])|     (1,[0],[1.0])|    (2,[0],[1.0])|       (3,[1],[1.0])|          (3,[0],[1.0])|        (4,[0],[1.0])|        (2,[0],[1.0])|         (8,[0],[1.0])|         (5,[0],[1.0])|       (4,[0],[1.0])|         (7,[2],[1.0])|        (4,[0],[1.0])|       (4,[0],[1.0])|         (13,[0],[1.0])|         (14,[0],[1.0])|         (4,[0],[1.0])|        (3,[0],[1.0])|        (4,[0],[1.0])|             (5,[],[])|       (4,[1],[1.0])|       (4,[0],[1.0])|           (4,[0],[1.0])|           (6,[1],[1.0])|           (6,[0],[1.0])|      (4,[0],[1.0])|        (3,[0],[1.0])|         (1,[0],[1.0])|         (5,[0],[1.0])|          (3,[0],[1.0])|         (5,[0],[1.0])|          (5,[0],[1.0])|         (6,[0],[1.0])|           (3,[0],[1.0])|         (5,[0],[1.0])|         (5,[0],[1.0])|         (2,[0],[1.0])|     (3,[0],[1.0])|    (4,[1],[1.0])|          (3,[1],[1.0])|       (8,[0],[1.0])|            (5,[0],[1.0])|          (7,[0],[1.0])|           (2,[1],[1.0])|           (2,[0],[1.0])|       (3,[1],[1.0])|       (2,[1],[1.0])|           (7,[3],[1.0])|           (3,[0],[1.0])|         (3,[0],[1.0])|         (4,[0],[1.0])|       (4,[0],[1.0])|(247,[0,4,5,8,10,...|  128622.98199235118|\n",
            "|  7|        20|         75|  10084|   AllPub|     Somerst|          8|     2004|        2005|       186|      1369|         0|      317|       1686|    1694|       0|           0|     1694|           7|       2004|       636|       255|         57|            0|        0|          0|      0|     8|  2007|   307000|  [20.0,10084.0,8.0...|           [-0.8843448623676...|       (4,[0],[1.0])|     (1,[0],[1.0])|    (2,[0],[1.0])|       (3,[0],[1.0])|          (3,[0],[1.0])|        (4,[0],[1.0])|        (2,[0],[1.0])|         (8,[0],[1.0])|         (5,[0],[1.0])|       (4,[0],[1.0])|         (7,[0],[1.0])|        (4,[0],[1.0])|       (4,[0],[1.0])|         (13,[0],[1.0])|         (14,[0],[1.0])|         (4,[2],[1.0])|        (3,[1],[1.0])|        (4,[0],[1.0])|         (5,[0],[1.0])|       (4,[2],[1.0])|       (4,[0],[1.0])|           (4,[1],[1.0])|           (6,[1],[1.0])|           (6,[0],[1.0])|      (4,[0],[1.0])|        (3,[0],[1.0])|         (1,[0],[1.0])|         (5,[0],[1.0])|          (3,[1],[1.0])|         (5,[0],[1.0])|          (5,[1],[1.0])|         (6,[0],[1.0])|           (3,[1],[1.0])|         (5,[0],[1.0])|         (5,[0],[1.0])|         (2,[0],[1.0])|     (3,[0],[1.0])|    (4,[0],[1.0])|          (3,[0],[1.0])|       (8,[0],[1.0])|            (5,[0],[1.0])|          (7,[0],[1.0])|           (2,[1],[1.0])|           (2,[0],[1.0])|       (3,[0],[1.0])|       (2,[0],[1.0])|           (7,[0],[1.0])|           (3,[0],[1.0])|         (3,[1],[1.0])|         (4,[0],[1.0])|       (4,[0],[1.0])|(247,[0,4,5,7,10,...|  282055.03279826685|\n",
            "+---+----------+-----------+-------+---------+------------+-----------+---------+------------+----------+----------+----------+---------+-----------+--------+--------+------------+---------+------------+-----------+----------+----------+-----------+-------------+---------+-----------+-------+------+------+---------+----------------------+-------------------------------+--------------------+------------------+-----------------+--------------------+-----------------------+---------------------+---------------------+----------------------+----------------------+--------------------+----------------------+---------------------+--------------------+-----------------------+-----------------------+----------------------+---------------------+---------------------+----------------------+--------------------+--------------------+------------------------+------------------------+------------------------+-------------------+---------------------+----------------------+----------------------+-----------------------+----------------------+-----------------------+----------------------+------------------------+----------------------+----------------------+----------------------+------------------+-----------------+-----------------------+--------------------+-------------------------+-----------------------+------------------------+------------------------+--------------------+--------------------+------------------------+------------------------+----------------------+----------------------+--------------------+--------------------+--------------------+\n",
            "only showing top 5 rows\n",
            "\n"
          ]
        }
      ]
    },
    {
      "cell_type": "code",
      "source": [
        "pred_test_df = lr.transform(test).withColumnRenamed('prediction', 'predicted_sale_price')\n",
        "\n",
        "pred_test_df.show(5)"
      ],
      "metadata": {
        "colab": {
          "base_uri": "https://localhost:8080/"
        },
        "id": "Wvk3np095t4E",
        "outputId": "b8450fbc-529b-479f-98b7-f4cdfa5801c5"
      },
      "execution_count": 88,
      "outputs": [
        {
          "output_type": "stream",
          "name": "stdout",
          "text": [
            "+---+----------+-----------+-------+---------+------------+-----------+---------+------------+----------+----------+----------+---------+-----------+--------+--------+------------+---------+------------+-----------+----------+----------+-----------+-------------+---------+-----------+-------+------+------+---------+----------------------+-------------------------------+--------------------+------------------+-----------------+--------------------+-----------------------+---------------------+---------------------+----------------------+----------------------+--------------------+----------------------+---------------------+--------------------+-----------------------+-----------------------+----------------------+---------------------+---------------------+----------------------+--------------------+--------------------+------------------------+------------------------+------------------------+-------------------+---------------------+----------------------+----------------------+-----------------------+----------------------+-----------------------+----------------------+------------------------+----------------------+----------------------+----------------------+------------------+-----------------+-----------------------+--------------------+-------------------------+-----------------------+------------------------+------------------------+--------------------+--------------------+------------------------+------------------------+----------------------+----------------------+--------------------+--------------------+--------------------+\n",
            "| Id|MSSubClass|LotFrontage|LotArea|Utilities|Neighborhood|OverallQual|YearBuilt|YearRemodAdd|MasVnrArea|BsmtFinSF1|BsmtFinSF2|BsmtUnfSF|TotalBsmtSF|1stFlrSF|2ndFlrSF|LowQualFinSF|GrLivArea|TotRmsAbvGrd|GarageYrBlt|GarageArea|WoodDeckSF|OpenPorchSF|EnclosedPorch|3SsnPorch|ScreenPorch|MiscVal|MoSold|YrSold|SalePrice|numerical_features_lst|scaled_numerical_feature_vector|MSZoning_indexed_ohe|Street_indexed_ohe|Alley_indexed_ohe|LotShape_indexed_ohe|LandContour_indexed_ohe|LotConfig_indexed_ohe|LandSlope_indexed_ohe|Condition1_indexed_ohe|Condition2_indexed_ohe|BldgType_indexed_ohe|HouseStyle_indexed_ohe|RoofStyle_indexed_ohe|RoofMatl_indexed_ohe|Exterior1st_indexed_ohe|Exterior2nd_indexed_ohe|MasVnrType_indexed_ohe|ExterQual_indexed_ohe|ExterCond_indexed_ohe|Foundation_indexed_ohe|BsmtQual_indexed_ohe|BsmtCond_indexed_ohe|BsmtExposure_indexed_ohe|BsmtFinType1_indexed_ohe|BsmtFinType2_indexed_ohe|Heating_indexed_ohe|HeatingQC_indexed_ohe|CentralAir_indexed_ohe|Electrical_indexed_ohe|KitchenQual_indexed_ohe|Functional_indexed_ohe|FireplaceQu_indexed_ohe|GarageType_indexed_ohe|GarageFinish_indexed_ohe|GarageQual_indexed_ohe|GarageCond_indexed_ohe|PavedDrive_indexed_ohe|PoolQC_indexed_ohe|Fence_indexed_ohe|MiscFeature_indexed_ohe|SaleType_indexed_ohe|SaleCondition_indexed_ohe|OverallCond_indexed_ohe|BsmtFullBath_indexed_ohe|BsmtHalfBath_indexed_ohe|FullBath_indexed_ohe|HalfBath_indexed_ohe|BedroomAbvGr_indexed_ohe|KitchenAbvGr_indexed_ohe|Fireplaces_indexed_ohe|GarageCars_indexed_ohe|PoolArea_indexed_ohe|final_feature_vector|predicted_sale_price|\n",
            "+---+----------+-----------+-------+---------+------------+-----------+---------+------------+----------+----------+----------+---------+-----------+--------+--------+------------+---------+------------+-----------+----------+----------+-----------+-------------+---------+-----------+-------+------+------+---------+----------------------+-------------------------------+--------------------+------------------+-----------------+--------------------+-----------------------+---------------------+---------------------+----------------------+----------------------+--------------------+----------------------+---------------------+--------------------+-----------------------+-----------------------+----------------------+---------------------+---------------------+----------------------+--------------------+--------------------+------------------------+------------------------+------------------------+-------------------+---------------------+----------------------+----------------------+-----------------------+----------------------+-----------------------+----------------------+------------------------+----------------------+----------------------+----------------------+------------------+-----------------+-----------------------+--------------------+-------------------------+-----------------------+------------------------+------------------------+--------------------+--------------------+------------------------+------------------------+----------------------+----------------------+--------------------+--------------------+--------------------+\n",
            "|  1|        60|         65|   8450|   AllPub|     CollgCr|          7|     2003|        2003|       196|       706|         0|      150|        856|     856|     854|           0|     1710|           8|       2003|       548|         0|         61|            0|        0|          0|      0|     2|  2008|   208500|  [60.0,8450.0,7.0,...|           [0.03416405104776...|       (4,[0],[1.0])|     (1,[0],[1.0])|    (2,[0],[1.0])|       (3,[0],[1.0])|          (3,[0],[1.0])|        (4,[0],[1.0])|        (2,[0],[1.0])|         (8,[0],[1.0])|         (5,[0],[1.0])|       (4,[0],[1.0])|         (7,[1],[1.0])|        (4,[0],[1.0])|       (4,[0],[1.0])|         (13,[0],[1.0])|         (14,[0],[1.0])|         (4,[1],[1.0])|        (3,[1],[1.0])|        (4,[0],[1.0])|         (5,[0],[1.0])|       (4,[1],[1.0])|       (4,[0],[1.0])|           (4,[0],[1.0])|           (6,[1],[1.0])|           (6,[0],[1.0])|      (4,[0],[1.0])|        (3,[0],[1.0])|         (1,[0],[1.0])|         (5,[0],[1.0])|          (3,[1],[1.0])|         (5,[0],[1.0])|          (5,[0],[1.0])|         (6,[0],[1.0])|           (3,[1],[1.0])|         (5,[0],[1.0])|         (5,[0],[1.0])|         (2,[0],[1.0])|     (3,[0],[1.0])|    (4,[0],[1.0])|          (3,[0],[1.0])|       (8,[0],[1.0])|            (5,[0],[1.0])|          (7,[0],[1.0])|           (2,[1],[1.0])|           (2,[0],[1.0])|       (3,[0],[1.0])|       (2,[1],[1.0])|           (7,[0],[1.0])|           (3,[0],[1.0])|         (3,[0],[1.0])|         (4,[0],[1.0])|       (4,[0],[1.0])|(247,[0,4,5,7,10,...|  208456.98608612228|\n",
            "|  2|        20|         80|   9600|   AllPub|     Veenker|          6|     1976|        1976|         0|       978|         0|      284|       1262|    1262|       0|           0|     1262|           6|       1976|       460|       298|          0|            0|        0|          0|      0|     5|  2007|   181500|  [20.0,9600.0,6.0,...|           [-0.8843448623676...|       (4,[0],[1.0])|     (1,[0],[1.0])|    (2,[0],[1.0])|       (3,[0],[1.0])|          (3,[0],[1.0])|        (4,[3],[1.0])|        (2,[0],[1.0])|         (8,[1],[1.0])|         (5,[0],[1.0])|       (4,[0],[1.0])|         (7,[0],[1.0])|        (4,[0],[1.0])|       (4,[0],[1.0])|         (13,[1],[1.0])|         (14,[1],[1.0])|         (4,[0],[1.0])|        (3,[0],[1.0])|        (4,[0],[1.0])|         (5,[1],[1.0])|       (4,[1],[1.0])|       (4,[0],[1.0])|           (4,[3],[1.0])|           (6,[2],[1.0])|           (6,[0],[1.0])|      (4,[0],[1.0])|        (3,[0],[1.0])|         (1,[0],[1.0])|         (5,[0],[1.0])|          (3,[0],[1.0])|         (5,[0],[1.0])|          (5,[2],[1.0])|         (6,[0],[1.0])|           (3,[1],[1.0])|         (5,[0],[1.0])|         (5,[0],[1.0])|         (2,[0],[1.0])|     (3,[0],[1.0])|    (4,[0],[1.0])|          (3,[0],[1.0])|       (8,[0],[1.0])|            (5,[0],[1.0])|          (7,[3],[1.0])|           (2,[0],[1.0])|           (2,[1],[1.0])|       (3,[0],[1.0])|       (2,[0],[1.0])|           (7,[0],[1.0])|           (3,[0],[1.0])|         (3,[1],[1.0])|         (4,[0],[1.0])|       (4,[0],[1.0])|(247,[0,4,5,7,10,...|      187626.9871505|\n",
            "|  5|        60|         84|  14260|   AllPub|     NoRidge|          8|     2000|        2000|       350|       655|         0|      490|       1145|    1145|    1053|           0|     2198|           9|       2000|       836|       192|         84|            0|        0|          0|      0|    12|  2008|   250000|  [60.0,14260.0,8.0...|           [0.03416405104776...|       (4,[0],[1.0])|     (1,[0],[1.0])|    (2,[0],[1.0])|       (3,[1],[1.0])|          (3,[0],[1.0])|        (4,[3],[1.0])|        (2,[0],[1.0])|         (8,[0],[1.0])|         (5,[0],[1.0])|       (4,[0],[1.0])|         (7,[1],[1.0])|        (4,[0],[1.0])|       (4,[0],[1.0])|         (13,[0],[1.0])|         (14,[0],[1.0])|         (4,[1],[1.0])|        (3,[1],[1.0])|        (4,[0],[1.0])|         (5,[0],[1.0])|       (4,[1],[1.0])|       (4,[0],[1.0])|           (4,[1],[1.0])|           (6,[1],[1.0])|           (6,[0],[1.0])|      (4,[0],[1.0])|        (3,[0],[1.0])|         (1,[0],[1.0])|         (5,[0],[1.0])|          (3,[1],[1.0])|         (5,[0],[1.0])|          (5,[2],[1.0])|         (6,[0],[1.0])|           (3,[1],[1.0])|         (5,[0],[1.0])|         (5,[0],[1.0])|         (2,[0],[1.0])|     (3,[0],[1.0])|    (4,[0],[1.0])|          (3,[0],[1.0])|       (8,[0],[1.0])|            (5,[0],[1.0])|          (7,[0],[1.0])|           (2,[1],[1.0])|           (2,[0],[1.0])|       (3,[0],[1.0])|       (2,[1],[1.0])|           (7,[2],[1.0])|           (3,[0],[1.0])|         (3,[1],[1.0])|         (4,[2],[1.0])|       (4,[0],[1.0])|(247,[0,4,5,8,10,...|  283454.18072779145|\n",
            "|  6|        50|         85|  14115|   AllPub|     Mitchel|          5|     1993|        1995|         0|       732|         0|       64|        796|     796|     566|           0|     1362|           5|       1993|       480|        40|         30|            0|      320|          0|    700|    10|  2009|   143000|  [50.0,14115.0,5.0...|           [-0.1954631773060...|       (4,[0],[1.0])|     (1,[0],[1.0])|    (2,[0],[1.0])|       (3,[1],[1.0])|          (3,[0],[1.0])|        (4,[0],[1.0])|        (2,[0],[1.0])|         (8,[0],[1.0])|         (5,[0],[1.0])|       (4,[0],[1.0])|         (7,[2],[1.0])|        (4,[0],[1.0])|       (4,[0],[1.0])|         (13,[0],[1.0])|         (14,[0],[1.0])|         (4,[0],[1.0])|        (3,[0],[1.0])|        (4,[0],[1.0])|             (5,[],[])|       (4,[1],[1.0])|       (4,[0],[1.0])|           (4,[0],[1.0])|           (6,[1],[1.0])|           (6,[0],[1.0])|      (4,[0],[1.0])|        (3,[0],[1.0])|         (1,[0],[1.0])|         (5,[0],[1.0])|          (3,[0],[1.0])|         (5,[0],[1.0])|          (5,[0],[1.0])|         (6,[0],[1.0])|           (3,[0],[1.0])|         (5,[0],[1.0])|         (5,[0],[1.0])|         (2,[0],[1.0])|     (3,[0],[1.0])|    (4,[1],[1.0])|          (3,[1],[1.0])|       (8,[0],[1.0])|            (5,[0],[1.0])|          (7,[0],[1.0])|           (2,[1],[1.0])|           (2,[0],[1.0])|       (3,[1],[1.0])|       (2,[1],[1.0])|           (7,[3],[1.0])|           (3,[0],[1.0])|         (3,[0],[1.0])|         (4,[0],[1.0])|       (4,[0],[1.0])|(247,[0,4,5,8,10,...|  128622.98199235118|\n",
            "|  7|        20|         75|  10084|   AllPub|     Somerst|          8|     2004|        2005|       186|      1369|         0|      317|       1686|    1694|       0|           0|     1694|           7|       2004|       636|       255|         57|            0|        0|          0|      0|     8|  2007|   307000|  [20.0,10084.0,8.0...|           [-0.8843448623676...|       (4,[0],[1.0])|     (1,[0],[1.0])|    (2,[0],[1.0])|       (3,[0],[1.0])|          (3,[0],[1.0])|        (4,[0],[1.0])|        (2,[0],[1.0])|         (8,[0],[1.0])|         (5,[0],[1.0])|       (4,[0],[1.0])|         (7,[0],[1.0])|        (4,[0],[1.0])|       (4,[0],[1.0])|         (13,[0],[1.0])|         (14,[0],[1.0])|         (4,[2],[1.0])|        (3,[1],[1.0])|        (4,[0],[1.0])|         (5,[0],[1.0])|       (4,[2],[1.0])|       (4,[0],[1.0])|           (4,[1],[1.0])|           (6,[1],[1.0])|           (6,[0],[1.0])|      (4,[0],[1.0])|        (3,[0],[1.0])|         (1,[0],[1.0])|         (5,[0],[1.0])|          (3,[1],[1.0])|         (5,[0],[1.0])|          (5,[1],[1.0])|         (6,[0],[1.0])|           (3,[1],[1.0])|         (5,[0],[1.0])|         (5,[0],[1.0])|         (2,[0],[1.0])|     (3,[0],[1.0])|    (4,[0],[1.0])|          (3,[0],[1.0])|       (8,[0],[1.0])|            (5,[0],[1.0])|          (7,[0],[1.0])|           (2,[1],[1.0])|           (2,[0],[1.0])|       (3,[0],[1.0])|       (2,[0],[1.0])|           (7,[0],[1.0])|           (3,[0],[1.0])|         (3,[1],[1.0])|         (4,[0],[1.0])|       (4,[0],[1.0])|(247,[0,4,5,7,10,...|  282055.03279826685|\n",
            "+---+----------+-----------+-------+---------+------------+-----------+---------+------------+----------+----------+----------+---------+-----------+--------+--------+------------+---------+------------+-----------+----------+----------+-----------+-------------+---------+-----------+-------+------+------+---------+----------------------+-------------------------------+--------------------+------------------+-----------------+--------------------+-----------------------+---------------------+---------------------+----------------------+----------------------+--------------------+----------------------+---------------------+--------------------+-----------------------+-----------------------+----------------------+---------------------+---------------------+----------------------+--------------------+--------------------+------------------------+------------------------+------------------------+-------------------+---------------------+----------------------+----------------------+-----------------------+----------------------+-----------------------+----------------------+------------------------+----------------------+----------------------+----------------------+------------------+-----------------+-----------------------+--------------------+-------------------------+-----------------------+------------------------+------------------------+--------------------+--------------------+------------------------+------------------------+----------------------+----------------------+--------------------+--------------------+--------------------+\n",
            "only showing top 5 rows\n",
            "\n"
          ]
        }
      ]
    },
    {
      "cell_type": "code",
      "source": [
        "pred_test_pd_df = pred_test_df.toPandas()\n",
        "\n",
        "pred_test_pd_df.head(2)"
      ],
      "metadata": {
        "colab": {
          "base_uri": "https://localhost:8080/",
          "height": 240
        },
        "id": "Kaf7suJz5_pA",
        "outputId": "43ae7aa5-35fc-4118-d6ad-5223f25693d6"
      },
      "execution_count": 90,
      "outputs": [
        {
          "output_type": "execute_result",
          "data": {
            "text/plain": [
              "   Id  MSSubClass  LotFrontage  LotArea Utilities Neighborhood  OverallQual  \\\n",
              "0   1          60           65     8450    AllPub      CollgCr            7   \n",
              "1   2          20           80     9600    AllPub      Veenker            6   \n",
              "\n",
              "   YearBuilt  YearRemodAdd MasVnrArea  ...  BsmtHalfBath_indexed_ohe  \\\n",
              "0       2003          2003        196  ...                (1.0, 0.0)   \n",
              "1       1976          1976          0  ...                (0.0, 1.0)   \n",
              "\n",
              "   FullBath_indexed_ohe  HalfBath_indexed_ohe  \\\n",
              "0       (1.0, 0.0, 0.0)            (0.0, 1.0)   \n",
              "1       (1.0, 0.0, 0.0)            (1.0, 0.0)   \n",
              "\n",
              "              BedroomAbvGr_indexed_ohe  KitchenAbvGr_indexed_ohe  \\\n",
              "0  (1.0, 0.0, 0.0, 0.0, 0.0, 0.0, 0.0)           (1.0, 0.0, 0.0)   \n",
              "1  (1.0, 0.0, 0.0, 0.0, 0.0, 0.0, 0.0)           (1.0, 0.0, 0.0)   \n",
              "\n",
              "   Fireplaces_indexed_ohe  GarageCars_indexed_ohe  PoolArea_indexed_ohe  \\\n",
              "0         (1.0, 0.0, 0.0)    (1.0, 0.0, 0.0, 0.0)  (1.0, 0.0, 0.0, 0.0)   \n",
              "1         (0.0, 1.0, 0.0)    (1.0, 0.0, 0.0, 0.0)  (1.0, 0.0, 0.0, 0.0)   \n",
              "\n",
              "                                final_feature_vector predicted_sale_price  \n",
              "0  (1.0, 0.0, 0.0, 0.0, 1.0, 1.0, 0.0, 1.0, 0.0, ...        208456.986086  \n",
              "1  (1.0, 0.0, 0.0, 0.0, 1.0, 1.0, 0.0, 1.0, 0.0, ...        187626.987151  \n",
              "\n",
              "[2 rows x 85 columns]"
            ],
            "text/html": [
              "\n",
              "  <div id=\"df-b353da0f-8532-4592-b911-ada100c68c2f\">\n",
              "    <div class=\"colab-df-container\">\n",
              "      <div>\n",
              "<style scoped>\n",
              "    .dataframe tbody tr th:only-of-type {\n",
              "        vertical-align: middle;\n",
              "    }\n",
              "\n",
              "    .dataframe tbody tr th {\n",
              "        vertical-align: top;\n",
              "    }\n",
              "\n",
              "    .dataframe thead th {\n",
              "        text-align: right;\n",
              "    }\n",
              "</style>\n",
              "<table border=\"1\" class=\"dataframe\">\n",
              "  <thead>\n",
              "    <tr style=\"text-align: right;\">\n",
              "      <th></th>\n",
              "      <th>Id</th>\n",
              "      <th>MSSubClass</th>\n",
              "      <th>LotFrontage</th>\n",
              "      <th>LotArea</th>\n",
              "      <th>Utilities</th>\n",
              "      <th>Neighborhood</th>\n",
              "      <th>OverallQual</th>\n",
              "      <th>YearBuilt</th>\n",
              "      <th>YearRemodAdd</th>\n",
              "      <th>MasVnrArea</th>\n",
              "      <th>...</th>\n",
              "      <th>BsmtHalfBath_indexed_ohe</th>\n",
              "      <th>FullBath_indexed_ohe</th>\n",
              "      <th>HalfBath_indexed_ohe</th>\n",
              "      <th>BedroomAbvGr_indexed_ohe</th>\n",
              "      <th>KitchenAbvGr_indexed_ohe</th>\n",
              "      <th>Fireplaces_indexed_ohe</th>\n",
              "      <th>GarageCars_indexed_ohe</th>\n",
              "      <th>PoolArea_indexed_ohe</th>\n",
              "      <th>final_feature_vector</th>\n",
              "      <th>predicted_sale_price</th>\n",
              "    </tr>\n",
              "  </thead>\n",
              "  <tbody>\n",
              "    <tr>\n",
              "      <th>0</th>\n",
              "      <td>1</td>\n",
              "      <td>60</td>\n",
              "      <td>65</td>\n",
              "      <td>8450</td>\n",
              "      <td>AllPub</td>\n",
              "      <td>CollgCr</td>\n",
              "      <td>7</td>\n",
              "      <td>2003</td>\n",
              "      <td>2003</td>\n",
              "      <td>196</td>\n",
              "      <td>...</td>\n",
              "      <td>(1.0, 0.0)</td>\n",
              "      <td>(1.0, 0.0, 0.0)</td>\n",
              "      <td>(0.0, 1.0)</td>\n",
              "      <td>(1.0, 0.0, 0.0, 0.0, 0.0, 0.0, 0.0)</td>\n",
              "      <td>(1.0, 0.0, 0.0)</td>\n",
              "      <td>(1.0, 0.0, 0.0)</td>\n",
              "      <td>(1.0, 0.0, 0.0, 0.0)</td>\n",
              "      <td>(1.0, 0.0, 0.0, 0.0)</td>\n",
              "      <td>(1.0, 0.0, 0.0, 0.0, 1.0, 1.0, 0.0, 1.0, 0.0, ...</td>\n",
              "      <td>208456.986086</td>\n",
              "    </tr>\n",
              "    <tr>\n",
              "      <th>1</th>\n",
              "      <td>2</td>\n",
              "      <td>20</td>\n",
              "      <td>80</td>\n",
              "      <td>9600</td>\n",
              "      <td>AllPub</td>\n",
              "      <td>Veenker</td>\n",
              "      <td>6</td>\n",
              "      <td>1976</td>\n",
              "      <td>1976</td>\n",
              "      <td>0</td>\n",
              "      <td>...</td>\n",
              "      <td>(0.0, 1.0)</td>\n",
              "      <td>(1.0, 0.0, 0.0)</td>\n",
              "      <td>(1.0, 0.0)</td>\n",
              "      <td>(1.0, 0.0, 0.0, 0.0, 0.0, 0.0, 0.0)</td>\n",
              "      <td>(1.0, 0.0, 0.0)</td>\n",
              "      <td>(0.0, 1.0, 0.0)</td>\n",
              "      <td>(1.0, 0.0, 0.0, 0.0)</td>\n",
              "      <td>(1.0, 0.0, 0.0, 0.0)</td>\n",
              "      <td>(1.0, 0.0, 0.0, 0.0, 1.0, 1.0, 0.0, 1.0, 0.0, ...</td>\n",
              "      <td>187626.987151</td>\n",
              "    </tr>\n",
              "  </tbody>\n",
              "</table>\n",
              "<p>2 rows × 85 columns</p>\n",
              "</div>\n",
              "      <button class=\"colab-df-convert\" onclick=\"convertToInteractive('df-b353da0f-8532-4592-b911-ada100c68c2f')\"\n",
              "              title=\"Convert this dataframe to an interactive table.\"\n",
              "              style=\"display:none;\">\n",
              "        \n",
              "  <svg xmlns=\"http://www.w3.org/2000/svg\" height=\"24px\"viewBox=\"0 0 24 24\"\n",
              "       width=\"24px\">\n",
              "    <path d=\"M0 0h24v24H0V0z\" fill=\"none\"/>\n",
              "    <path d=\"M18.56 5.44l.94 2.06.94-2.06 2.06-.94-2.06-.94-.94-2.06-.94 2.06-2.06.94zm-11 1L8.5 8.5l.94-2.06 2.06-.94-2.06-.94L8.5 2.5l-.94 2.06-2.06.94zm10 10l.94 2.06.94-2.06 2.06-.94-2.06-.94-.94-2.06-.94 2.06-2.06.94z\"/><path d=\"M17.41 7.96l-1.37-1.37c-.4-.4-.92-.59-1.43-.59-.52 0-1.04.2-1.43.59L10.3 9.45l-7.72 7.72c-.78.78-.78 2.05 0 2.83L4 21.41c.39.39.9.59 1.41.59.51 0 1.02-.2 1.41-.59l7.78-7.78 2.81-2.81c.8-.78.8-2.07 0-2.86zM5.41 20L4 18.59l7.72-7.72 1.47 1.35L5.41 20z\"/>\n",
              "  </svg>\n",
              "      </button>\n",
              "      \n",
              "  <style>\n",
              "    .colab-df-container {\n",
              "      display:flex;\n",
              "      flex-wrap:wrap;\n",
              "      gap: 12px;\n",
              "    }\n",
              "\n",
              "    .colab-df-convert {\n",
              "      background-color: #E8F0FE;\n",
              "      border: none;\n",
              "      border-radius: 50%;\n",
              "      cursor: pointer;\n",
              "      display: none;\n",
              "      fill: #1967D2;\n",
              "      height: 32px;\n",
              "      padding: 0 0 0 0;\n",
              "      width: 32px;\n",
              "    }\n",
              "\n",
              "    .colab-df-convert:hover {\n",
              "      background-color: #E2EBFA;\n",
              "      box-shadow: 0px 1px 2px rgba(60, 64, 67, 0.3), 0px 1px 3px 1px rgba(60, 64, 67, 0.15);\n",
              "      fill: #174EA6;\n",
              "    }\n",
              "\n",
              "    [theme=dark] .colab-df-convert {\n",
              "      background-color: #3B4455;\n",
              "      fill: #D2E3FC;\n",
              "    }\n",
              "\n",
              "    [theme=dark] .colab-df-convert:hover {\n",
              "      background-color: #434B5C;\n",
              "      box-shadow: 0px 1px 3px 1px rgba(0, 0, 0, 0.15);\n",
              "      filter: drop-shadow(0px 1px 2px rgba(0, 0, 0, 0.3));\n",
              "      fill: #FFFFFF;\n",
              "    }\n",
              "  </style>\n",
              "\n",
              "      <script>\n",
              "        const buttonEl =\n",
              "          document.querySelector('#df-b353da0f-8532-4592-b911-ada100c68c2f button.colab-df-convert');\n",
              "        buttonEl.style.display =\n",
              "          google.colab.kernel.accessAllowed ? 'block' : 'none';\n",
              "\n",
              "        async function convertToInteractive(key) {\n",
              "          const element = document.querySelector('#df-b353da0f-8532-4592-b911-ada100c68c2f');\n",
              "          const dataTable =\n",
              "            await google.colab.kernel.invokeFunction('convertToInteractive',\n",
              "                                                     [key], {});\n",
              "          if (!dataTable) return;\n",
              "\n",
              "          const docLinkHtml = 'Like what you see? Visit the ' +\n",
              "            '<a target=\"_blank\" href=https://colab.research.google.com/notebooks/data_table.ipynb>data table notebook</a>'\n",
              "            + ' to learn more about interactive tables.';\n",
              "          element.innerHTML = '';\n",
              "          dataTable['output_type'] = 'display_data';\n",
              "          await google.colab.output.renderOutput(dataTable, element);\n",
              "          const docLink = document.createElement('div');\n",
              "          docLink.innerHTML = docLinkHtml;\n",
              "          element.appendChild(docLink);\n",
              "        }\n",
              "      </script>\n",
              "    </div>\n",
              "  </div>\n",
              "  "
            ]
          },
          "metadata": {},
          "execution_count": 90
        }
      ]
    },
    {
      "cell_type": "code",
      "source": [
        "predictions_and_actuals = pred_test_df[['predicted_sale_price',\n",
        "                                        'SalePrice']]\n",
        "                                    \n",
        "predictions_and_actuals_rdd = predictions_and_actuals.rdd\n",
        "\n",
        "predictions_and_actuals_rdd.take(2)"
      ],
      "metadata": {
        "colab": {
          "base_uri": "https://localhost:8080/"
        },
        "id": "Kdgpc4RM6Q1t",
        "outputId": "72511282-2f12-4397-fe4c-ae0b8386217c"
      },
      "execution_count": 91,
      "outputs": [
        {
          "output_type": "execute_result",
          "data": {
            "text/plain": [
              "[Row(predicted_sale_price=208456.98608612228, SalePrice=208500),\n",
              " Row(predicted_sale_price=187626.9871505, SalePrice=181500)]"
            ]
          },
          "metadata": {},
          "execution_count": 91
        }
      ]
    },
    {
      "cell_type": "code",
      "source": [
        "predictions_and_actuals_rdd = predictions_and_actuals_rdd.map(tuple)\n",
        "\n",
        "predictions_and_actuals_rdd.take(2)"
      ],
      "metadata": {
        "colab": {
          "base_uri": "https://localhost:8080/"
        },
        "id": "LJgjFszP6g2C",
        "outputId": "8495cdb2-e585-4730-9433-0c96762c140b"
      },
      "execution_count": 92,
      "outputs": [
        {
          "output_type": "execute_result",
          "data": {
            "text/plain": [
              "[(208456.98608612228, 208500), (187626.9871505, 181500)]"
            ]
          },
          "metadata": {},
          "execution_count": 92
        }
      ]
    },
    {
      "cell_type": "code",
      "source": [
        "# from pyspark.mllib.evaluation import RegressionMetrics\n",
        "from pyspark.ml.evaluation import RegressionEvaluator\n",
        "evaluator = RegressionEvaluator()\n",
        "\n",
        "evaluator.setLabelCol(\"SalePrice\")\n",
        "evaluator.setPredictionCol(\"predicted_sale_price\")\n",
        "\n",
        "mse = evaluator.evaluate(predictions_and_actuals, {evaluator.metricName: \"mse\"})\n",
        "rmse = evaluator.evaluate(predictions_and_actuals, {evaluator.metricName: \"rmse\"})\n",
        "r2 = evaluator.evaluate(predictions_and_actuals, {evaluator.metricName: \"r2\"})\n",
        "\n",
        "s = '''\n",
        "Mean Squared Error:      {0}\n",
        "Root Mean Squared Error: {1}\n",
        "R**2:                    {2}\n",
        "'''.format(mse,\n",
        "           rmse,\n",
        "           r2\n",
        "           )\n",
        "\n",
        "print(s)"
      ],
      "metadata": {
        "colab": {
          "base_uri": "https://localhost:8080/"
        },
        "id": "RDxjU_076lAl",
        "outputId": "6af7154c-229d-4939-f017-24ce90ddd6e3"
      },
      "execution_count": 98,
      "outputs": [
        {
          "output_type": "stream",
          "name": "stdout",
          "text": [
            "\n",
            "Mean Squared Error:      380896254.0126318\n",
            "Root Mean Squared Error: 19516.563581036284\n",
            "R**2:                    0.9479908968530074\n",
            "\n"
          ]
        }
      ]
    }
  ]
}